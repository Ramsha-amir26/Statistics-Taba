{
 "cells": [
  {
   "cell_type": "code",
   "execution_count": 1,
   "metadata": {
    "vscode": {
     "languageId": "r"
    }
   },
   "outputs": [
    {
     "name": "stderr",
     "output_type": "stream",
     "text": [
      "Warning message:\n",
      "\"package 'ggplot2' was built under R version 4.3.3\"\n"
     ]
    },
    {
     "name": "stderr",
     "output_type": "stream",
     "text": [
      "\n",
      "Attaching package: 'dplyr'\n",
      "\n",
      "\n",
      "The following objects are masked from 'package:stats':\n",
      "\n",
      "    filter, lag\n",
      "\n",
      "\n",
      "The following objects are masked from 'package:base':\n",
      "\n",
      "    intersect, setdiff, setequal, union\n",
      "\n",
      "\n",
      "Warning message:\n",
      "\"package 'caret' was built under R version 4.3.3\"\n",
      "Loading required package: lattice\n",
      "\n"
     ]
    }
   ],
   "source": [
    "library(ggplot2)\n",
    "library(dplyr)\n",
    "library(tidyr)\n",
    "library(caret)"
   ]
  },
  {
   "cell_type": "code",
   "execution_count": 2,
   "metadata": {
    "vscode": {
     "languageId": "r"
    }
   },
   "outputs": [
    {
     "data": {
      "text/html": [
       "<table class=\"dataframe\">\n",
       "<caption>A data.frame: 6 × 31</caption>\n",
       "<thead>\n",
       "\t<tr><th></th><th scope=col>Time</th><th scope=col>V1</th><th scope=col>V2</th><th scope=col>V3</th><th scope=col>V4</th><th scope=col>V5</th><th scope=col>V6</th><th scope=col>V7</th><th scope=col>V8</th><th scope=col>V9</th><th scope=col>⋯</th><th scope=col>V21</th><th scope=col>V22</th><th scope=col>V23</th><th scope=col>V24</th><th scope=col>V25</th><th scope=col>V26</th><th scope=col>V27</th><th scope=col>V28</th><th scope=col>Amount</th><th scope=col>Class</th></tr>\n",
       "\t<tr><th></th><th scope=col>&lt;dbl&gt;</th><th scope=col>&lt;dbl&gt;</th><th scope=col>&lt;dbl&gt;</th><th scope=col>&lt;dbl&gt;</th><th scope=col>&lt;dbl&gt;</th><th scope=col>&lt;dbl&gt;</th><th scope=col>&lt;dbl&gt;</th><th scope=col>&lt;dbl&gt;</th><th scope=col>&lt;dbl&gt;</th><th scope=col>&lt;dbl&gt;</th><th scope=col>⋯</th><th scope=col>&lt;dbl&gt;</th><th scope=col>&lt;dbl&gt;</th><th scope=col>&lt;dbl&gt;</th><th scope=col>&lt;dbl&gt;</th><th scope=col>&lt;dbl&gt;</th><th scope=col>&lt;dbl&gt;</th><th scope=col>&lt;dbl&gt;</th><th scope=col>&lt;dbl&gt;</th><th scope=col>&lt;dbl&gt;</th><th scope=col>&lt;int&gt;</th></tr>\n",
       "</thead>\n",
       "<tbody>\n",
       "\t<tr><th scope=row>1</th><td>0</td><td>-0.6980436</td><td>-0.04419812</td><td>1.6811673</td><td> 0.9745233</td><td>-0.245692619</td><td> 0.34715606</td><td> 0.19516625</td><td> 0.08370937</td><td> 0.3320762</td><td>⋯</td><td>-0.02528877</td><td> 0.38346201</td><td>-0.17712600</td><td> 0.1105104</td><td> 0.2466123</td><td>-0.3923114</td><td> 0.33748690</td><td>-0.06418093</td><td>149.62</td><td>0</td></tr>\n",
       "\t<tr><th scope=row>2</th><td>0</td><td> 0.6118281</td><td> 0.16162642</td><td>0.1103481</td><td> 0.3168994</td><td> 0.043585540</td><td>-0.06183566</td><td>-0.06418938</td><td> 0.07217789</td><td>-0.2331601</td><td>⋯</td><td>-0.31188331</td><td>-0.88147339</td><td> 0.16239800</td><td>-0.5611484</td><td> 0.3207289</td><td> 0.2611633</td><td>-0.02269927</td><td> 0.04488712</td><td>  2.69</td><td>0</td></tr>\n",
       "\t<tr><th scope=row>3</th><td>1</td><td>-0.6972977</td><td>-0.81384628</td><td>1.1753368</td><td> 0.2685503</td><td>-0.365428546</td><td> 1.35179670</td><td> 0.64468863</td><td> 0.21006306</td><td>-1.3826241</td><td>⋯</td><td> 0.34258177</td><td> 1.06504576</td><td> 1.45808689</td><td>-1.1381284</td><td>-0.6286053</td><td>-0.2885504</td><td>-0.13987025</td><td>-0.18215547</td><td>378.66</td><td>0</td></tr>\n",
       "\t<tr><th scope=row>4</th><td>1</td><td>-0.4960260</td><td>-0.11248295</td><td>1.1884502</td><td>-0.6104519</td><td>-0.007486433</td><td> 0.93638751</td><td> 0.19354560</td><td> 0.32011743</td><td>-1.2661192</td><td>⋯</td><td>-0.14960499</td><td> 0.00727844</td><td>-0.30514637</td><td>-1.9410890</td><td> 1.2420391</td><td>-0.4603827</td><td> 0.15849354</td><td> 0.18735562</td><td>123.50</td><td>0</td></tr>\n",
       "\t<tr><th scope=row>5</th><td>2</td><td>-0.5945675</td><td> 0.53302677</td><td>1.0265370</td><td> 0.2849940</td><td>-0.295708736</td><td> 0.07201686</td><td> 0.48298296</td><td>-0.22944885</td><td> 0.7464582</td><td>⋯</td><td>-0.01302746</td><td> 1.10175693</td><td>-0.22039050</td><td> 0.2332575</td><td>-0.3952447</td><td> 1.0419856</td><td> 0.55445514</td><td> 0.65590152</td><td> 69.99</td><td>0</td></tr>\n",
       "\t<tr><th scope=row>6</th><td>2</td><td>-0.2186654</td><td> 0.58330073</td><td>0.7563618</td><td>-0.1189747</td><td> 0.305725744</td><td>-0.02231914</td><td> 0.38789196</td><td> 0.22078229</td><td>-0.5191011</td><td>⋯</td><td>-0.28767899</td><td>-0.77265121</td><td>-0.04232414</td><td>-0.6132929</td><td>-0.4466323</td><td> 0.2197161</td><td> 0.64143563</td><td> 0.24717586</td><td>  3.67</td><td>0</td></tr>\n",
       "</tbody>\n",
       "</table>\n"
      ],
      "text/latex": [
       "A data.frame: 6 × 31\n",
       "\\begin{tabular}{r|lllllllllllllllllllll}\n",
       "  & Time & V1 & V2 & V3 & V4 & V5 & V6 & V7 & V8 & V9 & ⋯ & V21 & V22 & V23 & V24 & V25 & V26 & V27 & V28 & Amount & Class\\\\\n",
       "  & <dbl> & <dbl> & <dbl> & <dbl> & <dbl> & <dbl> & <dbl> & <dbl> & <dbl> & <dbl> & ⋯ & <dbl> & <dbl> & <dbl> & <dbl> & <dbl> & <dbl> & <dbl> & <dbl> & <dbl> & <int>\\\\\n",
       "\\hline\n",
       "\t1 & 0 & -0.6980436 & -0.04419812 & 1.6811673 &  0.9745233 & -0.245692619 &  0.34715606 &  0.19516625 &  0.08370937 &  0.3320762 & ⋯ & -0.02528877 &  0.38346201 & -0.17712600 &  0.1105104 &  0.2466123 & -0.3923114 &  0.33748690 & -0.06418093 & 149.62 & 0\\\\\n",
       "\t2 & 0 &  0.6118281 &  0.16162642 & 0.1103481 &  0.3168994 &  0.043585540 & -0.06183566 & -0.06418938 &  0.07217789 & -0.2331601 & ⋯ & -0.31188331 & -0.88147339 &  0.16239800 & -0.5611484 &  0.3207289 &  0.2611633 & -0.02269927 &  0.04488712 &   2.69 & 0\\\\\n",
       "\t3 & 1 & -0.6972977 & -0.81384628 & 1.1753368 &  0.2685503 & -0.365428546 &  1.35179670 &  0.64468863 &  0.21006306 & -1.3826241 & ⋯ &  0.34258177 &  1.06504576 &  1.45808689 & -1.1381284 & -0.6286053 & -0.2885504 & -0.13987025 & -0.18215547 & 378.66 & 0\\\\\n",
       "\t4 & 1 & -0.4960260 & -0.11248295 & 1.1884502 & -0.6104519 & -0.007486433 &  0.93638751 &  0.19354560 &  0.32011743 & -1.2661192 & ⋯ & -0.14960499 &  0.00727844 & -0.30514637 & -1.9410890 &  1.2420391 & -0.4603827 &  0.15849354 &  0.18735562 & 123.50 & 0\\\\\n",
       "\t5 & 2 & -0.5945675 &  0.53302677 & 1.0265370 &  0.2849940 & -0.295708736 &  0.07201686 &  0.48298296 & -0.22944885 &  0.7464582 & ⋯ & -0.01302746 &  1.10175693 & -0.22039050 &  0.2332575 & -0.3952447 &  1.0419856 &  0.55445514 &  0.65590152 &  69.99 & 0\\\\\n",
       "\t6 & 2 & -0.2186654 &  0.58330073 & 0.7563618 & -0.1189747 &  0.305725744 & -0.02231914 &  0.38789196 &  0.22078229 & -0.5191011 & ⋯ & -0.28767899 & -0.77265121 & -0.04232414 & -0.6132929 & -0.4466323 &  0.2197161 &  0.64143563 &  0.24717586 &   3.67 & 0\\\\\n",
       "\\end{tabular}\n"
      ],
      "text/markdown": [
       "\n",
       "A data.frame: 6 × 31\n",
       "\n",
       "| <!--/--> | Time &lt;dbl&gt; | V1 &lt;dbl&gt; | V2 &lt;dbl&gt; | V3 &lt;dbl&gt; | V4 &lt;dbl&gt; | V5 &lt;dbl&gt; | V6 &lt;dbl&gt; | V7 &lt;dbl&gt; | V8 &lt;dbl&gt; | V9 &lt;dbl&gt; | ⋯ ⋯ | V21 &lt;dbl&gt; | V22 &lt;dbl&gt; | V23 &lt;dbl&gt; | V24 &lt;dbl&gt; | V25 &lt;dbl&gt; | V26 &lt;dbl&gt; | V27 &lt;dbl&gt; | V28 &lt;dbl&gt; | Amount &lt;dbl&gt; | Class &lt;int&gt; |\n",
       "|---|---|---|---|---|---|---|---|---|---|---|---|---|---|---|---|---|---|---|---|---|---|\n",
       "| 1 | 0 | -0.6980436 | -0.04419812 | 1.6811673 |  0.9745233 | -0.245692619 |  0.34715606 |  0.19516625 |  0.08370937 |  0.3320762 | ⋯ | -0.02528877 |  0.38346201 | -0.17712600 |  0.1105104 |  0.2466123 | -0.3923114 |  0.33748690 | -0.06418093 | 149.62 | 0 |\n",
       "| 2 | 0 |  0.6118281 |  0.16162642 | 0.1103481 |  0.3168994 |  0.043585540 | -0.06183566 | -0.06418938 |  0.07217789 | -0.2331601 | ⋯ | -0.31188331 | -0.88147339 |  0.16239800 | -0.5611484 |  0.3207289 |  0.2611633 | -0.02269927 |  0.04488712 |   2.69 | 0 |\n",
       "| 3 | 1 | -0.6972977 | -0.81384628 | 1.1753368 |  0.2685503 | -0.365428546 |  1.35179670 |  0.64468863 |  0.21006306 | -1.3826241 | ⋯ |  0.34258177 |  1.06504576 |  1.45808689 | -1.1381284 | -0.6286053 | -0.2885504 | -0.13987025 | -0.18215547 | 378.66 | 0 |\n",
       "| 4 | 1 | -0.4960260 | -0.11248295 | 1.1884502 | -0.6104519 | -0.007486433 |  0.93638751 |  0.19354560 |  0.32011743 | -1.2661192 | ⋯ | -0.14960499 |  0.00727844 | -0.30514637 | -1.9410890 |  1.2420391 | -0.4603827 |  0.15849354 |  0.18735562 | 123.50 | 0 |\n",
       "| 5 | 2 | -0.5945675 |  0.53302677 | 1.0265370 |  0.2849940 | -0.295708736 |  0.07201686 |  0.48298296 | -0.22944885 |  0.7464582 | ⋯ | -0.01302746 |  1.10175693 | -0.22039050 |  0.2332575 | -0.3952447 |  1.0419856 |  0.55445514 |  0.65590152 |  69.99 | 0 |\n",
       "| 6 | 2 | -0.2186654 |  0.58330073 | 0.7563618 | -0.1189747 |  0.305725744 | -0.02231914 |  0.38789196 |  0.22078229 | -0.5191011 | ⋯ | -0.28767899 | -0.77265121 | -0.04232414 | -0.6132929 | -0.4466323 |  0.2197161 |  0.64143563 |  0.24717586 |   3.67 | 0 |\n",
       "\n"
      ],
      "text/plain": [
       "  Time V1         V2          V3        V4         V5           V6         \n",
       "1 0    -0.6980436 -0.04419812 1.6811673  0.9745233 -0.245692619  0.34715606\n",
       "2 0     0.6118281  0.16162642 0.1103481  0.3168994  0.043585540 -0.06183566\n",
       "3 1    -0.6972977 -0.81384628 1.1753368  0.2685503 -0.365428546  1.35179670\n",
       "4 1    -0.4960260 -0.11248295 1.1884502 -0.6104519 -0.007486433  0.93638751\n",
       "5 2    -0.5945675  0.53302677 1.0265370  0.2849940 -0.295708736  0.07201686\n",
       "6 2    -0.2186654  0.58330073 0.7563618 -0.1189747  0.305725744 -0.02231914\n",
       "  V7          V8          V9         ⋯ V21         V22         V23        \n",
       "1  0.19516625  0.08370937  0.3320762 ⋯ -0.02528877  0.38346201 -0.17712600\n",
       "2 -0.06418938  0.07217789 -0.2331601 ⋯ -0.31188331 -0.88147339  0.16239800\n",
       "3  0.64468863  0.21006306 -1.3826241 ⋯  0.34258177  1.06504576  1.45808689\n",
       "4  0.19354560  0.32011743 -1.2661192 ⋯ -0.14960499  0.00727844 -0.30514637\n",
       "5  0.48298296 -0.22944885  0.7464582 ⋯ -0.01302746  1.10175693 -0.22039050\n",
       "6  0.38789196  0.22078229 -0.5191011 ⋯ -0.28767899 -0.77265121 -0.04232414\n",
       "  V24        V25        V26        V27         V28         Amount Class\n",
       "1  0.1105104  0.2466123 -0.3923114  0.33748690 -0.06418093 149.62 0    \n",
       "2 -0.5611484  0.3207289  0.2611633 -0.02269927  0.04488712   2.69 0    \n",
       "3 -1.1381284 -0.6286053 -0.2885504 -0.13987025 -0.18215547 378.66 0    \n",
       "4 -1.9410890  1.2420391 -0.4603827  0.15849354  0.18735562 123.50 0    \n",
       "5  0.2332575 -0.3952447  1.0419856  0.55445514  0.65590152  69.99 0    \n",
       "6 -0.6132929 -0.4466323  0.2197161  0.64143563  0.24717586   3.67 0    "
      ]
     },
     "metadata": {},
     "output_type": "display_data"
    }
   ],
   "source": [
    "# Load the data\n",
    "fraud_data <- read.csv(\"Datasets/fraud.csv\")\n",
    "\n",
    "head(fraud_data)"
   ]
  },
  {
   "cell_type": "code",
   "execution_count": 3,
   "metadata": {
    "vscode": {
     "languageId": "r"
    }
   },
   "outputs": [
    {
     "name": "stdout",
     "output_type": "stream",
     "text": [
      "'data.frame':\t283726 obs. of  31 variables:\n",
      " $ Time  : num  0 0 1 1 2 2 4 7 7 9 ...\n",
      " $ V1    : num  -0.698 0.612 -0.697 -0.496 -0.595 ...\n",
      " $ V2    : num  -0.0442 0.1616 -0.8138 -0.1125 0.533 ...\n",
      " $ V3    : num  1.68 0.11 1.18 1.19 1.03 ...\n",
      " $ V4    : num  0.975 0.317 0.269 -0.61 0.285 ...\n",
      " $ V5    : num  -0.24569 0.04359 -0.36543 -0.00749 -0.29571 ...\n",
      " $ V6    : num  0.3472 -0.0618 1.3518 0.9364 0.072 ...\n",
      " $ V7    : num  0.1952 -0.0642 0.6447 0.1935 0.483 ...\n",
      " $ V8    : num  0.0837 0.0722 0.2101 0.3201 -0.2294 ...\n",
      " $ V9    : num  0.332 -0.233 -1.383 -1.266 0.746 ...\n",
      " $ V10   : num  0.0843 -0.1551 0.1929 -0.0511 0.6996 ...\n",
      " $ V11   : num  -0.541 1.583 0.613 -0.222 -0.808 ...\n",
      " $ V12   : num  -0.6211 1.0709 0.0664 0.1792 0.5411 ...\n",
      " $ V13   : num  -0.996 0.491 0.721 0.51 1.352 ...\n",
      " $ V14   : num  -0.327 -0.151 -0.174 -0.302 -1.176 ...\n",
      " $ V15   : num  1.605 0.695 2.564 -0.69 0.191 ...\n",
      " $ V16   : num  -0.538 0.531 -3.308 -1.213 -0.517 ...\n",
      " $ V17   : num  0.247 -0.136 1.317 -0.812 -0.281 ...\n",
      " $ V18   : num  0.0308 -0.219 -0.1449 2.3475 -0.0456 ...\n",
      " $ V19   : num  0.497 -0.179 -2.781 -1.515 0.988 ...\n",
      " $ V20   : num  0.3265 -0.0897 0.6818 -0.2702 0.5306 ...\n",
      " $ V21   : num  -0.0253 -0.3119 0.3426 -0.1496 -0.013 ...\n",
      " $ V22   : num  0.38346 -0.88147 1.06505 0.00728 1.10176 ...\n",
      " $ V23   : num  -0.177 0.162 1.458 -0.305 -0.22 ...\n",
      " $ V24   : num  0.111 -0.561 -1.138 -1.941 0.233 ...\n",
      " $ V25   : num  0.247 0.321 -0.629 1.242 -0.395 ...\n",
      " $ V26   : num  -0.392 0.261 -0.289 -0.46 1.042 ...\n",
      " $ V27   : num  0.3375 -0.0227 -0.1399 0.1585 0.5545 ...\n",
      " $ V28   : num  -0.0642 0.0449 -0.1822 0.1874 0.6559 ...\n",
      " $ Amount: num  149.62 2.69 378.66 123.5 69.99 ...\n",
      " $ Class : int  0 0 0 0 0 0 0 0 0 0 ...\n"
     ]
    }
   ],
   "source": [
    "str(fraud_data)"
   ]
  },
  {
   "cell_type": "code",
   "execution_count": 4,
   "metadata": {
    "vscode": {
     "languageId": "r"
    }
   },
   "outputs": [
    {
     "data": {
      "text/plain": [
       "      Time              V1                   V2                  V3           \n",
       " Min.   :     0   Min.   :-28.956239   Min.   :-44.15838   Min.   :-32.03166  \n",
       " 1st Qu.: 54205   1st Qu.: -0.470195   1st Qu.: -0.36456   1st Qu.: -0.58971  \n",
       " Median : 84693   Median :  0.010464   Median :  0.03883   Median :  0.11928  \n",
       " Mean   : 94811   Mean   :  0.003038   Mean   : -0.00251   Mean   :  0.00107  \n",
       " 3rd Qu.:139298   3rd Qu.:  0.675590   3rd Qu.:  0.48599   3rd Qu.:  0.68070  \n",
       " Max.   :172792   Max.   :  1.260214   Max.   : 13.39509   Max.   :  6.21904  \n",
       "       V4                  V5                  V6           \n",
       " Min.   :-4.018693   Min.   :-82.60176   Min.   :-19.64104  \n",
       " 1st Qu.:-0.601148   1st Qu.: -0.50096   1st Qu.: -0.57738  \n",
       " Median :-0.015732   Median : -0.03883   Median : -0.20659  \n",
       " Mean   :-0.002098   Mean   :  0.00133   Mean   : -0.00086  \n",
       " 3rd Qu.: 0.523020   3rd Qu.:  0.44460   3rd Qu.:  0.29791  \n",
       " Max.   :11.932920   Max.   : 25.27339   Max.   : 55.03412  \n",
       "       V7                  V8                  V9            \n",
       " Min.   :-35.47978   Min.   :-62.09783   Min.   :-12.263038  \n",
       " 1st Qu.: -0.45005   1st Qu.: -0.17712   1st Qu.: -0.588065  \n",
       " Median :  0.03328   Median :  0.01857   Median : -0.048011  \n",
       " Mean   :  0.00147   Mean   : -0.00072   Mean   : -0.001457  \n",
       " 3rd Qu.:  0.46468   3rd Qu.:  0.27624   3rd Qu.:  0.544026  \n",
       " Max.   : 98.22680   Max.   : 16.96886   Max.   : 14.235602  \n",
       "      V10                  V11                 V12            \n",
       " Min.   :-22.842897   Min.   :-4.709314   Min.   :-18.783749  \n",
       " 1st Qu.: -0.497561   1st Qu.:-0.747653   1st Qu.: -0.408373  \n",
       " Median : -0.086618   Median :-0.031712   Median :  0.139817  \n",
       " Mean   : -0.001338   Mean   : 0.000198   Mean   : -0.000719  \n",
       " 3rd Qu.:  0.421419   3rd Qu.: 0.725989   3rd Qu.:  0.620280  \n",
       " Max.   : 22.059619   Max.   :11.798052   Max.   :  7.890413  \n",
       "      V13                 V14                  V15          \n",
       " Min.   :-5.818474   Min.   :-20.178556   Min.   :-4.91745  \n",
       " 1st Qu.:-0.650837   1st Qu.: -0.447097   1st Qu.:-0.63554  \n",
       " Median :-0.012986   Median :  0.052728   Median : 0.05389  \n",
       " Mean   : 0.000606   Mean   :  0.000265   Mean   : 0.00114  \n",
       " 3rd Qu.: 0.666223   3rd Qu.:  0.517042   3rd Qu.: 0.71058  \n",
       " Max.   : 7.159605   Max.   : 11.055030   Max.   : 9.70358  \n",
       "      V16                 V17                  V18            \n",
       " Min.   :-16.17250   Min.   :-29.866565   Min.   :-11.343445  \n",
       " 1st Qu.: -0.53435   1st Qu.: -0.574390   1st Qu.: -0.594731  \n",
       " Median :  0.07682   Median : -0.078180   Median : -0.002558  \n",
       " Mean   :  0.00133   Mean   :  0.000202   Mean   :  0.001809  \n",
       " 3rd Qu.:  0.59919   3rd Qu.:  0.473553   3rd Qu.:  0.599438  \n",
       " Max.   : 19.81823   Max.   : 10.983319   Max.   :  6.020067  \n",
       "      V19                 V20                 V21           \n",
       " Min.   :-8.868598   Min.   :-70.77771   Min.   :-48.11429  \n",
       " 1st Qu.:-0.560980   1st Qu.: -0.27464   1st Qu.: -0.31538  \n",
       " Median : 0.004140   Median : -0.08098   Median : -0.04067  \n",
       " Mean   :-0.000325   Mean   :  0.00024   Mean   : -0.00051  \n",
       " 3rd Qu.: 0.563708   3rd Qu.:  0.17300   3rd Qu.:  0.25721  \n",
       " Max.   : 6.874992   Max.   : 51.19703   Max.   : 37.57769  \n",
       "      V22                  V23                 V24           \n",
       " Min.   :-15.089554   Min.   :-71.84153   Min.   :-4.683788  \n",
       " 1st Qu.: -0.749016   1st Qu.: -0.25926   1st Qu.:-0.585267  \n",
       " Median :  0.009212   Median : -0.01789   Median : 0.067724  \n",
       " Mean   : -0.000021   Mean   :  0.00032   Mean   : 0.000354  \n",
       " 3rd Qu.:  0.729066   3rd Qu.:  0.23689   3rd Qu.: 0.726088  \n",
       " Max.   : 14.496009   Max.   : 36.12045   Max.   : 7.569926  \n",
       "      V25                  V26                V27           \n",
       " Min.   :-19.752486   Min.   :-5.40304   Min.   :-57.02092  \n",
       " 1st Qu.: -0.609119   1st Qu.:-0.67786   1st Qu.: -0.17850  \n",
       " Median :  0.031231   Median :-0.10823   Median :  0.00374  \n",
       " Mean   : -0.000446   Mean   : 0.00031   Mean   :  0.00445  \n",
       " 3rd Qu.:  0.672781   3rd Qu.: 0.49841   3rd Qu.:  0.23047  \n",
       " Max.   : 14.426891   Max.   : 7.29660   Max.   : 79.88045  \n",
       "      V28                Amount             Class         \n",
       " Min.   :-47.03912   Min.   :    0.00   Min.   :0.000000  \n",
       " 1st Qu.: -0.16102   1st Qu.:    5.60   1st Qu.:0.000000  \n",
       " Median :  0.03441   Median :   22.00   Median :0.000000  \n",
       " Mean   :  0.00167   Mean   :   88.47   Mean   :0.001667  \n",
       " 3rd Qu.:  0.23863   3rd Qu.:   77.51   3rd Qu.:0.000000  \n",
       " Max.   :103.18617   Max.   :25691.16   Max.   :1.000000  "
      ]
     },
     "metadata": {},
     "output_type": "display_data"
    }
   ],
   "source": [
    "summary(fraud_data)"
   ]
  },
  {
   "cell_type": "code",
   "execution_count": 5,
   "metadata": {
    "vscode": {
     "languageId": "r"
    }
   },
   "outputs": [],
   "source": [
    "fraud_data$Class <- as.factor(fraud_data$Class)"
   ]
  },
  {
   "cell_type": "code",
   "execution_count": 6,
   "metadata": {
    "vscode": {
     "languageId": "r"
    }
   },
   "outputs": [
    {
     "name": "stdout",
     "output_type": "stream",
     "text": [
      "'data.frame':\t283726 obs. of  31 variables:\n",
      " $ Time  : num  0 0 1 1 2 2 4 7 7 9 ...\n",
      " $ V1    : num  -0.698 0.612 -0.697 -0.496 -0.595 ...\n",
      " $ V2    : num  -0.0442 0.1616 -0.8138 -0.1125 0.533 ...\n",
      " $ V3    : num  1.68 0.11 1.18 1.19 1.03 ...\n",
      " $ V4    : num  0.975 0.317 0.269 -0.61 0.285 ...\n",
      " $ V5    : num  -0.24569 0.04359 -0.36543 -0.00749 -0.29571 ...\n",
      " $ V6    : num  0.3472 -0.0618 1.3518 0.9364 0.072 ...\n",
      " $ V7    : num  0.1952 -0.0642 0.6447 0.1935 0.483 ...\n",
      " $ V8    : num  0.0837 0.0722 0.2101 0.3201 -0.2294 ...\n",
      " $ V9    : num  0.332 -0.233 -1.383 -1.266 0.746 ...\n",
      " $ V10   : num  0.0843 -0.1551 0.1929 -0.0511 0.6996 ...\n",
      " $ V11   : num  -0.541 1.583 0.613 -0.222 -0.808 ...\n",
      " $ V12   : num  -0.6211 1.0709 0.0664 0.1792 0.5411 ...\n",
      " $ V13   : num  -0.996 0.491 0.721 0.51 1.352 ...\n",
      " $ V14   : num  -0.327 -0.151 -0.174 -0.302 -1.176 ...\n",
      " $ V15   : num  1.605 0.695 2.564 -0.69 0.191 ...\n",
      " $ V16   : num  -0.538 0.531 -3.308 -1.213 -0.517 ...\n",
      " $ V17   : num  0.247 -0.136 1.317 -0.812 -0.281 ...\n",
      " $ V18   : num  0.0308 -0.219 -0.1449 2.3475 -0.0456 ...\n",
      " $ V19   : num  0.497 -0.179 -2.781 -1.515 0.988 ...\n",
      " $ V20   : num  0.3265 -0.0897 0.6818 -0.2702 0.5306 ...\n",
      " $ V21   : num  -0.0253 -0.3119 0.3426 -0.1496 -0.013 ...\n",
      " $ V22   : num  0.38346 -0.88147 1.06505 0.00728 1.10176 ...\n",
      " $ V23   : num  -0.177 0.162 1.458 -0.305 -0.22 ...\n",
      " $ V24   : num  0.111 -0.561 -1.138 -1.941 0.233 ...\n",
      " $ V25   : num  0.247 0.321 -0.629 1.242 -0.395 ...\n",
      " $ V26   : num  -0.392 0.261 -0.289 -0.46 1.042 ...\n",
      " $ V27   : num  0.3375 -0.0227 -0.1399 0.1585 0.5545 ...\n",
      " $ V28   : num  -0.0642 0.0449 -0.1822 0.1874 0.6559 ...\n",
      " $ Amount: num  149.62 2.69 378.66 123.5 69.99 ...\n",
      " $ Class : Factor w/ 2 levels \"0\",\"1\": 1 1 1 1 1 1 1 1 1 1 ...\n"
     ]
    }
   ],
   "source": [
    "str(fraud_data)"
   ]
  },
  {
   "cell_type": "code",
   "execution_count": 7,
   "metadata": {
    "vscode": {
     "languageId": "r"
    }
   },
   "outputs": [
    {
     "data": {
      "text/plain": [
       "      Time              V1                   V2                  V3           \n",
       " Min.   :     0   Min.   :-28.956239   Min.   :-44.15838   Min.   :-32.03166  \n",
       " 1st Qu.: 54205   1st Qu.: -0.470195   1st Qu.: -0.36456   1st Qu.: -0.58971  \n",
       " Median : 84693   Median :  0.010464   Median :  0.03883   Median :  0.11928  \n",
       " Mean   : 94811   Mean   :  0.003038   Mean   : -0.00251   Mean   :  0.00107  \n",
       " 3rd Qu.:139298   3rd Qu.:  0.675590   3rd Qu.:  0.48599   3rd Qu.:  0.68070  \n",
       " Max.   :172792   Max.   :  1.260214   Max.   : 13.39509   Max.   :  6.21904  \n",
       "       V4                  V5                  V6           \n",
       " Min.   :-4.018693   Min.   :-82.60176   Min.   :-19.64104  \n",
       " 1st Qu.:-0.601148   1st Qu.: -0.50096   1st Qu.: -0.57738  \n",
       " Median :-0.015732   Median : -0.03883   Median : -0.20659  \n",
       " Mean   :-0.002098   Mean   :  0.00133   Mean   : -0.00086  \n",
       " 3rd Qu.: 0.523020   3rd Qu.:  0.44460   3rd Qu.:  0.29791  \n",
       " Max.   :11.932920   Max.   : 25.27339   Max.   : 55.03412  \n",
       "       V7                  V8                  V9            \n",
       " Min.   :-35.47978   Min.   :-62.09783   Min.   :-12.263038  \n",
       " 1st Qu.: -0.45005   1st Qu.: -0.17712   1st Qu.: -0.588065  \n",
       " Median :  0.03328   Median :  0.01857   Median : -0.048011  \n",
       " Mean   :  0.00147   Mean   : -0.00072   Mean   : -0.001457  \n",
       " 3rd Qu.:  0.46468   3rd Qu.:  0.27624   3rd Qu.:  0.544026  \n",
       " Max.   : 98.22680   Max.   : 16.96886   Max.   : 14.235602  \n",
       "      V10                  V11                 V12            \n",
       " Min.   :-22.842897   Min.   :-4.709314   Min.   :-18.783749  \n",
       " 1st Qu.: -0.497561   1st Qu.:-0.747653   1st Qu.: -0.408373  \n",
       " Median : -0.086618   Median :-0.031712   Median :  0.139817  \n",
       " Mean   : -0.001338   Mean   : 0.000198   Mean   : -0.000719  \n",
       " 3rd Qu.:  0.421419   3rd Qu.: 0.725989   3rd Qu.:  0.620280  \n",
       " Max.   : 22.059619   Max.   :11.798052   Max.   :  7.890413  \n",
       "      V13                 V14                  V15          \n",
       " Min.   :-5.818474   Min.   :-20.178556   Min.   :-4.91745  \n",
       " 1st Qu.:-0.650837   1st Qu.: -0.447097   1st Qu.:-0.63554  \n",
       " Median :-0.012986   Median :  0.052728   Median : 0.05389  \n",
       " Mean   : 0.000606   Mean   :  0.000265   Mean   : 0.00114  \n",
       " 3rd Qu.: 0.666223   3rd Qu.:  0.517042   3rd Qu.: 0.71058  \n",
       " Max.   : 7.159605   Max.   : 11.055030   Max.   : 9.70358  \n",
       "      V16                 V17                  V18            \n",
       " Min.   :-16.17250   Min.   :-29.866565   Min.   :-11.343445  \n",
       " 1st Qu.: -0.53435   1st Qu.: -0.574390   1st Qu.: -0.594731  \n",
       " Median :  0.07682   Median : -0.078180   Median : -0.002558  \n",
       " Mean   :  0.00133   Mean   :  0.000202   Mean   :  0.001809  \n",
       " 3rd Qu.:  0.59919   3rd Qu.:  0.473553   3rd Qu.:  0.599438  \n",
       " Max.   : 19.81823   Max.   : 10.983319   Max.   :  6.020067  \n",
       "      V19                 V20                 V21           \n",
       " Min.   :-8.868598   Min.   :-70.77771   Min.   :-48.11429  \n",
       " 1st Qu.:-0.560980   1st Qu.: -0.27464   1st Qu.: -0.31538  \n",
       " Median : 0.004140   Median : -0.08098   Median : -0.04067  \n",
       " Mean   :-0.000325   Mean   :  0.00024   Mean   : -0.00051  \n",
       " 3rd Qu.: 0.563708   3rd Qu.:  0.17300   3rd Qu.:  0.25721  \n",
       " Max.   : 6.874992   Max.   : 51.19703   Max.   : 37.57769  \n",
       "      V22                  V23                 V24           \n",
       " Min.   :-15.089554   Min.   :-71.84153   Min.   :-4.683788  \n",
       " 1st Qu.: -0.749016   1st Qu.: -0.25926   1st Qu.:-0.585267  \n",
       " Median :  0.009212   Median : -0.01789   Median : 0.067724  \n",
       " Mean   : -0.000021   Mean   :  0.00032   Mean   : 0.000354  \n",
       " 3rd Qu.:  0.729066   3rd Qu.:  0.23689   3rd Qu.: 0.726088  \n",
       " Max.   : 14.496009   Max.   : 36.12045   Max.   : 7.569926  \n",
       "      V25                  V26                V27           \n",
       " Min.   :-19.752486   Min.   :-5.40304   Min.   :-57.02092  \n",
       " 1st Qu.: -0.609119   1st Qu.:-0.67786   1st Qu.: -0.17850  \n",
       " Median :  0.031231   Median :-0.10823   Median :  0.00374  \n",
       " Mean   : -0.000446   Mean   : 0.00031   Mean   :  0.00445  \n",
       " 3rd Qu.:  0.672781   3rd Qu.: 0.49841   3rd Qu.:  0.23047  \n",
       " Max.   : 14.426891   Max.   : 7.29660   Max.   : 79.88045  \n",
       "      V28                Amount         Class     \n",
       " Min.   :-47.03912   Min.   :    0.00   0:283253  \n",
       " 1st Qu.: -0.16102   1st Qu.:    5.60   1:   473  \n",
       " Median :  0.03441   Median :   22.00             \n",
       " Mean   :  0.00167   Mean   :   88.47             \n",
       " 3rd Qu.:  0.23863   3rd Qu.:   77.51             \n",
       " Max.   :103.18617   Max.   :25691.16             "
      ]
     },
     "metadata": {},
     "output_type": "display_data"
    }
   ],
   "source": [
    "summary(fraud_data)"
   ]
  },
  {
   "cell_type": "markdown",
   "metadata": {},
   "source": [
    "## EDA"
   ]
  },
  {
   "cell_type": "code",
   "execution_count": 8,
   "metadata": {
    "vscode": {
     "languageId": "r"
    }
   },
   "outputs": [
    {
     "data": {
      "image/png": "[encoded data removed]",
      "text/plain": [
       "plot without title"
      ]
     },
     "metadata": {
      "image/png": {
       "height": 420,
       "width": 420
      }
     },
     "output_type": "display_data"
    }
   ],
   "source": [
    "class_percentages <- prop.table(table(fraud_data$Class)) * 100\n",
    "\n",
    "# Create a data frame for the pie chart\n",
    "pie_data <- data.frame(Class = names(class_percentages), Percentage = as.vector(class_percentages))\n",
    "\n",
    "# Create a pie chart\n",
    "pie_chart <- ggplot(data = pie_data, aes(x = \"\", y = Percentage, fill = Class)) +\n",
    "  geom_bar(stat = \"identity\") +\n",
    "  coord_polar(\"y\", start = 0) +  # Convert the bar plot to a pie chart\n",
    "  labs(title = \"Distribution of Class\",\n",
    "       fill = \"Class\",\n",
    "       y = \"Percentage\") +\n",
    "  geom_text(aes(label = paste0(round(Percentage, 1), \"%\")), position = position_stack(vjust = 0.5), size = 4) +  # Add percentage labels\n",
    "  theme_void() +  # Remove axis and grid lines\n",
    "  theme(legend.position = \"bottom\", plot.title = element_text(hjust = 0.5)) +  # Position the legend at the bottom and center the title\n",
    "  scale_fill_manual(labels = c(\"Non Fraud\", \"Fraud\"), values = c(\"#1b9e77\", \"#d95f02\"))  # Set custom labels and colors\n",
    "\n",
    "# Display the pie chart\n",
    "print(pie_chart)"
   ]
  },
  {
   "cell_type": "code",
   "execution_count": 9,
   "metadata": {
    "vscode": {
     "languageId": "r"
    }
   },
   "outputs": [
    {
     "data": {
      "image/png": "[encoded data removed]",
      "text/plain": [
       "plot without title"
      ]
     },
     "metadata": {
      "image/png": {
       "height": 420,
       "width": 420
      }
     },
     "output_type": "display_data"
    }
   ],
   "source": [
    "# Create a boxplot for the Amount variable\n",
    "amount_boxplot <- ggplot(fraud_data, aes(y = Amount)) +\n",
    "  geom_boxplot(fill = \"#0072B2\", color = \"black\") +\n",
    "  labs(title = \"Boxplot of Amount\",\n",
    "       y = \"Amount\") +\n",
    "  theme_minimal() +\n",
    "  theme(plot.title = element_text(hjust = 0.5))\n",
    "\n",
    "# Display the boxplot\n",
    "print(amount_boxplot)\n"
   ]
  },
  {
   "cell_type": "code",
   "execution_count": 10,
   "metadata": {
    "vscode": {
     "languageId": "r"
    }
   },
   "outputs": [
    {
     "data": {
      "image/png": "[encoded data removed]",
      "text/plain": [
       "plot without title"
      ]
     },
     "metadata": {
      "image/png": {
       "height": 420,
       "width": 420
      }
     },
     "output_type": "display_data"
    }
   ],
   "source": [
    "# Create a histogram for the Time variable\n",
    "time_histogram <- ggplot(fraud_data, aes(x = Time)) +\n",
    "  geom_histogram(binwidth = 1000, fill = \"#0072B2\", color = \"black\") +\n",
    "  labs(title = \"Histogram of Time\",\n",
    "       x = \"Time\",\n",
    "       y = \"Frequency\") +\n",
    "  theme_minimal() +\n",
    "  theme(plot.title = element_text(hjust = 0.5))\n",
    "\n",
    "# Display the histogram\n",
    "print(time_histogram)"
   ]
  },
  {
   "cell_type": "code",
   "execution_count": 11,
   "metadata": {
    "vscode": {
     "languageId": "r"
    }
   },
   "outputs": [
    {
     "data": {
      "image/png": "[encoded data removed]",
      "text/plain": [
       "plot without title"
      ]
     },
     "metadata": {
      "image/png": {
       "height": 420,
       "width": 420
      }
     },
     "output_type": "display_data"
    }
   ],
   "source": [
    "# Reshape the data to long format for boxplot\n",
    "fraud_data_long <- fraud_data %>%\n",
    "  select(-Time, -Class) %>%  # Exclude 'Time' and 'Class' columns\n",
    "  pivot_longer(cols = -Amount, names_to = \"Variable\", values_to = \"Value\")\n",
    "\n",
    "# Create separate boxplots for each variable\n",
    "boxplots <- ggplot(fraud_data_long, aes(x = Variable, y = Value)) +\n",
    "  geom_boxplot(fill = \"#0072B2\", color = \"black\") +\n",
    "  labs(title = \"Boxplots of Variables\",\n",
    "       x = NULL,  # Remove x-axis label\n",
    "       y = \"Value\") +\n",
    "  theme_minimal() +\n",
    "  theme(axis.text.x = element_blank(),  # Remove x-axis labels\n",
    "        strip.placement = \"bottom\",   # Place facet strip labels at the bottom\n",
    "        plot.title = element_text(hjust = 0.5)) +  # Center title\n",
    "  facet_wrap(~ Variable, scales = \"free\")  # Facet by variable with free scales\n",
    "\n",
    "# Display the boxplots\n",
    "print(boxplots)"
   ]
  },
  {
   "cell_type": "markdown",
   "metadata": {},
   "source": [
    "## LOGISTIC REGRESSION"
   ]
  },
  {
   "cell_type": "markdown",
   "metadata": {},
   "source": [
    "Model using all variables"
   ]
  },
  {
   "cell_type": "code",
   "execution_count": 12,
   "metadata": {
    "vscode": {
     "languageId": "r"
    }
   },
   "outputs": [
    {
     "data": {
      "text/plain": [
       "\n",
       "Call:\n",
       "glm(formula = Class ~ ., family = binomial, data = fraud_data)\n",
       "\n",
       "Coefficients:\n",
       "              Estimate Std. Error z value Pr(>|z|)    \n",
       "(Intercept) -8.398e+00  2.499e-01 -33.602  < 2e-16 ***\n",
       "Time        -3.676e-06  2.259e-06  -1.627 0.103644    \n",
       "V1           1.873e-01  8.251e-02   2.270 0.023223 *  \n",
       "V2           1.747e-02  9.585e-02   0.182 0.855338    \n",
       "V3          -1.258e-02  8.012e-02  -0.157 0.875214    \n",
       "V4           9.918e-01  1.046e-01   9.484  < 2e-16 ***\n",
       "V5           1.797e-01  9.206e-02   1.952 0.050930 .  \n",
       "V6          -1.651e-01  9.879e-02  -1.671 0.094654 .  \n",
       "V7          -1.164e-01  8.192e-02  -1.421 0.155426    \n",
       "V8          -2.082e-01  3.609e-02  -5.769 7.95e-09 ***\n",
       "V9          -3.095e-01  1.213e-01  -2.551 0.010746 *  \n",
       "V10         -8.859e-01  1.043e-01  -8.497  < 2e-16 ***\n",
       "V11         -5.899e-02  8.292e-02  -0.711 0.476836    \n",
       "V12          8.268e-02  8.653e-02   0.955 0.339352    \n",
       "V13         -3.242e-01  8.133e-02  -3.986 6.71e-05 ***\n",
       "V14         -5.215e-01  5.936e-02  -8.785  < 2e-16 ***\n",
       "V15         -1.104e-01  7.871e-02  -1.403 0.160600    \n",
       "V16         -1.740e-01  1.093e-01  -1.592 0.111425    \n",
       "V17         -1.170e-02  5.914e-02  -0.198 0.843112    \n",
       "V18         -1.160e-02  1.081e-01  -0.107 0.914486    \n",
       "V19          8.015e-02  7.899e-02   1.015 0.310237    \n",
       "V20         -3.554e-01  6.280e-02  -5.660 1.52e-08 ***\n",
       "V21          2.855e-01  4.350e-02   6.564 5.25e-11 ***\n",
       "V22          4.620e-01  9.727e-02   4.750 2.04e-06 ***\n",
       "V23         -6.366e-02  3.673e-02  -1.733 0.083037 .  \n",
       "V24          7.216e-02  8.944e-02   0.807 0.419787    \n",
       "V25         -2.635e-02  6.946e-02  -0.379 0.704382    \n",
       "V26          4.552e-03  9.171e-02   0.050 0.960418    \n",
       "V27         -3.271e-01  4.826e-02  -6.778 1.22e-11 ***\n",
       "V28         -9.751e-02  2.886e-02  -3.378 0.000729 ***\n",
       "Amount       9.227e-04  3.759e-04   2.454 0.014111 *  \n",
       "---\n",
       "Signif. codes:  0 '***' 0.001 '**' 0.01 '*' 0.05 '.' 0.1 ' ' 1\n",
       "\n",
       "(Dispersion parameter for binomial family taken to be 1)\n",
       "\n",
       "    Null deviance: 6996.5  on 283725  degrees of freedom\n",
       "Residual deviance: 2225.6  on 283695  degrees of freedom\n",
       "AIC: 2287.6\n",
       "\n",
       "Number of Fisher Scoring iterations: 12\n"
      ]
     },
     "metadata": {},
     "output_type": "display_data"
    }
   ],
   "source": [
    "fit1 <- glm(Class ~ ., data=fraud_data, family=binomial)\n",
    "summary(fit1)"
   ]
  },
  {
   "cell_type": "code",
   "execution_count": 13,
   "metadata": {
    "vscode": {
     "languageId": "r"
    }
   },
   "outputs": [
    {
     "data": {
      "image/png": "[encoded data removed]",
      "text/plain": [
       "Plot with title \"\""
      ]
     },
     "metadata": {
      "image/png": {
       "height": 420,
       "width": 420
      }
     },
     "output_type": "display_data"
    }
   ],
   "source": [
    "par(mfrow=c(2,2))\n",
    "plot(fit1)"
   ]
  },
  {
   "cell_type": "code",
   "execution_count": 14,
   "metadata": {
    "vscode": {
     "languageId": "r"
    }
   },
   "outputs": [
    {
     "data": {
      "text/plain": [
       "      predicted\n",
       "actual      0      1\n",
       "     0 283211     42\n",
       "     1    184    289"
      ]
     },
     "metadata": {},
     "output_type": "display_data"
    }
   ],
   "source": [
    "actual <- fraud_data$Class\n",
    "predicted <- round(fitted(fit1))\n",
    "xt <- xtabs(~ actual + predicted)\n",
    "xt"
   ]
  },
  {
   "cell_type": "code",
   "execution_count": 15,
   "metadata": {
    "vscode": {
     "languageId": "r"
    }
   },
   "outputs": [
    {
     "data": {
      "text/html": [
       "0.999"
      ],
      "text/latex": [
       "0.999"
      ],
      "text/markdown": [
       "0.999"
      ],
      "text/plain": [
       "[1] 0.999"
      ]
     },
     "metadata": {},
     "output_type": "display_data"
    }
   ],
   "source": [
    "accuracy <- sum(diag(xt))/sum(xt)\n",
    "round(accuracy,3)"
   ]
  },
  {
   "cell_type": "markdown",
   "metadata": {},
   "source": [
    "Removing V2, V3, V17, V18, V25, V26"
   ]
  },
  {
   "cell_type": "code",
   "execution_count": 16,
   "metadata": {
    "vscode": {
     "languageId": "r"
    }
   },
   "outputs": [
    {
     "data": {
      "text/plain": [
       "\n",
       "Call:\n",
       "glm(formula = Class ~ . - V2 - V3 - V17 - V18 - V25 - V26, family = binomial, \n",
       "    data = fraud_data)\n",
       "\n",
       "Coefficients:\n",
       "              Estimate Std. Error z value Pr(>|z|)    \n",
       "(Intercept) -8.421e+00  2.118e-01 -39.751  < 2e-16 ***\n",
       "Time        -3.400e-06  1.893e-06  -1.795 0.072576 .  \n",
       "V1           1.911e-01  7.527e-02   2.539 0.011108 *  \n",
       "V4           9.837e-01  9.384e-02  10.484  < 2e-16 ***\n",
       "V5           1.612e-01  5.587e-02   2.885 0.003917 ** \n",
       "V6          -1.640e-01  9.359e-02  -1.753 0.079652 .  \n",
       "V7          -1.294e-01  7.282e-02  -1.777 0.075591 .  \n",
       "V8          -2.092e-01  3.513e-02  -5.956 2.58e-09 ***\n",
       "V9          -3.239e-01  9.602e-02  -3.373 0.000743 ***\n",
       "V10         -8.791e-01  9.765e-02  -9.003  < 2e-16 ***\n",
       "V11         -5.596e-02  7.779e-02  -0.719 0.471909    \n",
       "V12          6.915e-02  7.299e-02   0.947 0.343457    \n",
       "V13         -3.191e-01  7.981e-02  -3.999 6.37e-05 ***\n",
       "V14         -5.215e-01  5.714e-02  -9.127  < 2e-16 ***\n",
       "V15         -1.092e-01  7.586e-02  -1.440 0.149847    \n",
       "V16         -1.888e-01  6.942e-02  -2.719 0.006538 ** \n",
       "V19          7.662e-02  6.951e-02   1.102 0.270366    \n",
       "V20         -3.575e-01  5.927e-02  -6.033 1.61e-09 ***\n",
       "V21          2.857e-01  4.055e-02   7.047 1.83e-12 ***\n",
       "V22          4.643e-01  9.430e-02   4.924 8.48e-07 ***\n",
       "V23         -7.002e-02  3.256e-02  -2.151 0.031514 *  \n",
       "V24          7.272e-02  8.906e-02   0.817 0.414180    \n",
       "V27         -3.297e-01  4.735e-02  -6.964 3.31e-12 ***\n",
       "V28         -1.000e-01  2.777e-02  -3.603 0.000315 ***\n",
       "Amount       9.172e-04  3.068e-04   2.989 0.002798 ** \n",
       "---\n",
       "Signif. codes:  0 '***' 0.001 '**' 0.01 '*' 0.05 '.' 0.1 ' ' 1\n",
       "\n",
       "(Dispersion parameter for binomial family taken to be 1)\n",
       "\n",
       "    Null deviance: 6996.5  on 283725  degrees of freedom\n",
       "Residual deviance: 2225.8  on 283701  degrees of freedom\n",
       "AIC: 2275.8\n",
       "\n",
       "Number of Fisher Scoring iterations: 11\n"
      ]
     },
     "metadata": {},
     "output_type": "display_data"
    }
   ],
   "source": [
    "fit2 <- glm(Class ~ . - V2 - V3 - V17 - V18 - V25 - V26, data=fraud_data, family=binomial)\n",
    "summary(fit2)"
   ]
  },
  {
   "cell_type": "code",
   "execution_count": 17,
   "metadata": {
    "vscode": {
     "languageId": "r"
    }
   },
   "outputs": [
    {
     "data": {
      "image/png": "[encoded data removed]",
      "text/plain": [
       "Plot with title \"\""
      ]
     },
     "metadata": {
      "image/png": {
       "height": 420,
       "width": 420
      }
     },
     "output_type": "display_data"
    }
   ],
   "source": [
    "par(mfrow=c(2,2))\n",
    "plot(fit2)"
   ]
  },
  {
   "cell_type": "code",
   "execution_count": 18,
   "metadata": {
    "vscode": {
     "languageId": "r"
    }
   },
   "outputs": [
    {
     "data": {
      "text/plain": [
       "      predicted\n",
       "actual      0      1\n",
       "     0 283211     42\n",
       "     1    184    289"
      ]
     },
     "metadata": {},
     "output_type": "display_data"
    }
   ],
   "source": [
    "actual <- fraud_data$Class\n",
    "predicted <- round(fitted(fit2))\n",
    "xt <- xtabs(~ actual + predicted)\n",
    "xt"
   ]
  },
  {
   "cell_type": "code",
   "execution_count": 19,
   "metadata": {
    "vscode": {
     "languageId": "r"
    }
   },
   "outputs": [
    {
     "data": {
      "text/html": [
       "0.999"
      ],
      "text/latex": [
       "0.999"
      ],
      "text/markdown": [
       "0.999"
      ],
      "text/plain": [
       "[1] 0.999"
      ]
     },
     "metadata": {},
     "output_type": "display_data"
    }
   ],
   "source": [
    "accuracy <- sum(diag(xt))/sum(xt)\n",
    "round(accuracy,3)"
   ]
  },
  {
   "cell_type": "markdown",
   "metadata": {},
   "source": [
    "Removing V2, V3, V6, V7, V9, V11, V12, V15, V16, V17, V18, V19, V24, V25, V26 and Time"
   ]
  },
  {
   "cell_type": "code",
   "execution_count": 20,
   "metadata": {
    "vscode": {
     "languageId": "r"
    }
   },
   "outputs": [
    {
     "data": {
      "text/plain": [
       "\n",
       "Call:\n",
       "glm(formula = Class ~ . - Time - V2 - V3 - V6 - V7 - V9 - V11 - \n",
       "    V12 - V15 - V16 - V17 - V18 - V19 - V24 - V25 - V26, family = \"binomial\", \n",
       "    data = fraud_data)\n",
       "\n",
       "Coefficients:\n",
       "              Estimate Std. Error z value Pr(>|z|)    \n",
       "(Intercept) -8.7737740  0.1355764 -64.715  < 2e-16 ***\n",
       "V1           0.0543642  0.0514396   1.057  0.29058    \n",
       "V4           1.0676823  0.0785399  13.594  < 2e-16 ***\n",
       "V5           0.1028896  0.0448961   2.292  0.02192 *  \n",
       "V8          -0.1781035  0.0236294  -7.537 4.80e-14 ***\n",
       "V10         -1.0045279  0.0886547 -11.331  < 2e-16 ***\n",
       "V13         -0.3275223  0.0756768  -4.328 1.51e-05 ***\n",
       "V14         -0.4927512  0.0471381 -10.453  < 2e-16 ***\n",
       "V20         -0.1787699  0.0405015  -4.414 1.02e-05 ***\n",
       "V21          0.3643965  0.0348196  10.465  < 2e-16 ***\n",
       "V22          0.5909388  0.0830337   7.117 1.10e-12 ***\n",
       "V23         -0.0860420  0.0309023  -2.784  0.00536 ** \n",
       "V27         -0.2682902  0.0448541  -5.981 2.21e-09 ***\n",
       "V28         -0.0831074  0.0308420  -2.695  0.00705 ** \n",
       "Amount      -0.0000378  0.0001147  -0.330  0.74168    \n",
       "---\n",
       "Signif. codes:  0 '***' 0.001 '**' 0.01 '*' 0.05 '.' 0.1 ' ' 1\n",
       "\n",
       "(Dispersion parameter for binomial family taken to be 1)\n",
       "\n",
       "    Null deviance: 6996.5  on 283725  degrees of freedom\n",
       "Residual deviance: 2266.1  on 283711  degrees of freedom\n",
       "AIC: 2296.1\n",
       "\n",
       "Number of Fisher Scoring iterations: 11\n"
      ]
     },
     "metadata": {},
     "output_type": "display_data"
    }
   ],
   "source": [
    "fit3 <- glm(Class ~ . - Time - V2 - V3 - V6 - V7 - V9 - V11 - V12 - V15 - V16 - V17 - V18 - V19 - V24 - V25 - V26 , data=fraud_data, family = \"binomial\")\n",
    "summary(fit3)"
   ]
  },
  {
   "cell_type": "code",
   "execution_count": 21,
   "metadata": {
    "vscode": {
     "languageId": "r"
    }
   },
   "outputs": [
    {
     "data": {
      "image/png": "[encoded data removed]",
      "text/plain": [
       "Plot with title \"\""
      ]
     },
     "metadata": {
      "image/png": {
       "height": 420,
       "width": 420
      }
     },
     "output_type": "display_data"
    }
   ],
   "source": [
    "par(mfrow=c(2,2))\n",
    "plot(fit3)"
   ]
  },
  {
   "cell_type": "code",
   "execution_count": 22,
   "metadata": {
    "vscode": {
     "languageId": "r"
    }
   },
   "outputs": [
    {
     "data": {
      "text/plain": [
       "      predicted\n",
       "actual      0      1\n",
       "     0 283203     50\n",
       "     1    191    282"
      ]
     },
     "metadata": {},
     "output_type": "display_data"
    }
   ],
   "source": [
    "actual <- fraud_data$Class\n",
    "predicted <- round(fitted(fit3))\n",
    "xt <- xtabs(~ actual + predicted)\n",
    "xt"
   ]
  },
  {
   "cell_type": "code",
   "execution_count": 23,
   "metadata": {
    "vscode": {
     "languageId": "r"
    }
   },
   "outputs": [
    {
     "data": {
      "text/html": [
       "0.999"
      ],
      "text/latex": [
       "0.999"
      ],
      "text/markdown": [
       "0.999"
      ],
      "text/plain": [
       "[1] 0.999"
      ]
     },
     "metadata": {},
     "output_type": "display_data"
    }
   ],
   "source": [
    "accuracy <- sum(diag(xt))/sum(xt)\n",
    "round(accuracy,3)"
   ]
  },
  {
   "cell_type": "markdown",
   "metadata": {},
   "source": [
    "Removing V1, V2, V3, V6, V7, V9, V11, V12, V15, V16, V17, V18, V19, V24, V25, V26, Amount and Time"
   ]
  },
  {
   "cell_type": "code",
   "execution_count": 24,
   "metadata": {
    "vscode": {
     "languageId": "r"
    }
   },
   "outputs": [
    {
     "data": {
      "text/plain": [
       "\n",
       "Call:\n",
       "glm(formula = Class ~ . - Amount - Time - V1 - V2 - V3 - V6 - \n",
       "    V7 - V9 - V11 - V12 - V15 - V16 - V17 - V18 - V19 - V24 - \n",
       "    V25 - V26, family = \"binomial\", data = fraud_data)\n",
       "\n",
       "Coefficients:\n",
       "            Estimate Std. Error z value Pr(>|z|)    \n",
       "(Intercept) -8.76382    0.13242 -66.181  < 2e-16 ***\n",
       "V4           1.01901    0.06461  15.772  < 2e-16 ***\n",
       "V5           0.12552    0.03105   4.042 5.29e-05 ***\n",
       "V8          -0.17595    0.02149  -8.187 2.67e-16 ***\n",
       "V10         -0.96346    0.07208 -13.366  < 2e-16 ***\n",
       "V13         -0.33908    0.07473  -4.537 5.70e-06 ***\n",
       "V14         -0.51684    0.04066 -12.712  < 2e-16 ***\n",
       "V20         -0.16857    0.03118  -5.406 6.43e-08 ***\n",
       "V21          0.36280    0.03454  10.503  < 2e-16 ***\n",
       "V22          0.61209    0.08089   7.567 3.81e-14 ***\n",
       "V23         -0.08206    0.02751  -2.983  0.00286 ** \n",
       "V27         -0.24545    0.03570  -6.874 6.22e-12 ***\n",
       "V28         -0.07768    0.02648  -2.933  0.00335 ** \n",
       "---\n",
       "Signif. codes:  0 '***' 0.001 '**' 0.01 '*' 0.05 '.' 0.1 ' ' 1\n",
       "\n",
       "(Dispersion parameter for binomial family taken to be 1)\n",
       "\n",
       "    Null deviance: 6996.5  on 283725  degrees of freedom\n",
       "Residual deviance: 2267.4  on 283713  degrees of freedom\n",
       "AIC: 2293.4\n",
       "\n",
       "Number of Fisher Scoring iterations: 11\n"
      ]
     },
     "metadata": {},
     "output_type": "display_data"
    }
   ],
   "source": [
    "fit4 <- glm(Class ~ . - Amount - Time - V1 - V2 - V3 - V6 - V7 - V9 - V11 - V12 - V15 - V16 - V17 - V18 - V19 - V24 - V25 - V26 , data=fraud_data, family = \"binomial\")\n",
    "summary(fit4)"
   ]
  },
  {
   "cell_type": "code",
   "execution_count": 25,
   "metadata": {
    "vscode": {
     "languageId": "r"
    }
   },
   "outputs": [
    {
     "data": {
      "image/png": "[encoded data removed]",
      "text/plain": [
       "Plot with title \"\""
      ]
     },
     "metadata": {
      "image/png": {
       "height": 420,
       "width": 420
      }
     },
     "output_type": "display_data"
    }
   ],
   "source": [
    "par(mfrow=c(2,2))\n",
    "plot(fit4)"
   ]
  },
  {
   "cell_type": "code",
   "execution_count": 26,
   "metadata": {
    "vscode": {
     "languageId": "r"
    }
   },
   "outputs": [
    {
     "data": {
      "text/plain": [
       "      predicted\n",
       "actual      0      1\n",
       "     0 283203     50\n",
       "     1    193    280"
      ]
     },
     "metadata": {},
     "output_type": "display_data"
    }
   ],
   "source": [
    "actual <- fraud_data$Class\n",
    "predicted <- round(fitted(fit4))\n",
    "xt <- xtabs(~ actual + predicted)\n",
    "xt"
   ]
  },
  {
   "cell_type": "code",
   "execution_count": 27,
   "metadata": {
    "vscode": {
     "languageId": "r"
    }
   },
   "outputs": [
    {
     "data": {
      "text/html": [
       "0.999"
      ],
      "text/latex": [
       "0.999"
      ],
      "text/markdown": [
       "0.999"
      ],
      "text/plain": [
       "[1] 0.999"
      ]
     },
     "metadata": {},
     "output_type": "display_data"
    }
   ],
   "source": [
    "accuracy <- sum(diag(xt))/sum(xt)\n",
    "round(accuracy,3)"
   ]
  },
  {
   "cell_type": "markdown",
   "metadata": {},
   "source": [
    "THE ACCURACY WILL ALWAYS BE AROUND 99% SO NOW DATA IMBALANCE NEEDS TO BE HANDELED"
   ]
  },
  {
   "cell_type": "markdown",
   "metadata": {},
   "source": [
    "UPSAMPLING"
   ]
  },
  {
   "cell_type": "code",
   "execution_count": 28,
   "metadata": {
    "vscode": {
     "languageId": "r"
    }
   },
   "outputs": [],
   "source": [
    "up_fraud_data <- upSample(x=fraud_data[,-ncol(fraud_data)], y=fraud_data$Class)\n",
    "up_fraud_data$Class <- as.factor(up_fraud_data$Class)"
   ]
  },
  {
   "cell_type": "code",
   "execution_count": 29,
   "metadata": {
    "vscode": {
     "languageId": "r"
    }
   },
   "outputs": [
    {
     "data": {
      "text/html": [
       "<style>\n",
       ".dl-inline {width: auto; margin:0; padding: 0}\n",
       ".dl-inline>dt, .dl-inline>dd {float: none; width: auto; display: inline-block}\n",
       ".dl-inline>dt::after {content: \":\\0020\"; padding-right: .5ex}\n",
       ".dl-inline>dt:not(:first-of-type) {padding-left: .5ex}\n",
       "</style><dl class=dl-inline><dt>0</dt><dd>283253</dd><dt>1</dt><dd>283253</dd></dl>\n"
      ],
      "text/latex": [
       "\\begin{description*}\n",
       "\\item[0] 283253\n",
       "\\item[1] 283253\n",
       "\\end{description*}\n"
      ],
      "text/markdown": [
       "0\n",
       ":   2832531\n",
       ":   283253\n",
       "\n"
      ],
      "text/plain": [
       "     0      1 \n",
       "283253 283253 "
      ]
     },
     "metadata": {},
     "output_type": "display_data"
    }
   ],
   "source": [
    "summary(up_fraud_data$Class)"
   ]
  },
  {
   "cell_type": "code",
   "execution_count": 30,
   "metadata": {
    "vscode": {
     "languageId": "r"
    }
   },
   "outputs": [
    {
     "name": "stderr",
     "output_type": "stream",
     "text": [
      "Warning message:\n",
      "\"glm.fit: fitted probabilities numerically 0 or 1 occurred\"\n"
     ]
    },
    {
     "data": {
      "text/plain": [
       "\n",
       "Call:\n",
       "glm(formula = Class ~ ., family = binomial, data = up_fraud_data)\n",
       "\n",
       "Coefficients:\n",
       "              Estimate Std. Error  z value Pr(>|z|)    \n",
       "(Intercept) -3.446e+00  3.342e-02 -103.115  < 2e-16 ***\n",
       "Time        -8.057e-06  2.125e-07  -37.917  < 2e-16 ***\n",
       "V1           1.296e+00  2.947e-02   43.974  < 2e-16 ***\n",
       "V2           9.718e-01  3.680e-02   26.409  < 2e-16 ***\n",
       "V3           4.162e-01  1.790e-02   23.254  < 2e-16 ***\n",
       "V4           1.067e+00  1.008e-02  105.856  < 2e-16 ***\n",
       "V5           1.049e+00  2.409e-02   43.542  < 2e-16 ***\n",
       "V6          -7.192e-01  1.530e-02  -46.996  < 2e-16 ***\n",
       "V7          -6.829e-01  2.625e-02  -26.018  < 2e-16 ***\n",
       "V8          -4.981e-01  8.760e-03  -56.860  < 2e-16 ***\n",
       "V9          -3.415e-01  1.108e-02  -30.815  < 2e-16 ***\n",
       "V10         -7.600e-01  1.489e-02  -51.052  < 2e-16 ***\n",
       "V11          4.796e-01  9.895e-03   48.468  < 2e-16 ***\n",
       "V12         -1.027e+00  1.407e-02  -73.023  < 2e-16 ***\n",
       "V13         -3.652e-01  6.719e-03  -54.352  < 2e-16 ***\n",
       "V14         -1.337e+00  1.540e-02  -86.795  < 2e-16 ***\n",
       "V15         -1.457e-01  6.885e-03  -21.162  < 2e-16 ***\n",
       "V16         -6.256e-01  1.283e-02  -48.762  < 2e-16 ***\n",
       "V17         -7.301e-01  1.703e-02  -42.862  < 2e-16 ***\n",
       "V18         -2.276e-01  1.026e-02  -22.193  < 2e-16 ***\n",
       "V19          2.660e-01  8.514e-03   31.237  < 2e-16 ***\n",
       "V20         -6.287e-01  1.733e-02  -36.278  < 2e-16 ***\n",
       "V21          2.631e-02  6.685e-03    3.936 8.27e-05 ***\n",
       "V22          5.540e-01  9.041e-03   61.275  < 2e-16 ***\n",
       "V23          2.760e-01  1.281e-02   21.547  < 2e-16 ***\n",
       "V24         -2.086e-02  8.094e-03   -2.578  0.00995 ** \n",
       "V25          2.307e-02  7.793e-03    2.960  0.00308 ** \n",
       "V26         -1.935e-01  7.855e-03  -24.628  < 2e-16 ***\n",
       "V27          3.475e-02  9.127e-03    3.808  0.00014 ***\n",
       "V28          2.649e-01  1.023e-02   25.902  < 2e-16 ***\n",
       "Amount       8.361e-03  2.275e-04   36.750  < 2e-16 ***\n",
       "---\n",
       "Signif. codes:  0 '***' 0.001 '**' 0.01 '*' 0.05 '.' 0.1 ' ' 1\n",
       "\n",
       "(Dispersion parameter for binomial family taken to be 1)\n",
       "\n",
       "    Null deviance: 785344  on 566505  degrees of freedom\n",
       "Residual deviance: 155655  on 566475  degrees of freedom\n",
       "AIC: 155717\n",
       "\n",
       "Number of Fisher Scoring iterations: 13\n"
      ]
     },
     "metadata": {},
     "output_type": "display_data"
    }
   ],
   "source": [
    "fit5 <- glm(Class ~ ., data=up_fraud_data, family=binomial)\n",
    "summary(fit5)"
   ]
  },
  {
   "cell_type": "code",
   "execution_count": 31,
   "metadata": {
    "vscode": {
     "languageId": "r"
    }
   },
   "outputs": [
    {
     "data": {
      "image/png": "[encoded data removed]",
      "text/plain": [
       "Plot with title \"\""
      ]
     },
     "metadata": {
      "image/png": {
       "height": 420,
       "width": 420
      }
     },
     "output_type": "display_data"
    }
   ],
   "source": [
    "par(mfrow=c(2,2))\n",
    "plot(fit5)"
   ]
  },
  {
   "cell_type": "code",
   "execution_count": 32,
   "metadata": {
    "vscode": {
     "languageId": "r"
    }
   },
   "outputs": [
    {
     "data": {
      "text/plain": [
       "      predicted\n",
       "actual      0      1\n",
       "     0 276739   6514\n",
       "     1  22674 260579"
      ]
     },
     "metadata": {},
     "output_type": "display_data"
    }
   ],
   "source": [
    "actual <- up_fraud_data$Class\n",
    "predicted <- round(fitted(fit5))\n",
    "xt <- xtabs(~ actual + predicted)\n",
    "xt"
   ]
  },
  {
   "cell_type": "code",
   "execution_count": 33,
   "metadata": {
    "vscode": {
     "languageId": "r"
    }
   },
   "outputs": [
    {
     "data": {
      "text/html": [
       "0.948"
      ],
      "text/latex": [
       "0.948"
      ],
      "text/markdown": [
       "0.948"
      ],
      "text/plain": [
       "[1] 0.948"
      ]
     },
     "metadata": {},
     "output_type": "display_data"
    }
   ],
   "source": [
    "accuracy <- sum(diag(xt))/sum(xt)\n",
    "round(accuracy,3)"
   ]
  },
  {
   "cell_type": "code",
   "execution_count": 34,
   "metadata": {
    "vscode": {
     "languageId": "r"
    }
   },
   "outputs": [
    {
     "name": "stderr",
     "output_type": "stream",
     "text": [
      "Warning message:\n",
      "\"glm.fit: fitted probabilities numerically 0 or 1 occurred\"\n"
     ]
    },
    {
     "data": {
      "text/plain": [
       "\n",
       "Call:\n",
       "glm(formula = Class ~ . - V2 - V3 - V17 - V18 - V25 - V26, family = binomial, \n",
       "    data = up_fraud_data)\n",
       "\n",
       "Coefficients:\n",
       "              Estimate Std. Error  z value Pr(>|z|)    \n",
       "(Intercept) -2.885e+00  1.699e-02 -169.827  < 2e-16 ***\n",
       "Time        -5.781e-06  1.656e-07  -34.900  < 2e-16 ***\n",
       "V1           3.118e-01  8.690e-03   35.882  < 2e-16 ***\n",
       "V4           1.131e+00  7.617e-03  148.465  < 2e-16 ***\n",
       "V5           2.343e-01  6.952e-03   33.696  < 2e-16 ***\n",
       "V6          -4.429e-01  9.543e-03  -46.413  < 2e-16 ***\n",
       "V7          -9.232e-03  8.117e-03   -1.137 0.255356    \n",
       "V8          -4.194e-01  5.775e-03  -72.611  < 2e-16 ***\n",
       "V9          -2.803e-01  8.791e-03  -31.880  < 2e-16 ***\n",
       "V10         -5.468e-01  1.003e-02  -54.502  < 2e-16 ***\n",
       "V11          2.640e-01  6.869e-03   38.440  < 2e-16 ***\n",
       "V12         -6.404e-01  7.259e-03  -88.222  < 2e-16 ***\n",
       "V13         -3.132e-01  6.400e-03  -48.939  < 2e-16 ***\n",
       "V14         -8.141e-01  6.529e-03 -124.688  < 2e-16 ***\n",
       "V15         -1.317e-01  6.629e-03  -19.864  < 2e-16 ***\n",
       "V16         -3.495e-01  7.702e-03  -45.375  < 2e-16 ***\n",
       "V19          3.483e-02  6.288e-03    5.539 3.04e-08 ***\n",
       "V20         -2.358e-01  8.579e-03  -27.491  < 2e-16 ***\n",
       "V21          1.142e-01  5.402e-03   21.129  < 2e-16 ***\n",
       "V22          4.072e-01  7.571e-03   53.785  < 2e-16 ***\n",
       "V23         -7.250e-02  3.952e-03  -18.343  < 2e-16 ***\n",
       "V24         -2.511e-02  8.024e-03   -3.129 0.001754 ** \n",
       "V27          2.898e-02  7.470e-03    3.880 0.000104 ***\n",
       "V28          5.691e-02  6.490e-03    8.770  < 2e-16 ***\n",
       "Amount       1.995e-03  4.098e-05   48.682  < 2e-16 ***\n",
       "---\n",
       "Signif. codes:  0 '***' 0.001 '**' 0.01 '*' 0.05 '.' 0.1 ' ' 1\n",
       "\n",
       "(Dispersion parameter for binomial family taken to be 1)\n",
       "\n",
       "    Null deviance: 785344  on 566505  degrees of freedom\n",
       "Residual deviance: 161311  on 566481  degrees of freedom\n",
       "AIC: 161361\n",
       "\n",
       "Number of Fisher Scoring iterations: 11\n"
      ]
     },
     "metadata": {},
     "output_type": "display_data"
    }
   ],
   "source": [
    "fit6 <- glm(Class ~ . - V2 - V3 - V17 - V18 - V25 - V26, data=up_fraud_data, family=binomial)\n",
    "summary(fit6)"
   ]
  },
  {
   "cell_type": "code",
   "execution_count": 35,
   "metadata": {
    "vscode": {
     "languageId": "r"
    }
   },
   "outputs": [
    {
     "data": {
      "image/png": "[encoded data removed]",
      "text/plain": [
       "Plot with title \"\""
      ]
     },
     "metadata": {
      "image/png": {
       "height": 420,
       "width": 420
      }
     },
     "output_type": "display_data"
    }
   ],
   "source": [
    "par(mfrow=c(2,2))\n",
    "plot(fit6)"
   ]
  },
  {
   "cell_type": "code",
   "execution_count": 36,
   "metadata": {
    "vscode": {
     "languageId": "r"
    }
   },
   "outputs": [
    {
     "data": {
      "text/plain": [
       "      predicted\n",
       "actual      0      1\n",
       "     0 276103   7150\n",
       "     1  25015 258238"
      ]
     },
     "metadata": {},
     "output_type": "display_data"
    }
   ],
   "source": [
    "actual <- up_fraud_data$Class\n",
    "predicted <- round(fitted(fit6))\n",
    "xt <- xtabs(~ actual + predicted)\n",
    "xt"
   ]
  },
  {
   "cell_type": "code",
   "execution_count": 37,
   "metadata": {
    "vscode": {
     "languageId": "r"
    }
   },
   "outputs": [
    {
     "data": {
      "text/html": [
       "0.943"
      ],
      "text/latex": [
       "0.943"
      ],
      "text/markdown": [
       "0.943"
      ],
      "text/plain": [
       "[1] 0.943"
      ]
     },
     "metadata": {},
     "output_type": "display_data"
    }
   ],
   "source": [
    "accuracy <- sum(diag(xt))/sum(xt)\n",
    "round(accuracy,3)"
   ]
  },
  {
   "cell_type": "code",
   "execution_count": 38,
   "metadata": {
    "vscode": {
     "languageId": "r"
    }
   },
   "outputs": [
    {
     "name": "stderr",
     "output_type": "stream",
     "text": [
      "Warning message:\n",
      "\"glm.fit: fitted probabilities numerically 0 or 1 occurred\"\n"
     ]
    },
    {
     "data": {
      "text/plain": [
       "\n",
       "Call:\n",
       "glm(formula = Class ~ . - Time - V2 - V3 - V6 - V7 - V9 - V11 - \n",
       "    V12 - V15 - V16 - V17 - V18 - V19 - V24 - V25 - V26, family = \"binomial\", \n",
       "    data = up_fraud_data)\n",
       "\n",
       "Coefficients:\n",
       "              Estimate Std. Error  z value Pr(>|z|)    \n",
       "(Intercept) -3.295e+00  1.085e-02 -303.696  < 2e-16 ***\n",
       "V1           5.122e-03  5.381e-03    0.952    0.341    \n",
       "V4           1.355e+00  7.212e-03  187.863  < 2e-16 ***\n",
       "V5           2.463e-01  5.190e-03   47.455  < 2e-16 ***\n",
       "V8          -2.741e-01  4.668e-03  -58.716  < 2e-16 ***\n",
       "V10         -7.976e-01  9.301e-03  -85.753  < 2e-16 ***\n",
       "V13         -3.238e-01  6.275e-03  -51.601  < 2e-16 ***\n",
       "V14         -7.274e-01  5.748e-03 -126.551  < 2e-16 ***\n",
       "V20         -2.368e-01  6.643e-03  -35.650  < 2e-16 ***\n",
       "V21          1.600e-01  4.996e-03   32.020  < 2e-16 ***\n",
       "V22          3.028e-01  6.523e-03   46.421  < 2e-16 ***\n",
       "V23         -1.587e-01  3.095e-03  -51.277  < 2e-16 ***\n",
       "V27         -9.148e-02  5.828e-03  -15.695  < 2e-16 ***\n",
       "V28          3.893e-02  6.515e-03    5.976 2.29e-09 ***\n",
       "Amount       1.226e-03  2.465e-05   49.756  < 2e-16 ***\n",
       "---\n",
       "Signif. codes:  0 '***' 0.001 '**' 0.01 '*' 0.05 '.' 0.1 ' ' 1\n",
       "\n",
       "(Dispersion parameter for binomial family taken to be 1)\n",
       "\n",
       "    Null deviance: 785344  on 566505  degrees of freedom\n",
       "Residual deviance: 179101  on 566491  degrees of freedom\n",
       "AIC: 179131\n",
       "\n",
       "Number of Fisher Scoring iterations: 9\n"
      ]
     },
     "metadata": {},
     "output_type": "display_data"
    }
   ],
   "source": [
    "fit7 <- glm(Class ~ . - Time - V2 - V3 - V6 - V7 - V9 - V11 - V12 - V15 - V16 - V17 - V18 - V19 - V24 - V25 - V26 , data=up_fraud_data, family = \"binomial\")\n",
    "summary(fit7)"
   ]
  },
  {
   "cell_type": "code",
   "execution_count": 39,
   "metadata": {
    "vscode": {
     "languageId": "r"
    }
   },
   "outputs": [
    {
     "data": {
      "image/png": "[encoded data removed]",
      "text/plain": [
       "Plot with title \"\""
      ]
     },
     "metadata": {
      "image/png": {
       "height": 420,
       "width": 420
      }
     },
     "output_type": "display_data"
    }
   ],
   "source": [
    "par(mfrow=c(2,2))\n",
    "plot(fit7)"
   ]
  },
  {
   "cell_type": "code",
   "execution_count": 40,
   "metadata": {
    "vscode": {
     "languageId": "r"
    }
   },
   "outputs": [
    {
     "data": {
      "text/plain": [
       "      predicted\n",
       "actual      0      1\n",
       "     0 274576   8677\n",
       "     1  26737 256516"
      ]
     },
     "metadata": {},
     "output_type": "display_data"
    }
   ],
   "source": [
    "actual <- up_fraud_data$Class\n",
    "predicted <- round(fitted(fit7))\n",
    "xt <- xtabs(~ actual + predicted)\n",
    "xt"
   ]
  },
  {
   "cell_type": "code",
   "execution_count": 41,
   "metadata": {
    "vscode": {
     "languageId": "r"
    }
   },
   "outputs": [
    {
     "data": {
      "text/html": [
       "0.937"
      ],
      "text/latex": [
       "0.937"
      ],
      "text/markdown": [
       "0.937"
      ],
      "text/plain": [
       "[1] 0.937"
      ]
     },
     "metadata": {},
     "output_type": "display_data"
    }
   ],
   "source": [
    "accuracy <- sum(diag(xt))/sum(xt)\n",
    "round(accuracy,3)"
   ]
  },
  {
   "cell_type": "code",
   "execution_count": 42,
   "metadata": {
    "vscode": {
     "languageId": "r"
    }
   },
   "outputs": [
    {
     "name": "stderr",
     "output_type": "stream",
     "text": [
      "Warning message:\n",
      "\"glm.fit: fitted probabilities numerically 0 or 1 occurred\"\n"
     ]
    },
    {
     "data": {
      "text/plain": [
       "\n",
       "Call:\n",
       "glm(formula = Class ~ . - Amount - Time - V1 - V2 - V3 - V6 - \n",
       "    V7 - V9 - V11 - V12 - V15 - V16 - V17 - V18 - V19 - V24 - \n",
       "    V25 - V26, family = \"binomial\", data = up_fraud_data)\n",
       "\n",
       "Coefficients:\n",
       "             Estimate Std. Error z value Pr(>|z|)    \n",
       "(Intercept) -3.144294   0.010002 -314.36   <2e-16 ***\n",
       "V4           1.377989   0.006786  203.06   <2e-16 ***\n",
       "V5           0.162232   0.005021   32.31   <2e-16 ***\n",
       "V8          -0.339972   0.004664  -72.89   <2e-16 ***\n",
       "V10         -0.794392   0.008787  -90.41   <2e-16 ***\n",
       "V13         -0.337225   0.006200  -54.39   <2e-16 ***\n",
       "V14         -0.704542   0.005642 -124.89   <2e-16 ***\n",
       "V20         -0.094374   0.005435  -17.36   <2e-16 ***\n",
       "V21          0.192487   0.004997   38.52   <2e-16 ***\n",
       "V22          0.283776   0.006463   43.91   <2e-16 ***\n",
       "V23         -0.181447   0.003049  -59.51   <2e-16 ***\n",
       "V27         -0.093258   0.005767  -16.17   <2e-16 ***\n",
       "V28          0.007744   0.006198    1.25    0.211    \n",
       "---\n",
       "Signif. codes:  0 '***' 0.001 '**' 0.01 '*' 0.05 '.' 0.1 ' ' 1\n",
       "\n",
       "(Dispersion parameter for binomial family taken to be 1)\n",
       "\n",
       "    Null deviance: 785344  on 566505  degrees of freedom\n",
       "Residual deviance: 181728  on 566493  degrees of freedom\n",
       "AIC: 181754\n",
       "\n",
       "Number of Fisher Scoring iterations: 9\n"
      ]
     },
     "metadata": {},
     "output_type": "display_data"
    }
   ],
   "source": [
    "fit8 <- glm(Class ~ . - Amount - Time - V1 - V2 - V3 - V6 - V7 - V9 - V11 - V12 - V15 - V16 - V17 - V18 - V19 - V24 - V25 - V26 , data=up_fraud_data, family = \"binomial\")\n",
    "summary(fit8)"
   ]
  },
  {
   "cell_type": "code",
   "execution_count": 43,
   "metadata": {
    "vscode": {
     "languageId": "r"
    }
   },
   "outputs": [
    {
     "data": {
      "image/png": "[encoded data removed]",
      "text/plain": [
       "Plot with title \"\""
      ]
     },
     "metadata": {
      "image/png": {
       "height": 420,
       "width": 420
      }
     },
     "output_type": "display_data"
    }
   ],
   "source": [
    "par(mfrow=c(2,2))\n",
    "plot(fit8)"
   ]
  },
  {
   "cell_type": "code",
   "execution_count": 44,
   "metadata": {
    "vscode": {
     "languageId": "r"
    }
   },
   "outputs": [
    {
     "data": {
      "text/plain": [
       "      predicted\n",
       "actual      0      1\n",
       "     0 274696   8557\n",
       "     1  26734 256519"
      ]
     },
     "metadata": {},
     "output_type": "display_data"
    }
   ],
   "source": [
    "actual <- up_fraud_data$Class\n",
    "predicted <- round(fitted(fit8))\n",
    "xt <- xtabs(~ actual + predicted)\n",
    "xt"
   ]
  },
  {
   "cell_type": "code",
   "execution_count": 45,
   "metadata": {
    "vscode": {
     "languageId": "r"
    }
   },
   "outputs": [
    {
     "data": {
      "text/html": [
       "0.938"
      ],
      "text/latex": [
       "0.938"
      ],
      "text/markdown": [
       "0.938"
      ],
      "text/plain": [
       "[1] 0.938"
      ]
     },
     "metadata": {},
     "output_type": "display_data"
    }
   ],
   "source": [
    "accuracy <- sum(diag(xt))/sum(xt)\n",
    "round(accuracy,3)"
   ]
  },
  {
   "cell_type": "markdown",
   "metadata": {},
   "source": [
    "DOWNSAMPLING"
   ]
  },
  {
   "cell_type": "code",
   "execution_count": 46,
   "metadata": {
    "vscode": {
     "languageId": "r"
    }
   },
   "outputs": [],
   "source": [
    "down_fraud_data <- downSample(x=fraud_data[,-ncol(fraud_data)], y=fraud_data$Class)\n",
    "down_fraud_data$Class <- as.factor(down_fraud_data$Class)"
   ]
  },
  {
   "cell_type": "code",
   "execution_count": 47,
   "metadata": {
    "vscode": {
     "languageId": "r"
    }
   },
   "outputs": [
    {
     "data": {
      "text/html": [
       "<style>\n",
       ".dl-inline {width: auto; margin:0; padding: 0}\n",
       ".dl-inline>dt, .dl-inline>dd {float: none; width: auto; display: inline-block}\n",
       ".dl-inline>dt::after {content: \":\\0020\"; padding-right: .5ex}\n",
       ".dl-inline>dt:not(:first-of-type) {padding-left: .5ex}\n",
       "</style><dl class=dl-inline><dt>0</dt><dd>473</dd><dt>1</dt><dd>473</dd></dl>\n"
      ],
      "text/latex": [
       "\\begin{description*}\n",
       "\\item[0] 473\n",
       "\\item[1] 473\n",
       "\\end{description*}\n"
      ],
      "text/markdown": [
       "0\n",
       ":   4731\n",
       ":   473\n",
       "\n"
      ],
      "text/plain": [
       "  0   1 \n",
       "473 473 "
      ]
     },
     "metadata": {},
     "output_type": "display_data"
    }
   ],
   "source": [
    "summary(down_fraud_data$Class)"
   ]
  },
  {
   "cell_type": "code",
   "execution_count": 48,
   "metadata": {
    "vscode": {
     "languageId": "r"
    }
   },
   "outputs": [
    {
     "name": "stderr",
     "output_type": "stream",
     "text": [
      "Warning message:\n",
      "\"glm.fit: algorithm did not converge\"\n",
      "Warning message:\n",
      "\"glm.fit: fitted probabilities numerically 0 or 1 occurred\"\n"
     ]
    },
    {
     "data": {
      "text/plain": [
       "\n",
       "Call:\n",
       "glm(formula = Class ~ ., family = binomial, data = down_fraud_data)\n",
       "\n",
       "Coefficients:\n",
       "              Estimate Std. Error   z value Pr(>|z|)    \n",
       "(Intercept) -8.376e+13  7.386e+06 -11340800   <2e-16 ***\n",
       "Time        -9.195e+08  6.676e+01 -13772789   <2e-16 ***\n",
       "V1          -1.326e+14  2.803e+06 -47289353   <2e-16 ***\n",
       "V2          -1.610e+14  5.049e+06 -31877808   <2e-16 ***\n",
       "V3          -7.308e+13  3.030e+06 -24118625   <2e-16 ***\n",
       "V4           2.558e+14  2.540e+06 100702944   <2e-16 ***\n",
       "V5          -7.987e+13  3.929e+06 -20328294   <2e-16 ***\n",
       "V6          -5.718e+13  3.245e+06 -17621599   <2e-16 ***\n",
       "V7           1.389e+14  4.100e+06  33870616   <2e-16 ***\n",
       "V8          -1.252e+14  1.662e+06 -75346642   <2e-16 ***\n",
       "V9           7.784e+12  2.450e+06   3176793   <2e-16 ***\n",
       "V10          4.172e+13  2.330e+06  17900477   <2e-16 ***\n",
       "V11          6.835e+13  2.415e+06  28305523   <2e-16 ***\n",
       "V12         -7.808e+13  1.957e+06 -39893999   <2e-16 ***\n",
       "V13         -2.507e+13  2.177e+06 -11514319   <2e-16 ***\n",
       "V14         -1.062e+14  1.562e+06 -67965447   <2e-16 ***\n",
       "V15         -1.067e+13  2.414e+06  -4419198   <2e-16 ***\n",
       "V16         -8.011e+12  2.426e+06  -3302756   <2e-16 ***\n",
       "V17          5.237e+12  1.565e+06   3347077   <2e-16 ***\n",
       "V18         -2.539e+13  2.662e+06  -9536896   <2e-16 ***\n",
       "V19         -2.535e+13  2.118e+06 -11967408   <2e-16 ***\n",
       "V20         -8.087e+13  3.392e+06 -23841488   <2e-16 ***\n",
       "V21         -2.816e+13  1.529e+06 -18410509   <2e-16 ***\n",
       "V22          5.096e+13  2.521e+06  20216642   <2e-16 ***\n",
       "V23         -4.206e+13  2.324e+06 -18095273   <2e-16 ***\n",
       "V24          3.133e+13  2.613e+06  11988326   <2e-16 ***\n",
       "V25         -8.188e+12  2.251e+06  -3637953   <2e-16 ***\n",
       "V26          1.523e+13  2.411e+06   6319054   <2e-16 ***\n",
       "V27          5.458e+13  1.251e+06  43609920   <2e-16 ***\n",
       "V28          1.017e+14  2.340e+06  43441844   <2e-16 ***\n",
       "Amount      -3.279e+11  3.205e+04 -10230495   <2e-16 ***\n",
       "---\n",
       "Signif. codes:  0 '***' 0.001 '**' 0.01 '*' 0.05 '.' 0.1 ' ' 1\n",
       "\n",
       "(Dispersion parameter for binomial family taken to be 1)\n",
       "\n",
       "    Null deviance: 1311.4  on 945  degrees of freedom\n",
       "Residual deviance: 6776.2  on 915  degrees of freedom\n",
       "AIC: 6838.2\n",
       "\n",
       "Number of Fisher Scoring iterations: 25\n"
      ]
     },
     "metadata": {},
     "output_type": "display_data"
    }
   ],
   "source": [
    "fit9 <- glm(Class ~ ., data=down_fraud_data, family=binomial)\n",
    "summary(fit9)"
   ]
  },
  {
   "cell_type": "code",
   "execution_count": 49,
   "metadata": {
    "vscode": {
     "languageId": "r"
    }
   },
   "outputs": [
    {
     "data": {
      "image/png": "[encoded data removed]",
      "text/plain": [
       "Plot with title \"\""
      ]
     },
     "metadata": {
      "image/png": {
       "height": 420,
       "width": 420
      }
     },
     "output_type": "display_data"
    }
   ],
   "source": [
    "par(mfrow=c(2,2))\n",
    "plot(fit9)"
   ]
  },
  {
   "cell_type": "code",
   "execution_count": 50,
   "metadata": {
    "vscode": {
     "languageId": "r"
    }
   },
   "outputs": [
    {
     "data": {
      "text/plain": [
       "      predicted\n",
       "actual   0   1\n",
       "     0 393  80\n",
       "     1  14 459"
      ]
     },
     "metadata": {},
     "output_type": "display_data"
    }
   ],
   "source": [
    "actual <- down_fraud_data$Class\n",
    "predicted <- round(fitted(fit9))\n",
    "xt <- xtabs(~ actual + predicted)\n",
    "xt"
   ]
  },
  {
   "cell_type": "code",
   "execution_count": 51,
   "metadata": {
    "vscode": {
     "languageId": "r"
    }
   },
   "outputs": [
    {
     "data": {
      "text/html": [
       "0.901"
      ],
      "text/latex": [
       "0.901"
      ],
      "text/markdown": [
       "0.901"
      ],
      "text/plain": [
       "[1] 0.901"
      ]
     },
     "metadata": {},
     "output_type": "display_data"
    }
   ],
   "source": [
    "accuracy <- sum(diag(xt))/sum(xt)\n",
    "round(accuracy,3)"
   ]
  },
  {
   "cell_type": "code",
   "execution_count": 52,
   "metadata": {
    "vscode": {
     "languageId": "r"
    }
   },
   "outputs": [
    {
     "name": "stderr",
     "output_type": "stream",
     "text": [
      "Warning message:\n",
      "\"glm.fit: fitted probabilities numerically 0 or 1 occurred\"\n"
     ]
    },
    {
     "data": {
      "text/plain": [
       "\n",
       "Call:\n",
       "glm(formula = Class ~ . - V2 - V3 - V17 - V18 - V25 - V26, family = binomial, \n",
       "    data = down_fraud_data)\n",
       "\n",
       "Coefficients:\n",
       "              Estimate Std. Error z value Pr(>|z|)    \n",
       "(Intercept) -3.395e+00  4.836e-01  -7.019 2.24e-12 ***\n",
       "Time        -2.643e-06  4.595e-06  -0.575 0.565220    \n",
       "V1          -2.715e-02  2.577e-01  -0.105 0.916095    \n",
       "V4           1.282e+00  2.137e-01   6.001 1.96e-09 ***\n",
       "V5           1.150e-01  2.142e-01   0.537 0.591185    \n",
       "V6          -4.573e-01  2.739e-01  -1.669 0.095046 .  \n",
       "V7          -3.311e-01  2.729e-01  -1.213 0.225048    \n",
       "V8          -1.081e+00  2.821e-01  -3.832 0.000127 ***\n",
       "V9          -1.797e-01  2.578e-01  -0.697 0.485903    \n",
       "V10         -5.693e-01  3.372e-01  -1.688 0.091346 .  \n",
       "V11          4.527e-01  1.872e-01   2.418 0.015609 *  \n",
       "V12         -6.326e-01  2.047e-01  -3.091 0.001994 ** \n",
       "V13         -2.623e-01  1.771e-01  -1.481 0.138505    \n",
       "V14         -9.440e-01  1.986e-01  -4.752 2.01e-06 ***\n",
       "V15         -1.554e-01  2.022e-01  -0.769 0.442087    \n",
       "V16         -2.051e-01  2.206e-01  -0.930 0.352543    \n",
       "V19         -6.879e-02  1.826e-01  -0.377 0.706308    \n",
       "V20         -6.219e-01  3.686e-01  -1.687 0.091578 .  \n",
       "V21         -5.056e-01  2.242e-01  -2.255 0.024145 *  \n",
       "V22          5.501e-01  2.138e-01   2.573 0.010070 *  \n",
       "V23         -3.788e-02  1.351e-01  -0.280 0.779138    \n",
       "V24          9.036e-02  2.232e-01   0.405 0.685583    \n",
       "V27          2.756e-01  2.371e-01   1.162 0.245098    \n",
       "V28          2.243e-01  3.277e-01   0.685 0.493532    \n",
       "Amount       3.692e-03  1.383e-03   2.669 0.007605 ** \n",
       "---\n",
       "Signif. codes:  0 '***' 0.001 '**' 0.01 '*' 0.05 '.' 0.1 ' ' 1\n",
       "\n",
       "(Dispersion parameter for binomial family taken to be 1)\n",
       "\n",
       "    Null deviance: 1311.4  on 945  degrees of freedom\n",
       "Residual deviance:  238.6  on 921  degrees of freedom\n",
       "AIC: 288.6\n",
       "\n",
       "Number of Fisher Scoring iterations: 10\n"
      ]
     },
     "metadata": {},
     "output_type": "display_data"
    }
   ],
   "source": [
    "fit10 <- glm(Class ~ . - V2 - V3 - V17 - V18 - V25 - V26, data=down_fraud_data, family=binomial)\n",
    "summary(fit10)"
   ]
  },
  {
   "cell_type": "code",
   "execution_count": 53,
   "metadata": {
    "vscode": {
     "languageId": "r"
    }
   },
   "outputs": [
    {
     "data": {
      "image/png": "[encoded data removed]",
      "text/plain": [
       "Plot with title \"\""
      ]
     },
     "metadata": {
      "image/png": {
       "height": 420,
       "width": 420
      }
     },
     "output_type": "display_data"
    }
   ],
   "source": [
    "par(mfrow=c(2,2))\n",
    "plot(fit10)"
   ]
  },
  {
   "cell_type": "code",
   "execution_count": 54,
   "metadata": {
    "vscode": {
     "languageId": "r"
    }
   },
   "outputs": [
    {
     "data": {
      "text/plain": [
       "      predicted\n",
       "actual   0   1\n",
       "     0 462  11\n",
       "     1  34 439"
      ]
     },
     "metadata": {},
     "output_type": "display_data"
    }
   ],
   "source": [
    "actual <- down_fraud_data$Class\n",
    "predicted <- round(fitted(fit10))\n",
    "xt <- xtabs(~ actual + predicted)\n",
    "xt"
   ]
  },
  {
   "cell_type": "code",
   "execution_count": 55,
   "metadata": {
    "vscode": {
     "languageId": "r"
    }
   },
   "outputs": [
    {
     "data": {
      "text/html": [
       "0.952"
      ],
      "text/latex": [
       "0.952"
      ],
      "text/markdown": [
       "0.952"
      ],
      "text/plain": [
       "[1] 0.952"
      ]
     },
     "metadata": {},
     "output_type": "display_data"
    }
   ],
   "source": [
    "accuracy <- sum(diag(xt))/sum(xt)\n",
    "round(accuracy,3)"
   ]
  },
  {
   "cell_type": "code",
   "execution_count": 56,
   "metadata": {
    "vscode": {
     "languageId": "r"
    }
   },
   "outputs": [
    {
     "name": "stderr",
     "output_type": "stream",
     "text": [
      "Warning message:\n",
      "\"glm.fit: fitted probabilities numerically 0 or 1 occurred\"\n"
     ]
    },
    {
     "data": {
      "text/plain": [
       "\n",
       "Call:\n",
       "glm(formula = Class ~ . - Time - V2 - V3 - V6 - V7 - V9 - V11 - \n",
       "    V12 - V15 - V16 - V17 - V18 - V19 - V24 - V25 - V26, family = \"binomial\", \n",
       "    data = down_fraud_data)\n",
       "\n",
       "Coefficients:\n",
       "              Estimate Std. Error z value Pr(>|z|)    \n",
       "(Intercept) -3.4190185  0.2878784 -11.877  < 2e-16 ***\n",
       "V1          -0.4481383  0.1793095  -2.499  0.01245 *  \n",
       "V4           1.5395902  0.2021202   7.617 2.59e-14 ***\n",
       "V5           0.0333827  0.1614401   0.207  0.83618    \n",
       "V8          -0.9213656  0.2276913  -4.047 5.20e-05 ***\n",
       "V10         -0.8240366  0.2818571  -2.924  0.00346 ** \n",
       "V13         -0.3111517  0.1642938  -1.894  0.05824 .  \n",
       "V14         -0.8223810  0.1695073  -4.852 1.22e-06 ***\n",
       "V20         -0.5700248  0.2768682  -2.059  0.03951 *  \n",
       "V21         -0.3690881  0.1788154  -2.064  0.03901 *  \n",
       "V22          0.3817472  0.1827023   2.089  0.03667 *  \n",
       "V23         -0.2348681  0.0942723  -2.491  0.01272 *  \n",
       "V27          0.1699842  0.1818252   0.935  0.34985    \n",
       "V28          0.1234452  0.2654904   0.465  0.64195    \n",
       "Amount       0.0017336  0.0008592   2.018  0.04363 *  \n",
       "---\n",
       "Signif. codes:  0 '***' 0.001 '**' 0.01 '*' 0.05 '.' 0.1 ' ' 1\n",
       "\n",
       "(Dispersion parameter for binomial family taken to be 1)\n",
       "\n",
       "    Null deviance: 1311.43  on 945  degrees of freedom\n",
       "Residual deviance:  265.68  on 931  degrees of freedom\n",
       "AIC: 295.68\n",
       "\n",
       "Number of Fisher Scoring iterations: 9\n"
      ]
     },
     "metadata": {},
     "output_type": "display_data"
    }
   ],
   "source": [
    "fit11 <- glm(Class ~ . - Time - V2 - V3 - V6 - V7 - V9 - V11 - V12 - V15 - V16 - V17 - V18 - V19 - V24 - V25 - V26 , data=down_fraud_data, family = \"binomial\")\n",
    "summary(fit11)"
   ]
  },
  {
   "cell_type": "code",
   "execution_count": 57,
   "metadata": {
    "vscode": {
     "languageId": "r"
    }
   },
   "outputs": [
    {
     "data": {
      "image/png": "[encoded data removed]",
      "text/plain": [
       "Plot with title \"\""
      ]
     },
     "metadata": {
      "image/png": {
       "height": 420,
       "width": 420
      }
     },
     "output_type": "display_data"
    }
   ],
   "source": [
    "par(mfrow=c(2,2))\n",
    "plot(fit11)"
   ]
  },
  {
   "cell_type": "code",
   "execution_count": 58,
   "metadata": {
    "vscode": {
     "languageId": "r"
    }
   },
   "outputs": [
    {
     "data": {
      "text/plain": [
       "      predicted\n",
       "actual   0   1\n",
       "     0 457  16\n",
       "     1  39 434"
      ]
     },
     "metadata": {},
     "output_type": "display_data"
    }
   ],
   "source": [
    "actual <- down_fraud_data$Class\n",
    "predicted <- round(fitted(fit11))\n",
    "xt <- xtabs(~ actual + predicted)\n",
    "xt"
   ]
  },
  {
   "cell_type": "code",
   "execution_count": 59,
   "metadata": {
    "vscode": {
     "languageId": "r"
    }
   },
   "outputs": [
    {
     "data": {
      "text/html": [
       "0.942"
      ],
      "text/latex": [
       "0.942"
      ],
      "text/markdown": [
       "0.942"
      ],
      "text/plain": [
       "[1] 0.942"
      ]
     },
     "metadata": {},
     "output_type": "display_data"
    }
   ],
   "source": [
    "accuracy <- sum(diag(xt))/sum(xt)\n",
    "round(accuracy,3)"
   ]
  },
  {
   "cell_type": "code",
   "execution_count": 60,
   "metadata": {
    "vscode": {
     "languageId": "r"
    }
   },
   "outputs": [
    {
     "name": "stderr",
     "output_type": "stream",
     "text": [
      "Warning message:\n",
      "\"glm.fit: fitted probabilities numerically 0 or 1 occurred\"\n"
     ]
    },
    {
     "data": {
      "text/plain": [
       "\n",
       "Call:\n",
       "glm(formula = Class ~ . - Amount - Time - V1 - V2 - V3 - V6 - \n",
       "    V7 - V9 - V11 - V12 - V15 - V16 - V17 - V18 - V19 - V24 - \n",
       "    V25 - V26, family = \"binomial\", data = down_fraud_data)\n",
       "\n",
       "Coefficients:\n",
       "            Estimate Std. Error z value Pr(>|z|)    \n",
       "(Intercept) -3.23954    0.26108 -12.408  < 2e-16 ***\n",
       "V4           1.61847    0.19832   8.161 3.33e-16 ***\n",
       "V5          -0.12319    0.16047  -0.768 0.442690    \n",
       "V8          -0.81040    0.17766  -4.562 5.08e-06 ***\n",
       "V10         -0.91327    0.27746  -3.292 0.000996 ***\n",
       "V13         -0.38213    0.15758  -2.425 0.015310 *  \n",
       "V14         -0.77456    0.16818  -4.606 4.11e-06 ***\n",
       "V20         -0.16008    0.16242  -0.986 0.324341    \n",
       "V21         -0.14995    0.16553  -0.906 0.364978    \n",
       "V22          0.33508    0.17818   1.881 0.060026 .  \n",
       "V23         -0.30518    0.09201  -3.317 0.000911 ***\n",
       "V27          0.04826    0.18300   0.264 0.792016    \n",
       "V28          0.06689    0.24845   0.269 0.787747    \n",
       "---\n",
       "Signif. codes:  0 '***' 0.001 '**' 0.01 '*' 0.05 '.' 0.1 ' ' 1\n",
       "\n",
       "(Dispersion parameter for binomial family taken to be 1)\n",
       "\n",
       "    Null deviance: 1311.43  on 945  degrees of freedom\n",
       "Residual deviance:  278.48  on 933  degrees of freedom\n",
       "AIC: 304.48\n",
       "\n",
       "Number of Fisher Scoring iterations: 9\n"
      ]
     },
     "metadata": {},
     "output_type": "display_data"
    }
   ],
   "source": [
    "fit12 <- glm(Class ~ . - Amount - Time - V1 - V2 - V3 - V6 - V7 - V9 - V11 - V12 - V15 - V16 - V17 - V18 - V19 - V24 - V25 - V26 , data=down_fraud_data, family = \"binomial\")\n",
    "summary(fit12)"
   ]
  },
  {
   "cell_type": "code",
   "execution_count": 61,
   "metadata": {
    "vscode": {
     "languageId": "r"
    }
   },
   "outputs": [
    {
     "data": {
      "image/png": "[encoded data removed]",
      "text/plain": [
       "Plot with title \"\""
      ]
     },
     "metadata": {
      "image/png": {
       "height": 420,
       "width": 420
      }
     },
     "output_type": "display_data"
    }
   ],
   "source": [
    "par(mfrow=c(2,2))\n",
    "plot(fit12)"
   ]
  },
  {
   "cell_type": "code",
   "execution_count": 62,
   "metadata": {
    "vscode": {
     "languageId": "r"
    }
   },
   "outputs": [
    {
     "data": {
      "text/plain": [
       "      predicted\n",
       "actual   0   1\n",
       "     0 458  15\n",
       "     1  39 434"
      ]
     },
     "metadata": {},
     "output_type": "display_data"
    }
   ],
   "source": [
    "actual <- down_fraud_data$Class\n",
    "predicted <- round(fitted(fit12))\n",
    "xt <- xtabs(~ actual + predicted)\n",
    "xt"
   ]
  },
  {
   "cell_type": "code",
   "execution_count": 63,
   "metadata": {
    "vscode": {
     "languageId": "r"
    }
   },
   "outputs": [
    {
     "data": {
      "text/html": [
       "0.943"
      ],
      "text/latex": [
       "0.943"
      ],
      "text/markdown": [
       "0.943"
      ],
      "text/plain": [
       "[1] 0.943"
      ]
     },
     "metadata": {},
     "output_type": "display_data"
    }
   ],
   "source": [
    "accuracy <- sum(diag(xt))/sum(xt)\n",
    "round(accuracy,3)"
   ]
  }
 ],
 "metadata": {
  "kernelspec": {
   "display_name": "R",
   "language": "R",
   "name": "ir"
  },
  "language_info": {
   "codemirror_mode": "r",
   "file_extension": ".r",
   "mimetype": "text/x-r-source",
   "name": "R",
   "pygments_lexer": "r",
   "version": "4.3.2"
  }
 },
 "nbformat": 4,
 "nbformat_minor": 2
}
