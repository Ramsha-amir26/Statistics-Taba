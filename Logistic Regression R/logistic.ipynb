{
 "cells": [
  {
   "cell_type": "code",
   "execution_count": 1,
   "metadata": {
    "vscode": {
     "languageId": "r"
    }
   },
   "outputs": [
    {
     "name": "stderr",
     "output_type": "stream",
     "text": [
      "Warning message:\n",
      "\"package 'ggplot2' was built under R version 4.3.3\"\n",
      "\n",
      "Attaching package: 'dplyr'\n",
      "\n",
      "\n",
      "The following objects are masked from 'package:stats':\n",
      "\n",
      "    filter, lag\n",
      "\n",
      "\n",
      "The following objects are masked from 'package:base':\n",
      "\n",
      "    intersect, setdiff, setequal, union\n",
      "\n",
      "\n",
      "Warning message:\n",
      "\"package 'caret' was built under R version 4.3.3\"\n",
      "Loading required package: lattice\n",
      "\n"
     ]
    },
    {
     "name": "stderr",
     "output_type": "stream",
     "text": [
      "Warning message:\n",
      "\"package 'ResourceSelection' was built under R version 4.3.3\"\n",
      "ResourceSelection 0.3-6 \t 2023-06-27\n",
      "\n"
     ]
    }
   ],
   "source": [
    "library(ggplot2)\n",
    "library(dplyr)\n",
    "library(tidyr)\n",
    "library(caret)\n",
    "library(ResourceSelection)"
   ]
  },
  {
   "cell_type": "code",
   "execution_count": 2,
   "metadata": {
    "vscode": {
     "languageId": "r"
    }
   },
   "outputs": [
    {
     "data": {
      "text/html": [
       "<table class=\"dataframe\">\n",
       "<caption>A data.frame: 6 × 31</caption>\n",
       "<thead>\n",
       "\t<tr><th></th><th scope=col>Time</th><th scope=col>V1</th><th scope=col>V2</th><th scope=col>V3</th><th scope=col>V4</th><th scope=col>V5</th><th scope=col>V6</th><th scope=col>V7</th><th scope=col>V8</th><th scope=col>V9</th><th scope=col>⋯</th><th scope=col>V21</th><th scope=col>V22</th><th scope=col>V23</th><th scope=col>V24</th><th scope=col>V25</th><th scope=col>V26</th><th scope=col>V27</th><th scope=col>V28</th><th scope=col>Amount</th><th scope=col>Class</th></tr>\n",
       "\t<tr><th></th><th scope=col>&lt;dbl&gt;</th><th scope=col>&lt;dbl&gt;</th><th scope=col>&lt;dbl&gt;</th><th scope=col>&lt;dbl&gt;</th><th scope=col>&lt;dbl&gt;</th><th scope=col>&lt;dbl&gt;</th><th scope=col>&lt;dbl&gt;</th><th scope=col>&lt;dbl&gt;</th><th scope=col>&lt;dbl&gt;</th><th scope=col>&lt;dbl&gt;</th><th scope=col>⋯</th><th scope=col>&lt;dbl&gt;</th><th scope=col>&lt;dbl&gt;</th><th scope=col>&lt;dbl&gt;</th><th scope=col>&lt;dbl&gt;</th><th scope=col>&lt;dbl&gt;</th><th scope=col>&lt;dbl&gt;</th><th scope=col>&lt;dbl&gt;</th><th scope=col>&lt;dbl&gt;</th><th scope=col>&lt;dbl&gt;</th><th scope=col>&lt;int&gt;</th></tr>\n",
       "</thead>\n",
       "<tbody>\n",
       "\t<tr><th scope=row>1</th><td>0</td><td>-0.6980436</td><td>-0.04419812</td><td>1.6811673</td><td> 0.9745233</td><td>-0.245692619</td><td> 0.34715606</td><td> 0.19516625</td><td> 0.08370937</td><td> 0.3320762</td><td>⋯</td><td>-0.02528877</td><td> 0.38346201</td><td>-0.17712600</td><td> 0.1105104</td><td> 0.2466123</td><td>-0.3923114</td><td> 0.33748690</td><td>-0.06418093</td><td>149.62</td><td>0</td></tr>\n",
       "\t<tr><th scope=row>2</th><td>0</td><td> 0.6118281</td><td> 0.16162642</td><td>0.1103481</td><td> 0.3168994</td><td> 0.043585540</td><td>-0.06183566</td><td>-0.06418938</td><td> 0.07217789</td><td>-0.2331601</td><td>⋯</td><td>-0.31188331</td><td>-0.88147339</td><td> 0.16239800</td><td>-0.5611484</td><td> 0.3207289</td><td> 0.2611633</td><td>-0.02269927</td><td> 0.04488712</td><td>  2.69</td><td>0</td></tr>\n",
       "\t<tr><th scope=row>3</th><td>1</td><td>-0.6972977</td><td>-0.81384628</td><td>1.1753368</td><td> 0.2685503</td><td>-0.365428546</td><td> 1.35179670</td><td> 0.64468863</td><td> 0.21006306</td><td>-1.3826241</td><td>⋯</td><td> 0.34258177</td><td> 1.06504576</td><td> 1.45808689</td><td>-1.1381284</td><td>-0.6286053</td><td>-0.2885504</td><td>-0.13987025</td><td>-0.18215547</td><td>378.66</td><td>0</td></tr>\n",
       "\t<tr><th scope=row>4</th><td>1</td><td>-0.4960260</td><td>-0.11248295</td><td>1.1884502</td><td>-0.6104519</td><td>-0.007486433</td><td> 0.93638751</td><td> 0.19354560</td><td> 0.32011743</td><td>-1.2661192</td><td>⋯</td><td>-0.14960499</td><td> 0.00727844</td><td>-0.30514637</td><td>-1.9410890</td><td> 1.2420391</td><td>-0.4603827</td><td> 0.15849354</td><td> 0.18735562</td><td>123.50</td><td>0</td></tr>\n",
       "\t<tr><th scope=row>5</th><td>2</td><td>-0.5945675</td><td> 0.53302677</td><td>1.0265370</td><td> 0.2849940</td><td>-0.295708736</td><td> 0.07201686</td><td> 0.48298296</td><td>-0.22944885</td><td> 0.7464582</td><td>⋯</td><td>-0.01302746</td><td> 1.10175693</td><td>-0.22039050</td><td> 0.2332575</td><td>-0.3952447</td><td> 1.0419856</td><td> 0.55445514</td><td> 0.65590152</td><td> 69.99</td><td>0</td></tr>\n",
       "\t<tr><th scope=row>6</th><td>2</td><td>-0.2186654</td><td> 0.58330073</td><td>0.7563618</td><td>-0.1189747</td><td> 0.305725744</td><td>-0.02231914</td><td> 0.38789196</td><td> 0.22078229</td><td>-0.5191011</td><td>⋯</td><td>-0.28767899</td><td>-0.77265121</td><td>-0.04232414</td><td>-0.6132929</td><td>-0.4466323</td><td> 0.2197161</td><td> 0.64143563</td><td> 0.24717586</td><td>  3.67</td><td>0</td></tr>\n",
       "</tbody>\n",
       "</table>\n"
      ],
      "text/latex": [
       "A data.frame: 6 × 31\n",
       "\\begin{tabular}{r|lllllllllllllllllllll}\n",
       "  & Time & V1 & V2 & V3 & V4 & V5 & V6 & V7 & V8 & V9 & ⋯ & V21 & V22 & V23 & V24 & V25 & V26 & V27 & V28 & Amount & Class\\\\\n",
       "  & <dbl> & <dbl> & <dbl> & <dbl> & <dbl> & <dbl> & <dbl> & <dbl> & <dbl> & <dbl> & ⋯ & <dbl> & <dbl> & <dbl> & <dbl> & <dbl> & <dbl> & <dbl> & <dbl> & <dbl> & <int>\\\\\n",
       "\\hline\n",
       "\t1 & 0 & -0.6980436 & -0.04419812 & 1.6811673 &  0.9745233 & -0.245692619 &  0.34715606 &  0.19516625 &  0.08370937 &  0.3320762 & ⋯ & -0.02528877 &  0.38346201 & -0.17712600 &  0.1105104 &  0.2466123 & -0.3923114 &  0.33748690 & -0.06418093 & 149.62 & 0\\\\\n",
       "\t2 & 0 &  0.6118281 &  0.16162642 & 0.1103481 &  0.3168994 &  0.043585540 & -0.06183566 & -0.06418938 &  0.07217789 & -0.2331601 & ⋯ & -0.31188331 & -0.88147339 &  0.16239800 & -0.5611484 &  0.3207289 &  0.2611633 & -0.02269927 &  0.04488712 &   2.69 & 0\\\\\n",
       "\t3 & 1 & -0.6972977 & -0.81384628 & 1.1753368 &  0.2685503 & -0.365428546 &  1.35179670 &  0.64468863 &  0.21006306 & -1.3826241 & ⋯ &  0.34258177 &  1.06504576 &  1.45808689 & -1.1381284 & -0.6286053 & -0.2885504 & -0.13987025 & -0.18215547 & 378.66 & 0\\\\\n",
       "\t4 & 1 & -0.4960260 & -0.11248295 & 1.1884502 & -0.6104519 & -0.007486433 &  0.93638751 &  0.19354560 &  0.32011743 & -1.2661192 & ⋯ & -0.14960499 &  0.00727844 & -0.30514637 & -1.9410890 &  1.2420391 & -0.4603827 &  0.15849354 &  0.18735562 & 123.50 & 0\\\\\n",
       "\t5 & 2 & -0.5945675 &  0.53302677 & 1.0265370 &  0.2849940 & -0.295708736 &  0.07201686 &  0.48298296 & -0.22944885 &  0.7464582 & ⋯ & -0.01302746 &  1.10175693 & -0.22039050 &  0.2332575 & -0.3952447 &  1.0419856 &  0.55445514 &  0.65590152 &  69.99 & 0\\\\\n",
       "\t6 & 2 & -0.2186654 &  0.58330073 & 0.7563618 & -0.1189747 &  0.305725744 & -0.02231914 &  0.38789196 &  0.22078229 & -0.5191011 & ⋯ & -0.28767899 & -0.77265121 & -0.04232414 & -0.6132929 & -0.4466323 &  0.2197161 &  0.64143563 &  0.24717586 &   3.67 & 0\\\\\n",
       "\\end{tabular}\n"
      ],
      "text/markdown": [
       "\n",
       "A data.frame: 6 × 31\n",
       "\n",
       "| <!--/--> | Time &lt;dbl&gt; | V1 &lt;dbl&gt; | V2 &lt;dbl&gt; | V3 &lt;dbl&gt; | V4 &lt;dbl&gt; | V5 &lt;dbl&gt; | V6 &lt;dbl&gt; | V7 &lt;dbl&gt; | V8 &lt;dbl&gt; | V9 &lt;dbl&gt; | ⋯ ⋯ | V21 &lt;dbl&gt; | V22 &lt;dbl&gt; | V23 &lt;dbl&gt; | V24 &lt;dbl&gt; | V25 &lt;dbl&gt; | V26 &lt;dbl&gt; | V27 &lt;dbl&gt; | V28 &lt;dbl&gt; | Amount &lt;dbl&gt; | Class &lt;int&gt; |\n",
       "|---|---|---|---|---|---|---|---|---|---|---|---|---|---|---|---|---|---|---|---|---|---|\n",
       "| 1 | 0 | -0.6980436 | -0.04419812 | 1.6811673 |  0.9745233 | -0.245692619 |  0.34715606 |  0.19516625 |  0.08370937 |  0.3320762 | ⋯ | -0.02528877 |  0.38346201 | -0.17712600 |  0.1105104 |  0.2466123 | -0.3923114 |  0.33748690 | -0.06418093 | 149.62 | 0 |\n",
       "| 2 | 0 |  0.6118281 |  0.16162642 | 0.1103481 |  0.3168994 |  0.043585540 | -0.06183566 | -0.06418938 |  0.07217789 | -0.2331601 | ⋯ | -0.31188331 | -0.88147339 |  0.16239800 | -0.5611484 |  0.3207289 |  0.2611633 | -0.02269927 |  0.04488712 |   2.69 | 0 |\n",
       "| 3 | 1 | -0.6972977 | -0.81384628 | 1.1753368 |  0.2685503 | -0.365428546 |  1.35179670 |  0.64468863 |  0.21006306 | -1.3826241 | ⋯ |  0.34258177 |  1.06504576 |  1.45808689 | -1.1381284 | -0.6286053 | -0.2885504 | -0.13987025 | -0.18215547 | 378.66 | 0 |\n",
       "| 4 | 1 | -0.4960260 | -0.11248295 | 1.1884502 | -0.6104519 | -0.007486433 |  0.93638751 |  0.19354560 |  0.32011743 | -1.2661192 | ⋯ | -0.14960499 |  0.00727844 | -0.30514637 | -1.9410890 |  1.2420391 | -0.4603827 |  0.15849354 |  0.18735562 | 123.50 | 0 |\n",
       "| 5 | 2 | -0.5945675 |  0.53302677 | 1.0265370 |  0.2849940 | -0.295708736 |  0.07201686 |  0.48298296 | -0.22944885 |  0.7464582 | ⋯ | -0.01302746 |  1.10175693 | -0.22039050 |  0.2332575 | -0.3952447 |  1.0419856 |  0.55445514 |  0.65590152 |  69.99 | 0 |\n",
       "| 6 | 2 | -0.2186654 |  0.58330073 | 0.7563618 | -0.1189747 |  0.305725744 | -0.02231914 |  0.38789196 |  0.22078229 | -0.5191011 | ⋯ | -0.28767899 | -0.77265121 | -0.04232414 | -0.6132929 | -0.4466323 |  0.2197161 |  0.64143563 |  0.24717586 |   3.67 | 0 |\n",
       "\n"
      ],
      "text/plain": [
       "  Time V1         V2          V3        V4         V5           V6         \n",
       "1 0    -0.6980436 -0.04419812 1.6811673  0.9745233 -0.245692619  0.34715606\n",
       "2 0     0.6118281  0.16162642 0.1103481  0.3168994  0.043585540 -0.06183566\n",
       "3 1    -0.6972977 -0.81384628 1.1753368  0.2685503 -0.365428546  1.35179670\n",
       "4 1    -0.4960260 -0.11248295 1.1884502 -0.6104519 -0.007486433  0.93638751\n",
       "5 2    -0.5945675  0.53302677 1.0265370  0.2849940 -0.295708736  0.07201686\n",
       "6 2    -0.2186654  0.58330073 0.7563618 -0.1189747  0.305725744 -0.02231914\n",
       "  V7          V8          V9         ⋯ V21         V22         V23        \n",
       "1  0.19516625  0.08370937  0.3320762 ⋯ -0.02528877  0.38346201 -0.17712600\n",
       "2 -0.06418938  0.07217789 -0.2331601 ⋯ -0.31188331 -0.88147339  0.16239800\n",
       "3  0.64468863  0.21006306 -1.3826241 ⋯  0.34258177  1.06504576  1.45808689\n",
       "4  0.19354560  0.32011743 -1.2661192 ⋯ -0.14960499  0.00727844 -0.30514637\n",
       "5  0.48298296 -0.22944885  0.7464582 ⋯ -0.01302746  1.10175693 -0.22039050\n",
       "6  0.38789196  0.22078229 -0.5191011 ⋯ -0.28767899 -0.77265121 -0.04232414\n",
       "  V24        V25        V26        V27         V28         Amount Class\n",
       "1  0.1105104  0.2466123 -0.3923114  0.33748690 -0.06418093 149.62 0    \n",
       "2 -0.5611484  0.3207289  0.2611633 -0.02269927  0.04488712   2.69 0    \n",
       "3 -1.1381284 -0.6286053 -0.2885504 -0.13987025 -0.18215547 378.66 0    \n",
       "4 -1.9410890  1.2420391 -0.4603827  0.15849354  0.18735562 123.50 0    \n",
       "5  0.2332575 -0.3952447  1.0419856  0.55445514  0.65590152  69.99 0    \n",
       "6 -0.6132929 -0.4466323  0.2197161  0.64143563  0.24717586   3.67 0    "
      ]
     },
     "metadata": {},
     "output_type": "display_data"
    }
   ],
   "source": [
    "# Load the data\n",
    "fraud_data <- read.csv(\"Datasets/fraud.csv\")\n",
    "\n",
    "head(fraud_data)"
   ]
  },
  {
   "cell_type": "code",
   "execution_count": 3,
   "metadata": {
    "vscode": {
     "languageId": "r"
    }
   },
   "outputs": [
    {
     "name": "stdout",
     "output_type": "stream",
     "text": [
      "'data.frame':\t283726 obs. of  31 variables:\n",
      " $ Time  : num  0 0 1 1 2 2 4 7 7 9 ...\n",
      " $ V1    : num  -0.698 0.612 -0.697 -0.496 -0.595 ...\n",
      " $ V2    : num  -0.0442 0.1616 -0.8138 -0.1125 0.533 ...\n",
      " $ V3    : num  1.68 0.11 1.18 1.19 1.03 ...\n",
      " $ V4    : num  0.975 0.317 0.269 -0.61 0.285 ...\n",
      " $ V5    : num  -0.24569 0.04359 -0.36543 -0.00749 -0.29571 ...\n",
      " $ V6    : num  0.3472 -0.0618 1.3518 0.9364 0.072 ...\n",
      " $ V7    : num  0.1952 -0.0642 0.6447 0.1935 0.483 ...\n",
      " $ V8    : num  0.0837 0.0722 0.2101 0.3201 -0.2294 ...\n",
      " $ V9    : num  0.332 -0.233 -1.383 -1.266 0.746 ...\n",
      " $ V10   : num  0.0843 -0.1551 0.1929 -0.0511 0.6996 ...\n",
      " $ V11   : num  -0.541 1.583 0.613 -0.222 -0.808 ...\n",
      " $ V12   : num  -0.6211 1.0709 0.0664 0.1792 0.5411 ...\n",
      " $ V13   : num  -0.996 0.491 0.721 0.51 1.352 ...\n",
      " $ V14   : num  -0.327 -0.151 -0.174 -0.302 -1.176 ...\n",
      " $ V15   : num  1.605 0.695 2.564 -0.69 0.191 ...\n",
      " $ V16   : num  -0.538 0.531 -3.308 -1.213 -0.517 ...\n",
      " $ V17   : num  0.247 -0.136 1.317 -0.812 -0.281 ...\n",
      " $ V18   : num  0.0308 -0.219 -0.1449 2.3475 -0.0456 ...\n",
      " $ V19   : num  0.497 -0.179 -2.781 -1.515 0.988 ...\n",
      " $ V20   : num  0.3265 -0.0897 0.6818 -0.2702 0.5306 ...\n",
      " $ V21   : num  -0.0253 -0.3119 0.3426 -0.1496 -0.013 ...\n",
      " $ V22   : num  0.38346 -0.88147 1.06505 0.00728 1.10176 ...\n",
      " $ V23   : num  -0.177 0.162 1.458 -0.305 -0.22 ...\n",
      " $ V24   : num  0.111 -0.561 -1.138 -1.941 0.233 ...\n",
      " $ V25   : num  0.247 0.321 -0.629 1.242 -0.395 ...\n",
      " $ V26   : num  -0.392 0.261 -0.289 -0.46 1.042 ...\n",
      " $ V27   : num  0.3375 -0.0227 -0.1399 0.1585 0.5545 ...\n",
      " $ V28   : num  -0.0642 0.0449 -0.1822 0.1874 0.6559 ...\n",
      " $ Amount: num  149.62 2.69 378.66 123.5 69.99 ...\n",
      " $ Class : int  0 0 0 0 0 0 0 0 0 0 ...\n"
     ]
    }
   ],
   "source": [
    "str(fraud_data)"
   ]
  },
  {
   "cell_type": "code",
   "execution_count": 4,
   "metadata": {
    "vscode": {
     "languageId": "r"
    }
   },
   "outputs": [
    {
     "data": {
      "text/plain": [
       "      Time              V1                   V2                  V3           \n",
       " Min.   :     0   Min.   :-28.956239   Min.   :-44.15838   Min.   :-32.03166  \n",
       " 1st Qu.: 54205   1st Qu.: -0.470195   1st Qu.: -0.36456   1st Qu.: -0.58971  \n",
       " Median : 84693   Median :  0.010464   Median :  0.03883   Median :  0.11928  \n",
       " Mean   : 94811   Mean   :  0.003038   Mean   : -0.00251   Mean   :  0.00107  \n",
       " 3rd Qu.:139298   3rd Qu.:  0.675590   3rd Qu.:  0.48599   3rd Qu.:  0.68070  \n",
       " Max.   :172792   Max.   :  1.260214   Max.   : 13.39509   Max.   :  6.21904  \n",
       "       V4                  V5                  V6           \n",
       " Min.   :-4.018693   Min.   :-82.60176   Min.   :-19.64104  \n",
       " 1st Qu.:-0.601148   1st Qu.: -0.50096   1st Qu.: -0.57738  \n",
       " Median :-0.015732   Median : -0.03883   Median : -0.20659  \n",
       " Mean   :-0.002098   Mean   :  0.00133   Mean   : -0.00086  \n",
       " 3rd Qu.: 0.523020   3rd Qu.:  0.44460   3rd Qu.:  0.29791  \n",
       " Max.   :11.932920   Max.   : 25.27339   Max.   : 55.03412  \n",
       "       V7                  V8                  V9            \n",
       " Min.   :-35.47978   Min.   :-62.09783   Min.   :-12.263038  \n",
       " 1st Qu.: -0.45005   1st Qu.: -0.17712   1st Qu.: -0.588065  \n",
       " Median :  0.03328   Median :  0.01857   Median : -0.048011  \n",
       " Mean   :  0.00147   Mean   : -0.00072   Mean   : -0.001457  \n",
       " 3rd Qu.:  0.46468   3rd Qu.:  0.27624   3rd Qu.:  0.544026  \n",
       " Max.   : 98.22680   Max.   : 16.96886   Max.   : 14.235602  \n",
       "      V10                  V11                 V12            \n",
       " Min.   :-22.842897   Min.   :-4.709314   Min.   :-18.783749  \n",
       " 1st Qu.: -0.497561   1st Qu.:-0.747653   1st Qu.: -0.408373  \n",
       " Median : -0.086618   Median :-0.031712   Median :  0.139817  \n",
       " Mean   : -0.001338   Mean   : 0.000198   Mean   : -0.000719  \n",
       " 3rd Qu.:  0.421419   3rd Qu.: 0.725989   3rd Qu.:  0.620280  \n",
       " Max.   : 22.059619   Max.   :11.798052   Max.   :  7.890413  \n",
       "      V13                 V14                  V15          \n",
       " Min.   :-5.818474   Min.   :-20.178556   Min.   :-4.91745  \n",
       " 1st Qu.:-0.650837   1st Qu.: -0.447097   1st Qu.:-0.63554  \n",
       " Median :-0.012986   Median :  0.052728   Median : 0.05389  \n",
       " Mean   : 0.000606   Mean   :  0.000265   Mean   : 0.00114  \n",
       " 3rd Qu.: 0.666223   3rd Qu.:  0.517042   3rd Qu.: 0.71058  \n",
       " Max.   : 7.159605   Max.   : 11.055030   Max.   : 9.70358  \n",
       "      V16                 V17                  V18            \n",
       " Min.   :-16.17250   Min.   :-29.866565   Min.   :-11.343445  \n",
       " 1st Qu.: -0.53435   1st Qu.: -0.574390   1st Qu.: -0.594731  \n",
       " Median :  0.07682   Median : -0.078180   Median : -0.002558  \n",
       " Mean   :  0.00133   Mean   :  0.000202   Mean   :  0.001809  \n",
       " 3rd Qu.:  0.59919   3rd Qu.:  0.473553   3rd Qu.:  0.599438  \n",
       " Max.   : 19.81823   Max.   : 10.983319   Max.   :  6.020067  \n",
       "      V19                 V20                 V21           \n",
       " Min.   :-8.868598   Min.   :-70.77771   Min.   :-48.11429  \n",
       " 1st Qu.:-0.560980   1st Qu.: -0.27464   1st Qu.: -0.31538  \n",
       " Median : 0.004140   Median : -0.08098   Median : -0.04067  \n",
       " Mean   :-0.000325   Mean   :  0.00024   Mean   : -0.00051  \n",
       " 3rd Qu.: 0.563708   3rd Qu.:  0.17300   3rd Qu.:  0.25721  \n",
       " Max.   : 6.874992   Max.   : 51.19703   Max.   : 37.57769  \n",
       "      V22                  V23                 V24           \n",
       " Min.   :-15.089554   Min.   :-71.84153   Min.   :-4.683788  \n",
       " 1st Qu.: -0.749016   1st Qu.: -0.25926   1st Qu.:-0.585267  \n",
       " Median :  0.009212   Median : -0.01789   Median : 0.067724  \n",
       " Mean   : -0.000021   Mean   :  0.00032   Mean   : 0.000354  \n",
       " 3rd Qu.:  0.729066   3rd Qu.:  0.23689   3rd Qu.: 0.726088  \n",
       " Max.   : 14.496009   Max.   : 36.12045   Max.   : 7.569926  \n",
       "      V25                  V26                V27           \n",
       " Min.   :-19.752486   Min.   :-5.40304   Min.   :-57.02092  \n",
       " 1st Qu.: -0.609119   1st Qu.:-0.67786   1st Qu.: -0.17850  \n",
       " Median :  0.031231   Median :-0.10823   Median :  0.00374  \n",
       " Mean   : -0.000446   Mean   : 0.00031   Mean   :  0.00445  \n",
       " 3rd Qu.:  0.672781   3rd Qu.: 0.49841   3rd Qu.:  0.23047  \n",
       " Max.   : 14.426891   Max.   : 7.29660   Max.   : 79.88045  \n",
       "      V28                Amount             Class         \n",
       " Min.   :-47.03912   Min.   :    0.00   Min.   :0.000000  \n",
       " 1st Qu.: -0.16102   1st Qu.:    5.60   1st Qu.:0.000000  \n",
       " Median :  0.03441   Median :   22.00   Median :0.000000  \n",
       " Mean   :  0.00167   Mean   :   88.47   Mean   :0.001667  \n",
       " 3rd Qu.:  0.23863   3rd Qu.:   77.51   3rd Qu.:0.000000  \n",
       " Max.   :103.18617   Max.   :25691.16   Max.   :1.000000  "
      ]
     },
     "metadata": {},
     "output_type": "display_data"
    }
   ],
   "source": [
    "summary(fraud_data)"
   ]
  },
  {
   "cell_type": "code",
   "execution_count": 5,
   "metadata": {
    "vscode": {
     "languageId": "r"
    }
   },
   "outputs": [],
   "source": [
    "fraud_data$Class <- as.factor(fraud_data$Class)"
   ]
  },
  {
   "cell_type": "code",
   "execution_count": 6,
   "metadata": {
    "vscode": {
     "languageId": "r"
    }
   },
   "outputs": [
    {
     "name": "stdout",
     "output_type": "stream",
     "text": [
      "'data.frame':\t283726 obs. of  31 variables:\n",
      " $ Time  : num  0 0 1 1 2 2 4 7 7 9 ...\n",
      " $ V1    : num  -0.698 0.612 -0.697 -0.496 -0.595 ...\n",
      " $ V2    : num  -0.0442 0.1616 -0.8138 -0.1125 0.533 ...\n",
      " $ V3    : num  1.68 0.11 1.18 1.19 1.03 ...\n",
      " $ V4    : num  0.975 0.317 0.269 -0.61 0.285 ...\n",
      " $ V5    : num  -0.24569 0.04359 -0.36543 -0.00749 -0.29571 ...\n",
      " $ V6    : num  0.3472 -0.0618 1.3518 0.9364 0.072 ...\n",
      " $ V7    : num  0.1952 -0.0642 0.6447 0.1935 0.483 ...\n",
      " $ V8    : num  0.0837 0.0722 0.2101 0.3201 -0.2294 ...\n",
      " $ V9    : num  0.332 -0.233 -1.383 -1.266 0.746 ...\n",
      " $ V10   : num  0.0843 -0.1551 0.1929 -0.0511 0.6996 ...\n",
      " $ V11   : num  -0.541 1.583 0.613 -0.222 -0.808 ...\n",
      " $ V12   : num  -0.6211 1.0709 0.0664 0.1792 0.5411 ...\n",
      " $ V13   : num  -0.996 0.491 0.721 0.51 1.352 ...\n",
      " $ V14   : num  -0.327 -0.151 -0.174 -0.302 -1.176 ...\n",
      " $ V15   : num  1.605 0.695 2.564 -0.69 0.191 ...\n",
      " $ V16   : num  -0.538 0.531 -3.308 -1.213 -0.517 ...\n",
      " $ V17   : num  0.247 -0.136 1.317 -0.812 -0.281 ...\n",
      " $ V18   : num  0.0308 -0.219 -0.1449 2.3475 -0.0456 ...\n",
      " $ V19   : num  0.497 -0.179 -2.781 -1.515 0.988 ...\n",
      " $ V20   : num  0.3265 -0.0897 0.6818 -0.2702 0.5306 ...\n",
      " $ V21   : num  -0.0253 -0.3119 0.3426 -0.1496 -0.013 ...\n",
      " $ V22   : num  0.38346 -0.88147 1.06505 0.00728 1.10176 ...\n",
      " $ V23   : num  -0.177 0.162 1.458 -0.305 -0.22 ...\n",
      " $ V24   : num  0.111 -0.561 -1.138 -1.941 0.233 ...\n",
      " $ V25   : num  0.247 0.321 -0.629 1.242 -0.395 ...\n",
      " $ V26   : num  -0.392 0.261 -0.289 -0.46 1.042 ...\n",
      " $ V27   : num  0.3375 -0.0227 -0.1399 0.1585 0.5545 ...\n",
      " $ V28   : num  -0.0642 0.0449 -0.1822 0.1874 0.6559 ...\n",
      " $ Amount: num  149.62 2.69 378.66 123.5 69.99 ...\n",
      " $ Class : Factor w/ 2 levels \"0\",\"1\": 1 1 1 1 1 1 1 1 1 1 ...\n"
     ]
    }
   ],
   "source": [
    "str(fraud_data)"
   ]
  },
  {
   "cell_type": "code",
   "execution_count": 7,
   "metadata": {
    "vscode": {
     "languageId": "r"
    }
   },
   "outputs": [
    {
     "data": {
      "text/plain": [
       "      Time              V1                   V2                  V3           \n",
       " Min.   :     0   Min.   :-28.956239   Min.   :-44.15838   Min.   :-32.03166  \n",
       " 1st Qu.: 54205   1st Qu.: -0.470195   1st Qu.: -0.36456   1st Qu.: -0.58971  \n",
       " Median : 84693   Median :  0.010464   Median :  0.03883   Median :  0.11928  \n",
       " Mean   : 94811   Mean   :  0.003038   Mean   : -0.00251   Mean   :  0.00107  \n",
       " 3rd Qu.:139298   3rd Qu.:  0.675590   3rd Qu.:  0.48599   3rd Qu.:  0.68070  \n",
       " Max.   :172792   Max.   :  1.260214   Max.   : 13.39509   Max.   :  6.21904  \n",
       "       V4                  V5                  V6           \n",
       " Min.   :-4.018693   Min.   :-82.60176   Min.   :-19.64104  \n",
       " 1st Qu.:-0.601148   1st Qu.: -0.50096   1st Qu.: -0.57738  \n",
       " Median :-0.015732   Median : -0.03883   Median : -0.20659  \n",
       " Mean   :-0.002098   Mean   :  0.00133   Mean   : -0.00086  \n",
       " 3rd Qu.: 0.523020   3rd Qu.:  0.44460   3rd Qu.:  0.29791  \n",
       " Max.   :11.932920   Max.   : 25.27339   Max.   : 55.03412  \n",
       "       V7                  V8                  V9            \n",
       " Min.   :-35.47978   Min.   :-62.09783   Min.   :-12.263038  \n",
       " 1st Qu.: -0.45005   1st Qu.: -0.17712   1st Qu.: -0.588065  \n",
       " Median :  0.03328   Median :  0.01857   Median : -0.048011  \n",
       " Mean   :  0.00147   Mean   : -0.00072   Mean   : -0.001457  \n",
       " 3rd Qu.:  0.46468   3rd Qu.:  0.27624   3rd Qu.:  0.544026  \n",
       " Max.   : 98.22680   Max.   : 16.96886   Max.   : 14.235602  \n",
       "      V10                  V11                 V12            \n",
       " Min.   :-22.842897   Min.   :-4.709314   Min.   :-18.783749  \n",
       " 1st Qu.: -0.497561   1st Qu.:-0.747653   1st Qu.: -0.408373  \n",
       " Median : -0.086618   Median :-0.031712   Median :  0.139817  \n",
       " Mean   : -0.001338   Mean   : 0.000198   Mean   : -0.000719  \n",
       " 3rd Qu.:  0.421419   3rd Qu.: 0.725989   3rd Qu.:  0.620280  \n",
       " Max.   : 22.059619   Max.   :11.798052   Max.   :  7.890413  \n",
       "      V13                 V14                  V15          \n",
       " Min.   :-5.818474   Min.   :-20.178556   Min.   :-4.91745  \n",
       " 1st Qu.:-0.650837   1st Qu.: -0.447097   1st Qu.:-0.63554  \n",
       " Median :-0.012986   Median :  0.052728   Median : 0.05389  \n",
       " Mean   : 0.000606   Mean   :  0.000265   Mean   : 0.00114  \n",
       " 3rd Qu.: 0.666223   3rd Qu.:  0.517042   3rd Qu.: 0.71058  \n",
       " Max.   : 7.159605   Max.   : 11.055030   Max.   : 9.70358  \n",
       "      V16                 V17                  V18            \n",
       " Min.   :-16.17250   Min.   :-29.866565   Min.   :-11.343445  \n",
       " 1st Qu.: -0.53435   1st Qu.: -0.574390   1st Qu.: -0.594731  \n",
       " Median :  0.07682   Median : -0.078180   Median : -0.002558  \n",
       " Mean   :  0.00133   Mean   :  0.000202   Mean   :  0.001809  \n",
       " 3rd Qu.:  0.59919   3rd Qu.:  0.473553   3rd Qu.:  0.599438  \n",
       " Max.   : 19.81823   Max.   : 10.983319   Max.   :  6.020067  \n",
       "      V19                 V20                 V21           \n",
       " Min.   :-8.868598   Min.   :-70.77771   Min.   :-48.11429  \n",
       " 1st Qu.:-0.560980   1st Qu.: -0.27464   1st Qu.: -0.31538  \n",
       " Median : 0.004140   Median : -0.08098   Median : -0.04067  \n",
       " Mean   :-0.000325   Mean   :  0.00024   Mean   : -0.00051  \n",
       " 3rd Qu.: 0.563708   3rd Qu.:  0.17300   3rd Qu.:  0.25721  \n",
       " Max.   : 6.874992   Max.   : 51.19703   Max.   : 37.57769  \n",
       "      V22                  V23                 V24           \n",
       " Min.   :-15.089554   Min.   :-71.84153   Min.   :-4.683788  \n",
       " 1st Qu.: -0.749016   1st Qu.: -0.25926   1st Qu.:-0.585267  \n",
       " Median :  0.009212   Median : -0.01789   Median : 0.067724  \n",
       " Mean   : -0.000021   Mean   :  0.00032   Mean   : 0.000354  \n",
       " 3rd Qu.:  0.729066   3rd Qu.:  0.23689   3rd Qu.: 0.726088  \n",
       " Max.   : 14.496009   Max.   : 36.12045   Max.   : 7.569926  \n",
       "      V25                  V26                V27           \n",
       " Min.   :-19.752486   Min.   :-5.40304   Min.   :-57.02092  \n",
       " 1st Qu.: -0.609119   1st Qu.:-0.67786   1st Qu.: -0.17850  \n",
       " Median :  0.031231   Median :-0.10823   Median :  0.00374  \n",
       " Mean   : -0.000446   Mean   : 0.00031   Mean   :  0.00445  \n",
       " 3rd Qu.:  0.672781   3rd Qu.: 0.49841   3rd Qu.:  0.23047  \n",
       " Max.   : 14.426891   Max.   : 7.29660   Max.   : 79.88045  \n",
       "      V28                Amount         Class     \n",
       " Min.   :-47.03912   Min.   :    0.00   0:283253  \n",
       " 1st Qu.: -0.16102   1st Qu.:    5.60   1:   473  \n",
       " Median :  0.03441   Median :   22.00             \n",
       " Mean   :  0.00167   Mean   :   88.47             \n",
       " 3rd Qu.:  0.23863   3rd Qu.:   77.51             \n",
       " Max.   :103.18617   Max.   :25691.16             "
      ]
     },
     "metadata": {},
     "output_type": "display_data"
    }
   ],
   "source": [
    "summary(fraud_data)"
   ]
  },
  {
   "cell_type": "markdown",
   "metadata": {},
   "source": [
    "## EDA"
   ]
  },
  {
   "cell_type": "code",
   "execution_count": 8,
   "metadata": {
    "vscode": {
     "languageId": "r"
    }
   },
   "outputs": [
    {
     "data": {
      "image/png": "[encoded data removed]",
      "text/plain": [
       "plot without title"
      ]
     },
     "metadata": {
      "image/png": {
       "height": 420,
       "width": 420
      }
     },
     "output_type": "display_data"
    }
   ],
   "source": [
    "class_percentages <- prop.table(table(fraud_data$Class)) * 100\n",
    "\n",
    "# Create a data frame for the pie chart\n",
    "pie_data <- data.frame(Class = names(class_percentages), Percentage = as.vector(class_percentages))\n",
    "\n",
    "# Create a pie chart\n",
    "pie_chart <- ggplot(data = pie_data, aes(x = \"\", y = Percentage, fill = Class)) +\n",
    "  geom_bar(stat = \"identity\") +\n",
    "  coord_polar(\"y\", start = 0) +  # Convert the bar plot to a pie chart\n",
    "  labs(title = \"Distribution of Class\",\n",
    "       fill = \"Class\",\n",
    "       y = \"Percentage\") +\n",
    "  geom_text(aes(label = paste0(round(Percentage, 1), \"%\")), position = position_stack(vjust = 0.5), size = 4) +  # Add percentage labels\n",
    "  theme_void() +  # Remove axis and grid lines\n",
    "  theme(legend.position = \"bottom\", plot.title = element_text(hjust = 0.5)) +  # Position the legend at the bottom and center the title\n",
    "  scale_fill_manual(labels = c(\"Non Fraud\", \"Fraud\"), values = c(\"#1b9e77\", \"#d95f02\"))  # Set custom labels and colors\n",
    "\n",
    "# Display the pie chart\n",
    "print(pie_chart)"
   ]
  },
  {
   "cell_type": "code",
   "execution_count": 9,
   "metadata": {
    "vscode": {
     "languageId": "r"
    }
   },
   "outputs": [
    {
     "data": {
      "image/png": "[encoded data removed]",
      "text/plain": [
       "plot without title"
      ]
     },
     "metadata": {
      "image/png": {
       "height": 420,
       "width": 420
      }
     },
     "output_type": "display_data"
    }
   ],
   "source": [
    "# Create a boxplot for the Amount variable\n",
    "amount_boxplot <- ggplot(fraud_data, aes(y = Amount)) +\n",
    "  geom_boxplot(fill = \"#0072B2\", color = \"black\") +\n",
    "  labs(title = \"Boxplot of Amount\",\n",
    "       y = \"Amount\") +\n",
    "  theme_minimal() +\n",
    "  theme(plot.title = element_text(hjust = 0.5))\n",
    "\n",
    "# Display the boxplot\n",
    "print(amount_boxplot)\n"
   ]
  },
  {
   "cell_type": "code",
   "execution_count": 10,
   "metadata": {
    "vscode": {
     "languageId": "r"
    }
   },
   "outputs": [
    {
     "data": {
      "image/png": "[encoded data removed]",
      "text/plain": [
       "plot without title"
      ]
     },
     "metadata": {
      "image/png": {
       "height": 420,
       "width": 420
      }
     },
     "output_type": "display_data"
    }
   ],
   "source": [
    "# Create a histogram for the Time variable\n",
    "time_histogram <- ggplot(fraud_data, aes(x = Time)) +\n",
    "  geom_histogram(binwidth = 1000, fill = \"#0072B2\", color = \"black\") +\n",
    "  labs(title = \"Histogram of Time\",\n",
    "       x = \"Time\",\n",
    "       y = \"Frequency\") +\n",
    "  theme_minimal() +\n",
    "  theme(plot.title = element_text(hjust = 0.5))\n",
    "\n",
    "# Display the histogram\n",
    "print(time_histogram)"
   ]
  },
  {
   "cell_type": "code",
   "execution_count": 11,
   "metadata": {
    "vscode": {
     "languageId": "r"
    }
   },
   "outputs": [
    {
     "data": {
      "image/png": "[encoded data removed]",
      "text/plain": [
       "plot without title"
      ]
     },
     "metadata": {
      "image/png": {
       "height": 420,
       "width": 420
      }
     },
     "output_type": "display_data"
    }
   ],
   "source": [
    "# Reshape the data to long format for boxplot\n",
    "fraud_data_long <- fraud_data %>%\n",
    "  select(-Time, -Class) %>%  # Exclude 'Time' and 'Class' columns\n",
    "  pivot_longer(cols = -Amount, names_to = \"Variable\", values_to = \"Value\")\n",
    "\n",
    "# Create separate boxplots for each variable\n",
    "boxplots <- ggplot(fraud_data_long, aes(x = Variable, y = Value)) +\n",
    "  geom_boxplot(fill = \"#0072B2\", color = \"black\") +\n",
    "  labs(title = \"Boxplots of Variables\",\n",
    "       x = NULL,  # Remove x-axis label\n",
    "       y = \"Value\") +\n",
    "  theme_minimal() +\n",
    "  theme(axis.text.x = element_blank(),  # Remove x-axis labels\n",
    "        strip.placement = \"bottom\",   # Place facet strip labels at the bottom\n",
    "        plot.title = element_text(hjust = 0.5)) +  # Center title\n",
    "  facet_wrap(~ Variable, scales = \"free\")  # Facet by variable with free scales\n",
    "\n",
    "# Display the boxplots\n",
    "print(boxplots)"
   ]
  },
  {
   "cell_type": "markdown",
   "metadata": {},
   "source": [
    "## LOGISTIC REGRESSION"
   ]
  },
  {
   "cell_type": "markdown",
   "metadata": {},
   "source": [
    "Model using all variables"
   ]
  },
  {
   "cell_type": "code",
   "execution_count": 12,
   "metadata": {
    "vscode": {
     "languageId": "r"
    }
   },
   "outputs": [
    {
     "data": {
      "text/plain": [
       "\n",
       "Call:\n",
       "glm(formula = Class ~ ., family = binomial, data = fraud_data)\n",
       "\n",
       "Coefficients:\n",
       "              Estimate Std. Error z value Pr(>|z|)    \n",
       "(Intercept) -8.398e+00  2.499e-01 -33.602  < 2e-16 ***\n",
       "Time        -3.676e-06  2.259e-06  -1.627 0.103644    \n",
       "V1           1.873e-01  8.251e-02   2.270 0.023223 *  \n",
       "V2           1.747e-02  9.585e-02   0.182 0.855338    \n",
       "V3          -1.258e-02  8.012e-02  -0.157 0.875214    \n",
       "V4           9.918e-01  1.046e-01   9.484  < 2e-16 ***\n",
       "V5           1.797e-01  9.206e-02   1.952 0.050930 .  \n",
       "V6          -1.651e-01  9.879e-02  -1.671 0.094654 .  \n",
       "V7          -1.164e-01  8.192e-02  -1.421 0.155426    \n",
       "V8          -2.082e-01  3.609e-02  -5.769 7.95e-09 ***\n",
       "V9          -3.095e-01  1.213e-01  -2.551 0.010746 *  \n",
       "V10         -8.859e-01  1.043e-01  -8.497  < 2e-16 ***\n",
       "V11         -5.899e-02  8.292e-02  -0.711 0.476836    \n",
       "V12          8.268e-02  8.653e-02   0.955 0.339352    \n",
       "V13         -3.242e-01  8.133e-02  -3.986 6.71e-05 ***\n",
       "V14         -5.215e-01  5.936e-02  -8.785  < 2e-16 ***\n",
       "V15         -1.104e-01  7.871e-02  -1.403 0.160600    \n",
       "V16         -1.740e-01  1.093e-01  -1.592 0.111425    \n",
       "V17         -1.170e-02  5.914e-02  -0.198 0.843112    \n",
       "V18         -1.160e-02  1.081e-01  -0.107 0.914486    \n",
       "V19          8.015e-02  7.899e-02   1.015 0.310237    \n",
       "V20         -3.554e-01  6.280e-02  -5.660 1.52e-08 ***\n",
       "V21          2.855e-01  4.350e-02   6.564 5.25e-11 ***\n",
       "V22          4.620e-01  9.727e-02   4.750 2.04e-06 ***\n",
       "V23         -6.366e-02  3.673e-02  -1.733 0.083037 .  \n",
       "V24          7.216e-02  8.944e-02   0.807 0.419787    \n",
       "V25         -2.635e-02  6.946e-02  -0.379 0.704382    \n",
       "V26          4.552e-03  9.171e-02   0.050 0.960418    \n",
       "V27         -3.271e-01  4.826e-02  -6.778 1.22e-11 ***\n",
       "V28         -9.751e-02  2.886e-02  -3.378 0.000729 ***\n",
       "Amount       9.227e-04  3.759e-04   2.454 0.014111 *  \n",
       "---\n",
       "Signif. codes:  0 '***' 0.001 '**' 0.01 '*' 0.05 '.' 0.1 ' ' 1\n",
       "\n",
       "(Dispersion parameter for binomial family taken to be 1)\n",
       "\n",
       "    Null deviance: 6996.5  on 283725  degrees of freedom\n",
       "Residual deviance: 2225.6  on 283695  degrees of freedom\n",
       "AIC: 2287.6\n",
       "\n",
       "Number of Fisher Scoring iterations: 12\n"
      ]
     },
     "metadata": {},
     "output_type": "display_data"
    }
   ],
   "source": [
    "fit1 <- glm(Class ~ ., data=fraud_data, family=binomial)\n",
    "summary(fit1)"
   ]
  },
  {
   "cell_type": "code",
   "execution_count": 13,
   "metadata": {
    "vscode": {
     "languageId": "r"
    }
   },
   "outputs": [
    {
     "data": {
      "image/png": "[encoded data removed]",
      "text/plain": [
       "Plot with title \"\""
      ]
     },
     "metadata": {
      "image/png": {
       "height": 420,
       "width": 420
      }
     },
     "output_type": "display_data"
    }
   ],
   "source": [
    "par(mfrow=c(2,2))\n",
    "plot(fit1)"
   ]
  },
  {
   "cell_type": "code",
   "execution_count": 14,
   "metadata": {
    "vscode": {
     "languageId": "r"
    }
   },
   "outputs": [
    {
     "data": {
      "text/plain": [
       "      predicted\n",
       "actual      0      1\n",
       "     0 283211     42\n",
       "     1    184    289"
      ]
     },
     "metadata": {},
     "output_type": "display_data"
    }
   ],
   "source": [
    "actual <- fraud_data$Class\n",
    "predicted <- round(fitted(fit1))\n",
    "xt <- xtabs(~ actual + predicted)\n",
    "xt"
   ]
  },
  {
   "cell_type": "code",
   "execution_count": 15,
   "metadata": {
    "vscode": {
     "languageId": "r"
    }
   },
   "outputs": [
    {
     "data": {
      "text/html": [
       "0.999"
      ],
      "text/latex": [
       "0.999"
      ],
      "text/markdown": [
       "0.999"
      ],
      "text/plain": [
       "[1] 0.999"
      ]
     },
     "metadata": {},
     "output_type": "display_data"
    }
   ],
   "source": [
    "accuracy <- sum(diag(xt))/sum(xt)\n",
    "round(accuracy,3)"
   ]
  },
  {
   "cell_type": "markdown",
   "metadata": {},
   "source": [
    "Removing V2, V3, V17, V18, V25, V26"
   ]
  },
  {
   "cell_type": "code",
   "execution_count": 16,
   "metadata": {
    "vscode": {
     "languageId": "r"
    }
   },
   "outputs": [
    {
     "data": {
      "text/plain": [
       "\n",
       "Call:\n",
       "glm(formula = Class ~ . - V2 - V3 - V17 - V18 - V25 - V26, family = binomial, \n",
       "    data = fraud_data)\n",
       "\n",
       "Coefficients:\n",
       "              Estimate Std. Error z value Pr(>|z|)    \n",
       "(Intercept) -8.421e+00  2.118e-01 -39.751  < 2e-16 ***\n",
       "Time        -3.400e-06  1.893e-06  -1.795 0.072576 .  \n",
       "V1           1.911e-01  7.527e-02   2.539 0.011108 *  \n",
       "V4           9.837e-01  9.384e-02  10.484  < 2e-16 ***\n",
       "V5           1.612e-01  5.587e-02   2.885 0.003917 ** \n",
       "V6          -1.640e-01  9.359e-02  -1.753 0.079652 .  \n",
       "V7          -1.294e-01  7.282e-02  -1.777 0.075591 .  \n",
       "V8          -2.092e-01  3.513e-02  -5.956 2.58e-09 ***\n",
       "V9          -3.239e-01  9.602e-02  -3.373 0.000743 ***\n",
       "V10         -8.791e-01  9.765e-02  -9.003  < 2e-16 ***\n",
       "V11         -5.596e-02  7.779e-02  -0.719 0.471909    \n",
       "V12          6.915e-02  7.299e-02   0.947 0.343457    \n",
       "V13         -3.191e-01  7.981e-02  -3.999 6.37e-05 ***\n",
       "V14         -5.215e-01  5.714e-02  -9.127  < 2e-16 ***\n",
       "V15         -1.092e-01  7.586e-02  -1.440 0.149847    \n",
       "V16         -1.888e-01  6.942e-02  -2.719 0.006538 ** \n",
       "V19          7.662e-02  6.951e-02   1.102 0.270366    \n",
       "V20         -3.575e-01  5.927e-02  -6.033 1.61e-09 ***\n",
       "V21          2.857e-01  4.055e-02   7.047 1.83e-12 ***\n",
       "V22          4.643e-01  9.430e-02   4.924 8.48e-07 ***\n",
       "V23         -7.002e-02  3.256e-02  -2.151 0.031514 *  \n",
       "V24          7.272e-02  8.906e-02   0.817 0.414180    \n",
       "V27         -3.297e-01  4.735e-02  -6.964 3.31e-12 ***\n",
       "V28         -1.000e-01  2.777e-02  -3.603 0.000315 ***\n",
       "Amount       9.172e-04  3.068e-04   2.989 0.002798 ** \n",
       "---\n",
       "Signif. codes:  0 '***' 0.001 '**' 0.01 '*' 0.05 '.' 0.1 ' ' 1\n",
       "\n",
       "(Dispersion parameter for binomial family taken to be 1)\n",
       "\n",
       "    Null deviance: 6996.5  on 283725  degrees of freedom\n",
       "Residual deviance: 2225.8  on 283701  degrees of freedom\n",
       "AIC: 2275.8\n",
       "\n",
       "Number of Fisher Scoring iterations: 11\n"
      ]
     },
     "metadata": {},
     "output_type": "display_data"
    }
   ],
   "source": [
    "fit2 <- glm(Class ~ . - V2 - V3 - V17 - V18 - V25 - V26, data=fraud_data, family=binomial)\n",
    "summary(fit2)"
   ]
  },
  {
   "cell_type": "code",
   "execution_count": 17,
   "metadata": {
    "vscode": {
     "languageId": "r"
    }
   },
   "outputs": [
    {
     "data": {
      "image/png": "[encoded data removed]",
      "text/plain": [
       "Plot with title \"\""
      ]
     },
     "metadata": {
      "image/png": {
       "height": 420,
       "width": 420
      }
     },
     "output_type": "display_data"
    }
   ],
   "source": [
    "par(mfrow=c(2,2))\n",
    "plot(fit2)"
   ]
  },
  {
   "cell_type": "code",
   "execution_count": 18,
   "metadata": {
    "vscode": {
     "languageId": "r"
    }
   },
   "outputs": [
    {
     "data": {
      "text/plain": [
       "      predicted\n",
       "actual      0      1\n",
       "     0 283211     42\n",
       "     1    184    289"
      ]
     },
     "metadata": {},
     "output_type": "display_data"
    }
   ],
   "source": [
    "actual <- fraud_data$Class\n",
    "predicted <- round(fitted(fit2))\n",
    "xt <- xtabs(~ actual + predicted)\n",
    "xt"
   ]
  },
  {
   "cell_type": "code",
   "execution_count": 19,
   "metadata": {
    "vscode": {
     "languageId": "r"
    }
   },
   "outputs": [
    {
     "data": {
      "text/html": [
       "0.999"
      ],
      "text/latex": [
       "0.999"
      ],
      "text/markdown": [
       "0.999"
      ],
      "text/plain": [
       "[1] 0.999"
      ]
     },
     "metadata": {},
     "output_type": "display_data"
    }
   ],
   "source": [
    "accuracy <- sum(diag(xt))/sum(xt)\n",
    "round(accuracy,3)"
   ]
  },
  {
   "cell_type": "markdown",
   "metadata": {},
   "source": [
    "Removing V2, V3, V6, V7, V9, V11, V12, V15, V19, V24"
   ]
  },
  {
   "cell_type": "code",
   "execution_count": 20,
   "metadata": {
    "vscode": {
     "languageId": "r"
    }
   },
   "outputs": [
    {
     "data": {
      "text/plain": [
       "\n",
       "Call:\n",
       "glm(formula = Class ~ . - V2 - V3 - V6 - V7 - V9 - V11 - V12 - \n",
       "    V15 - V19 - V24, family = \"binomial\", data = fraud_data)\n",
       "\n",
       "Coefficients:\n",
       "              Estimate Std. Error z value Pr(>|z|)    \n",
       "(Intercept) -8.516e+00  2.086e-01 -40.818  < 2e-16 ***\n",
       "Time        -1.550e-06  1.769e-06  -0.876 0.380953    \n",
       "V1           7.786e-02  4.986e-02   1.561 0.118407    \n",
       "V4           1.061e+00  8.235e-02  12.887  < 2e-16 ***\n",
       "V5           1.719e-01  4.565e-02   3.766 0.000166 ***\n",
       "V8          -2.001e-01  2.672e-02  -7.489 6.96e-14 ***\n",
       "V10         -9.032e-01  9.905e-02  -9.118  < 2e-16 ***\n",
       "V13         -3.228e-01  7.691e-02  -4.197 2.71e-05 ***\n",
       "V14         -4.889e-01  5.328e-02  -9.177  < 2e-16 ***\n",
       "V16         -1.883e-01  9.108e-02  -2.067 0.038694 *  \n",
       "V17         -3.261e-02  4.506e-02  -0.724 0.469247    \n",
       "V18          2.001e-02  9.632e-02   0.208 0.835437    \n",
       "V20         -2.028e-01  4.445e-02  -4.563 5.05e-06 ***\n",
       "V21          2.792e-01  4.265e-02   6.546 5.90e-11 ***\n",
       "V22          4.254e-01  9.607e-02   4.429 9.49e-06 ***\n",
       "V23         -7.170e-02  3.496e-02  -2.051 0.040265 *  \n",
       "V25          6.866e-04  6.765e-02   0.010 0.991903    \n",
       "V26          2.321e-02  8.562e-02   0.271 0.786365    \n",
       "V27         -2.324e-01  4.944e-02  -4.702 2.58e-06 ***\n",
       "V28         -7.418e-02  2.866e-02  -2.589 0.009638 ** \n",
       "Amount       1.490e-04  1.233e-04   1.208 0.226967    \n",
       "---\n",
       "Signif. codes:  0 '***' 0.001 '**' 0.01 '*' 0.05 '.' 0.1 ' ' 1\n",
       "\n",
       "(Dispersion parameter for binomial family taken to be 1)\n",
       "\n",
       "    Null deviance: 6996.5  on 283725  degrees of freedom\n",
       "Residual deviance: 2244.7  on 283705  degrees of freedom\n",
       "AIC: 2286.7\n",
       "\n",
       "Number of Fisher Scoring iterations: 11\n"
      ]
     },
     "metadata": {},
     "output_type": "display_data"
    }
   ],
   "source": [
    "fit3 <- glm(Class ~ . - V2 - V3 - V6 - V7 - V9 - V11 - V12 - V15 - V19 - V24, data=fraud_data, family = \"binomial\")\n",
    "summary(fit3)"
   ]
  },
  {
   "cell_type": "code",
   "execution_count": 21,
   "metadata": {
    "vscode": {
     "languageId": "r"
    }
   },
   "outputs": [
    {
     "data": {
      "image/png": "[encoded data removed]",
      "text/plain": [
       "Plot with title \"\""
      ]
     },
     "metadata": {
      "image/png": {
       "height": 420,
       "width": 420
      }
     },
     "output_type": "display_data"
    }
   ],
   "source": [
    "par(mfrow=c(2,2))\n",
    "plot(fit3)"
   ]
  },
  {
   "cell_type": "code",
   "execution_count": 22,
   "metadata": {
    "vscode": {
     "languageId": "r"
    }
   },
   "outputs": [
    {
     "data": {
      "text/plain": [
       "      predicted\n",
       "actual      0      1\n",
       "     0 283213     40\n",
       "     1    189    284"
      ]
     },
     "metadata": {},
     "output_type": "display_data"
    }
   ],
   "source": [
    "actual <- fraud_data$Class\n",
    "predicted <- round(fitted(fit3))\n",
    "xt <- xtabs(~ actual + predicted)\n",
    "xt"
   ]
  },
  {
   "cell_type": "code",
   "execution_count": 23,
   "metadata": {
    "vscode": {
     "languageId": "r"
    }
   },
   "outputs": [
    {
     "data": {
      "text/html": [
       "0.999"
      ],
      "text/latex": [
       "0.999"
      ],
      "text/markdown": [
       "0.999"
      ],
      "text/plain": [
       "[1] 0.999"
      ]
     },
     "metadata": {},
     "output_type": "display_data"
    }
   ],
   "source": [
    "accuracy <- sum(diag(xt))/sum(xt)\n",
    "round(accuracy,3)"
   ]
  },
  {
   "cell_type": "markdown",
   "metadata": {},
   "source": [
    "Removing V1, V2, V3, V6, V7, V9, V11, V12, V16, V17, V18, V19, V24, V25, V26, Amount and Time"
   ]
  },
  {
   "cell_type": "code",
   "execution_count": 24,
   "metadata": {
    "vscode": {
     "languageId": "r"
    }
   },
   "outputs": [
    {
     "data": {
      "text/plain": [
       "\n",
       "Call:\n",
       "glm(formula = Class ~ . - Amount - Time - V1 - V2 - V3 - V6 - \n",
       "    V7 - V9 - V11 - V12 - V15 - V17 - V18 - V19 - V24 - V25 - \n",
       "    V26, family = \"binomial\", data = fraud_data)\n",
       "\n",
       "Coefficients:\n",
       "            Estimate Std. Error z value Pr(>|z|)    \n",
       "(Intercept) -8.62994    0.13035 -66.206  < 2e-16 ***\n",
       "V4           1.00402    0.06515  15.412  < 2e-16 ***\n",
       "V5           0.14488    0.03832   3.781 0.000156 ***\n",
       "V8          -0.20651    0.02294  -9.002  < 2e-16 ***\n",
       "V10         -0.82076    0.08626  -9.515  < 2e-16 ***\n",
       "V13         -0.32098    0.07606  -4.220 2.44e-05 ***\n",
       "V14         -0.52822    0.04525 -11.672  < 2e-16 ***\n",
       "V16         -0.20405    0.04883  -4.178 2.94e-05 ***\n",
       "V20         -0.15687    0.03471  -4.519 6.21e-06 ***\n",
       "V21          0.28044    0.03882   7.225 5.03e-13 ***\n",
       "V22          0.44918    0.08723   5.150 2.61e-07 ***\n",
       "V23         -0.07238    0.02925  -2.474 0.013354 *  \n",
       "V27         -0.19145    0.04480  -4.273 1.93e-05 ***\n",
       "V28         -0.06489    0.02782  -2.332 0.019682 *  \n",
       "---\n",
       "Signif. codes:  0 '***' 0.001 '**' 0.01 '*' 0.05 '.' 0.1 ' ' 1\n",
       "\n",
       "(Dispersion parameter for binomial family taken to be 1)\n",
       "\n",
       "    Null deviance: 6996.5  on 283725  degrees of freedom\n",
       "Residual deviance: 2248.9  on 283712  degrees of freedom\n",
       "AIC: 2276.9\n",
       "\n",
       "Number of Fisher Scoring iterations: 11\n"
      ]
     },
     "metadata": {},
     "output_type": "display_data"
    }
   ],
   "source": [
    "fit4 <- glm(Class ~ . - Amount - Time - V1 - V2 - V3 - V6 - V7 - V9 - V11 - V12 - V15 - V17 - V18 - V19 - V24 - V25 - V26 , data=fraud_data, family = \"binomial\")\n",
    "summary(fit4)"
   ]
  },
  {
   "cell_type": "code",
   "execution_count": 25,
   "metadata": {
    "vscode": {
     "languageId": "r"
    }
   },
   "outputs": [
    {
     "data": {
      "image/png": "[encoded data removed]",
      "text/plain": [
       "Plot with title \"\""
      ]
     },
     "metadata": {
      "image/png": {
       "height": 420,
       "width": 420
      }
     },
     "output_type": "display_data"
    }
   ],
   "source": [
    "par(mfrow=c(2,2))\n",
    "plot(fit4)"
   ]
  },
  {
   "cell_type": "code",
   "execution_count": 26,
   "metadata": {
    "vscode": {
     "languageId": "r"
    }
   },
   "outputs": [
    {
     "data": {
      "text/plain": [
       "      predicted\n",
       "actual      0      1\n",
       "     0 283212     41\n",
       "     1    188    285"
      ]
     },
     "metadata": {},
     "output_type": "display_data"
    }
   ],
   "source": [
    "actual <- fraud_data$Class\n",
    "predicted <- round(fitted(fit4))\n",
    "xt <- xtabs(~ actual + predicted)\n",
    "xt"
   ]
  },
  {
   "cell_type": "code",
   "execution_count": 27,
   "metadata": {
    "vscode": {
     "languageId": "r"
    }
   },
   "outputs": [
    {
     "data": {
      "text/html": [
       "0.999"
      ],
      "text/latex": [
       "0.999"
      ],
      "text/markdown": [
       "0.999"
      ],
      "text/plain": [
       "[1] 0.999"
      ]
     },
     "metadata": {},
     "output_type": "display_data"
    }
   ],
   "source": [
    "accuracy <- sum(diag(xt))/sum(xt)\n",
    "round(accuracy,3)"
   ]
  },
  {
   "cell_type": "markdown",
   "metadata": {},
   "source": [
    "THE ACCURACY WILL ALWAYS BE AROUND 99% SO NOW DATA IMBALANCE NEEDS TO BE HANDELED"
   ]
  },
  {
   "cell_type": "markdown",
   "metadata": {},
   "source": [
    "UPSAMPLING"
   ]
  },
  {
   "cell_type": "code",
   "execution_count": 28,
   "metadata": {
    "vscode": {
     "languageId": "r"
    }
   },
   "outputs": [],
   "source": [
    "up_fraud_data <- upSample(x=fraud_data[,-ncol(fraud_data)], y=fraud_data$Class)\n",
    "up_fraud_data$Class <- as.factor(up_fraud_data$Class)"
   ]
  },
  {
   "cell_type": "code",
   "execution_count": 29,
   "metadata": {
    "vscode": {
     "languageId": "r"
    }
   },
   "outputs": [
    {
     "data": {
      "text/html": [
       "<style>\n",
       ".dl-inline {width: auto; margin:0; padding: 0}\n",
       ".dl-inline>dt, .dl-inline>dd {float: none; width: auto; display: inline-block}\n",
       ".dl-inline>dt::after {content: \":\\0020\"; padding-right: .5ex}\n",
       ".dl-inline>dt:not(:first-of-type) {padding-left: .5ex}\n",
       "</style><dl class=dl-inline><dt>0</dt><dd>283253</dd><dt>1</dt><dd>283253</dd></dl>\n"
      ],
      "text/latex": [
       "\\begin{description*}\n",
       "\\item[0] 283253\n",
       "\\item[1] 283253\n",
       "\\end{description*}\n"
      ],
      "text/markdown": [
       "0\n",
       ":   2832531\n",
       ":   283253\n",
       "\n"
      ],
      "text/plain": [
       "     0      1 \n",
       "283253 283253 "
      ]
     },
     "metadata": {},
     "output_type": "display_data"
    }
   ],
   "source": [
    "summary(up_fraud_data$Class)"
   ]
  },
  {
   "cell_type": "code",
   "execution_count": 30,
   "metadata": {
    "vscode": {
     "languageId": "r"
    }
   },
   "outputs": [
    {
     "name": "stderr",
     "output_type": "stream",
     "text": [
      "Warning message:\n",
      "\"glm.fit: fitted probabilities numerically 0 or 1 occurred\"\n"
     ]
    },
    {
     "data": {
      "text/plain": [
       "\n",
       "Call:\n",
       "glm(formula = Class ~ ., family = binomial, data = up_fraud_data)\n",
       "\n",
       "Coefficients:\n",
       "              Estimate Std. Error  z value Pr(>|z|)    \n",
       "(Intercept) -3.427e+00  3.339e-02 -102.649  < 2e-16 ***\n",
       "Time        -8.238e-06  2.128e-07  -38.709  < 2e-16 ***\n",
       "V1           1.282e+00  2.938e-02   43.617  < 2e-16 ***\n",
       "V2           9.827e-01  3.684e-02   26.676  < 2e-16 ***\n",
       "V3           4.185e-01  1.788e-02   23.403  < 2e-16 ***\n",
       "V4           1.071e+00  1.011e-02  105.848  < 2e-16 ***\n",
       "V5           1.053e+00  2.410e-02   43.701  < 2e-16 ***\n",
       "V6          -7.115e-01  1.528e-02  -46.557  < 2e-16 ***\n",
       "V7          -6.721e-01  2.625e-02  -25.605  < 2e-16 ***\n",
       "V8          -4.925e-01  8.740e-03  -56.346  < 2e-16 ***\n",
       "V9          -3.279e-01  1.103e-02  -29.738  < 2e-16 ***\n",
       "V10         -7.502e-01  1.474e-02  -50.908  < 2e-16 ***\n",
       "V11          4.875e-01  9.885e-03   49.319  < 2e-16 ***\n",
       "V12         -1.038e+00  1.406e-02  -73.818  < 2e-16 ***\n",
       "V13         -3.716e-01  6.728e-03  -55.236  < 2e-16 ***\n",
       "V14         -1.329e+00  1.538e-02  -86.447  < 2e-16 ***\n",
       "V15         -1.412e-01  6.876e-03  -20.533  < 2e-16 ***\n",
       "V16         -6.241e-01  1.284e-02  -48.616  < 2e-16 ***\n",
       "V17         -7.387e-01  1.699e-02  -43.470  < 2e-16 ***\n",
       "V18         -2.268e-01  1.028e-02  -22.053  < 2e-16 ***\n",
       "V19          2.501e-01  8.475e-03   29.510  < 2e-16 ***\n",
       "V20         -6.233e-01  1.724e-02  -36.158  < 2e-16 ***\n",
       "V21          2.697e-02  6.680e-03    4.038 5.40e-05 ***\n",
       "V22          5.673e-01  9.052e-03   62.677  < 2e-16 ***\n",
       "V23          2.802e-01  1.282e-02   21.854  < 2e-16 ***\n",
       "V24         -2.956e-02  8.079e-03   -3.659 0.000253 ***\n",
       "V25          1.229e-02  7.779e-03    1.580 0.114143    \n",
       "V26         -1.555e-01  7.689e-03  -20.229  < 2e-16 ***\n",
       "V27          4.701e-02  9.090e-03    5.172 2.32e-07 ***\n",
       "V28          2.617e-01  1.020e-02   25.653  < 2e-16 ***\n",
       "Amount       8.331e-03  2.275e-04   36.623  < 2e-16 ***\n",
       "---\n",
       "Signif. codes:  0 '***' 0.001 '**' 0.01 '*' 0.05 '.' 0.1 ' ' 1\n",
       "\n",
       "(Dispersion parameter for binomial family taken to be 1)\n",
       "\n",
       "    Null deviance: 785344  on 566505  degrees of freedom\n",
       "Residual deviance: 155503  on 566475  degrees of freedom\n",
       "AIC: 155565\n",
       "\n",
       "Number of Fisher Scoring iterations: 14\n"
      ]
     },
     "metadata": {},
     "output_type": "display_data"
    }
   ],
   "source": [
    "fit5 <- glm(Class ~ ., data=up_fraud_data, family=binomial)\n",
    "summary(fit5)"
   ]
  },
  {
   "cell_type": "code",
   "execution_count": 31,
   "metadata": {
    "vscode": {
     "languageId": "r"
    }
   },
   "outputs": [
    {
     "data": {
      "image/png": "[encoded data removed]",
      "text/plain": [
       "Plot with title \"\""
      ]
     },
     "metadata": {
      "image/png": {
       "height": 420,
       "width": 420
      }
     },
     "output_type": "display_data"
    }
   ],
   "source": [
    "par(mfrow=c(2,2))\n",
    "plot(fit5)"
   ]
  },
  {
   "cell_type": "code",
   "execution_count": 32,
   "metadata": {
    "vscode": {
     "languageId": "r"
    }
   },
   "outputs": [
    {
     "data": {
      "text/plain": [
       "      predicted\n",
       "actual      0      1\n",
       "     0 276708   6545\n",
       "     1  23257 259996"
      ]
     },
     "metadata": {},
     "output_type": "display_data"
    }
   ],
   "source": [
    "actual <- up_fraud_data$Class\n",
    "predicted <- round(fitted(fit5))\n",
    "xt <- xtabs(~ actual + predicted)\n",
    "xt"
   ]
  },
  {
   "cell_type": "code",
   "execution_count": 33,
   "metadata": {
    "vscode": {
     "languageId": "r"
    }
   },
   "outputs": [
    {
     "data": {
      "text/html": [
       "0.947"
      ],
      "text/latex": [
       "0.947"
      ],
      "text/markdown": [
       "0.947"
      ],
      "text/plain": [
       "[1] 0.947"
      ]
     },
     "metadata": {},
     "output_type": "display_data"
    }
   ],
   "source": [
    "accuracy <- sum(diag(xt))/sum(xt)\n",
    "round(accuracy,3)"
   ]
  },
  {
   "cell_type": "code",
   "execution_count": 34,
   "metadata": {
    "vscode": {
     "languageId": "r"
    }
   },
   "outputs": [
    {
     "name": "stderr",
     "output_type": "stream",
     "text": [
      "Warning message:\n",
      "\"glm.fit: fitted probabilities numerically 0 or 1 occurred\"\n"
     ]
    },
    {
     "data": {
      "text/plain": [
       "\n",
       "Call:\n",
       "glm(formula = Class ~ . - V2 - V3 - V17 - V18 - V25 - V26, family = binomial, \n",
       "    data = up_fraud_data)\n",
       "\n",
       "Coefficients:\n",
       "              Estimate Std. Error  z value Pr(>|z|)    \n",
       "(Intercept) -2.874e+00  1.700e-02 -168.987  < 2e-16 ***\n",
       "Time        -5.915e-06  1.663e-07  -35.575  < 2e-16 ***\n",
       "V1           2.934e-01  8.626e-03   34.014  < 2e-16 ***\n",
       "V4           1.134e+00  7.614e-03  148.930  < 2e-16 ***\n",
       "V5           2.322e-01  6.934e-03   33.487  < 2e-16 ***\n",
       "V6          -4.299e-01  9.493e-03  -45.289  < 2e-16 ***\n",
       "V7           3.045e-03  8.071e-03    0.377 0.706003    \n",
       "V8          -4.146e-01  5.746e-03  -72.149  < 2e-16 ***\n",
       "V9          -2.777e-01  8.742e-03  -31.767  < 2e-16 ***\n",
       "V10         -5.320e-01  9.952e-03  -53.454  < 2e-16 ***\n",
       "V11          2.695e-01  6.863e-03   39.272  < 2e-16 ***\n",
       "V12         -6.539e-01  7.248e-03  -90.208  < 2e-16 ***\n",
       "V13         -3.178e-01  6.409e-03  -49.583  < 2e-16 ***\n",
       "V14         -8.040e-01  6.506e-03 -123.585  < 2e-16 ***\n",
       "V15         -1.282e-01  6.619e-03  -19.363  < 2e-16 ***\n",
       "V16         -3.455e-01  7.699e-03  -44.885  < 2e-16 ***\n",
       "V19          2.273e-02  6.247e-03    3.638 0.000275 ***\n",
       "V20         -2.315e-01  8.512e-03  -27.192  < 2e-16 ***\n",
       "V21          1.173e-01  5.400e-03   21.727  < 2e-16 ***\n",
       "V22          4.257e-01  7.592e-03   56.076  < 2e-16 ***\n",
       "V23         -7.199e-02  3.952e-03  -18.215  < 2e-16 ***\n",
       "V24         -3.126e-02  8.010e-03   -3.902 9.53e-05 ***\n",
       "V27          4.086e-02  7.426e-03    5.502 3.75e-08 ***\n",
       "V28          5.503e-02  6.437e-03    8.550  < 2e-16 ***\n",
       "Amount       1.919e-03  4.085e-05   46.966  < 2e-16 ***\n",
       "---\n",
       "Signif. codes:  0 '***' 0.001 '**' 0.01 '*' 0.05 '.' 0.1 ' ' 1\n",
       "\n",
       "(Dispersion parameter for binomial family taken to be 1)\n",
       "\n",
       "    Null deviance: 785344  on 566505  degrees of freedom\n",
       "Residual deviance: 161021  on 566481  degrees of freedom\n",
       "AIC: 161071\n",
       "\n",
       "Number of Fisher Scoring iterations: 11\n"
      ]
     },
     "metadata": {},
     "output_type": "display_data"
    }
   ],
   "source": [
    "fit6 <- glm(Class ~ . - V2 - V3 - V17 - V18 - V25 - V26, data=up_fraud_data, family=binomial)\n",
    "summary(fit6)"
   ]
  },
  {
   "cell_type": "code",
   "execution_count": 35,
   "metadata": {
    "vscode": {
     "languageId": "r"
    }
   },
   "outputs": [
    {
     "data": {
      "image/png": "[encoded data removed]",
      "text/plain": [
       "Plot with title \"\""
      ]
     },
     "metadata": {
      "image/png": {
       "height": 420,
       "width": 420
      }
     },
     "output_type": "display_data"
    }
   ],
   "source": [
    "par(mfrow=c(2,2))\n",
    "plot(fit6)"
   ]
  },
  {
   "cell_type": "code",
   "execution_count": 36,
   "metadata": {
    "vscode": {
     "languageId": "r"
    }
   },
   "outputs": [
    {
     "data": {
      "text/plain": [
       "      predicted\n",
       "actual      0      1\n",
       "     0 276064   7189\n",
       "     1  23832 259421"
      ]
     },
     "metadata": {},
     "output_type": "display_data"
    }
   ],
   "source": [
    "actual <- up_fraud_data$Class\n",
    "predicted <- round(fitted(fit6))\n",
    "xt <- xtabs(~ actual + predicted)\n",
    "xt"
   ]
  },
  {
   "cell_type": "code",
   "execution_count": 37,
   "metadata": {
    "vscode": {
     "languageId": "r"
    }
   },
   "outputs": [
    {
     "data": {
      "text/html": [
       "0.945"
      ],
      "text/latex": [
       "0.945"
      ],
      "text/markdown": [
       "0.945"
      ],
      "text/plain": [
       "[1] 0.945"
      ]
     },
     "metadata": {},
     "output_type": "display_data"
    }
   ],
   "source": [
    "accuracy <- sum(diag(xt))/sum(xt)\n",
    "round(accuracy,3)"
   ]
  },
  {
   "cell_type": "code",
   "execution_count": 38,
   "metadata": {
    "vscode": {
     "languageId": "r"
    }
   },
   "outputs": [
    {
     "name": "stderr",
     "output_type": "stream",
     "text": [
      "Warning message:\n",
      "\"glm.fit: fitted probabilities numerically 0 or 1 occurred\"\n"
     ]
    },
    {
     "data": {
      "text/plain": [
       "\n",
       "Call:\n",
       "glm(formula = Class ~ . - V2 - V3 - V6 - V7 - V9 - V11 - V12 - \n",
       "    V15 - V19 - V24, family = \"binomial\", data = up_fraud_data)\n",
       "\n",
       "Coefficients:\n",
       "              Estimate Std. Error  z value Pr(>|z|)    \n",
       "(Intercept) -2.709e+00  1.634e-02 -165.777  < 2e-16 ***\n",
       "Time        -7.081e-06  1.516e-07  -46.691  < 2e-16 ***\n",
       "V1           1.540e-01  6.374e-03   24.155  < 2e-16 ***\n",
       "V4           1.387e+00  7.802e-03  177.828  < 2e-16 ***\n",
       "V5           3.646e-01  6.139e-03   59.390  < 2e-16 ***\n",
       "V8          -3.052e-01  5.064e-03  -60.263  < 2e-16 ***\n",
       "V10         -8.102e-01  1.069e-02  -75.777  < 2e-16 ***\n",
       "V13         -3.168e-01  6.311e-03  -50.202  < 2e-16 ***\n",
       "V14         -7.881e-01  6.726e-03 -117.179  < 2e-16 ***\n",
       "V16         -2.655e-01  7.663e-03  -34.651  < 2e-16 ***\n",
       "V17         -1.967e-01  5.982e-03  -32.878  < 2e-16 ***\n",
       "V18          8.097e-02  8.121e-03    9.970  < 2e-16 ***\n",
       "V20         -2.735e-01  6.961e-03  -39.286  < 2e-16 ***\n",
       "V21          1.386e-01  5.114e-03   27.103  < 2e-16 ***\n",
       "V22          3.201e-01  7.127e-03   44.910  < 2e-16 ***\n",
       "V23         -1.172e-01  3.378e-03  -34.706  < 2e-16 ***\n",
       "V25         -8.022e-02  6.457e-03  -12.423  < 2e-16 ***\n",
       "V26         -1.067e-01  6.812e-03  -15.668  < 2e-16 ***\n",
       "V27         -3.950e-02  6.529e-03   -6.050 1.45e-09 ***\n",
       "V28          2.812e-02  6.552e-03    4.292 1.77e-05 ***\n",
       "Amount       1.450e-03  2.566e-05   56.487  < 2e-16 ***\n",
       "---\n",
       "Signif. codes:  0 '***' 0.001 '**' 0.01 '*' 0.05 '.' 0.1 ' ' 1\n",
       "\n",
       "(Dispersion parameter for binomial family taken to be 1)\n",
       "\n",
       "    Null deviance: 785344  on 566505  degrees of freedom\n",
       "Residual deviance: 174089  on 566485  degrees of freedom\n",
       "AIC: 174131\n",
       "\n",
       "Number of Fisher Scoring iterations: 10\n"
      ]
     },
     "metadata": {},
     "output_type": "display_data"
    }
   ],
   "source": [
    "fit7 <- glm(Class ~ . - V2 - V3 - V6 - V7 - V9 - V11 - V12 - V15 - V19 - V24, data=up_fraud_data, family = \"binomial\")\n",
    "summary(fit7)"
   ]
  },
  {
   "cell_type": "code",
   "execution_count": 39,
   "metadata": {
    "vscode": {
     "languageId": "r"
    }
   },
   "outputs": [
    {
     "data": {
      "image/png": "[encoded data removed]",
      "text/plain": [
       "Plot with title \"\""
      ]
     },
     "metadata": {
      "image/png": {
       "height": 420,
       "width": 420
      }
     },
     "output_type": "display_data"
    }
   ],
   "source": [
    "par(mfrow=c(2,2))\n",
    "plot(fit7)"
   ]
  },
  {
   "cell_type": "code",
   "execution_count": 40,
   "metadata": {
    "vscode": {
     "languageId": "r"
    }
   },
   "outputs": [
    {
     "data": {
      "text/plain": [
       "      predicted\n",
       "actual      0      1\n",
       "     0 276166   7087\n",
       "     1  25076 258177"
      ]
     },
     "metadata": {},
     "output_type": "display_data"
    }
   ],
   "source": [
    "actual <- up_fraud_data$Class\n",
    "predicted <- round(fitted(fit7))\n",
    "xt <- xtabs(~ actual + predicted)\n",
    "xt"
   ]
  },
  {
   "cell_type": "code",
   "execution_count": 41,
   "metadata": {
    "vscode": {
     "languageId": "r"
    }
   },
   "outputs": [
    {
     "data": {
      "text/html": [
       "0.943"
      ],
      "text/latex": [
       "0.943"
      ],
      "text/markdown": [
       "0.943"
      ],
      "text/plain": [
       "[1] 0.943"
      ]
     },
     "metadata": {},
     "output_type": "display_data"
    }
   ],
   "source": [
    "accuracy <- sum(diag(xt))/sum(xt)\n",
    "round(accuracy,3)"
   ]
  },
  {
   "cell_type": "code",
   "execution_count": 42,
   "metadata": {
    "vscode": {
     "languageId": "r"
    }
   },
   "outputs": [
    {
     "name": "stderr",
     "output_type": "stream",
     "text": [
      "Warning message:\n",
      "\"glm.fit: fitted probabilities numerically 0 or 1 occurred\"\n"
     ]
    },
    {
     "data": {
      "text/plain": [
       "\n",
       "Call:\n",
       "glm(formula = Class ~ . - Amount - Time - V1 - V2 - V3 - V6 - \n",
       "    V7 - V9 - V11 - V12 - V15 - V17 - V18 - V19 - V24 - V25 - \n",
       "    V26, family = \"binomial\", data = up_fraud_data)\n",
       "\n",
       "Coefficients:\n",
       "             Estimate Std. Error  z value Pr(>|z|)    \n",
       "(Intercept) -3.127819   0.009994 -312.967   <2e-16 ***\n",
       "V4           1.368433   0.006886  198.728   <2e-16 ***\n",
       "V5           0.181826   0.005217   34.852   <2e-16 ***\n",
       "V8          -0.359750   0.004878  -73.754   <2e-16 ***\n",
       "V10         -0.725735   0.008964  -80.963   <2e-16 ***\n",
       "V13         -0.329252   0.006186  -53.225   <2e-16 ***\n",
       "V14         -0.708954   0.005729 -123.747   <2e-16 ***\n",
       "V16         -0.247479   0.006141  -40.297   <2e-16 ***\n",
       "V20         -0.101497   0.005506  -18.434   <2e-16 ***\n",
       "V21          0.156223   0.005079   30.762   <2e-16 ***\n",
       "V22          0.258613   0.006584   39.276   <2e-16 ***\n",
       "V23         -0.157249   0.003153  -49.876   <2e-16 ***\n",
       "V27         -0.060721   0.005964  -10.182   <2e-16 ***\n",
       "V28         -0.005679   0.006075   -0.935     0.35    \n",
       "---\n",
       "Signif. codes:  0 '***' 0.001 '**' 0.01 '*' 0.05 '.' 0.1 ' ' 1\n",
       "\n",
       "(Dispersion parameter for binomial family taken to be 1)\n",
       "\n",
       "    Null deviance: 785344  on 566505  degrees of freedom\n",
       "Residual deviance: 180119  on 566492  degrees of freedom\n",
       "AIC: 180147\n",
       "\n",
       "Number of Fisher Scoring iterations: 9\n"
      ]
     },
     "metadata": {},
     "output_type": "display_data"
    }
   ],
   "source": [
    "fit8 <- glm(Class ~ . - Amount - Time - V1 - V2 - V3 - V6 - V7 - V9 - V11 - V12 - V15 - V17 - V18 - V19 - V24 - V25 - V26, data=up_fraud_data, family = \"binomial\")\n",
    "summary(fit8)"
   ]
  },
  {
   "cell_type": "code",
   "execution_count": 43,
   "metadata": {
    "vscode": {
     "languageId": "r"
    }
   },
   "outputs": [
    {
     "data": {
      "image/png": "[encoded data removed]",
      "text/plain": [
       "Plot with title \"\""
      ]
     },
     "metadata": {
      "image/png": {
       "height": 420,
       "width": 420
      }
     },
     "output_type": "display_data"
    }
   ],
   "source": [
    "par(mfrow=c(2,2))\n",
    "plot(fit8)"
   ]
  },
  {
   "cell_type": "code",
   "execution_count": 44,
   "metadata": {
    "vscode": {
     "languageId": "r"
    }
   },
   "outputs": [
    {
     "data": {
      "text/plain": [
       "      predicted\n",
       "actual      0      1\n",
       "     0 275110   8143\n",
       "     1  26206 257047"
      ]
     },
     "metadata": {},
     "output_type": "display_data"
    }
   ],
   "source": [
    "actual <- up_fraud_data$Class\n",
    "predicted <- round(fitted(fit8))\n",
    "xt <- xtabs(~ actual + predicted)\n",
    "xt"
   ]
  },
  {
   "cell_type": "code",
   "execution_count": 45,
   "metadata": {
    "vscode": {
     "languageId": "r"
    }
   },
   "outputs": [
    {
     "data": {
      "text/html": [
       "0.939"
      ],
      "text/latex": [
       "0.939"
      ],
      "text/markdown": [
       "0.939"
      ],
      "text/plain": [
       "[1] 0.939"
      ]
     },
     "metadata": {},
     "output_type": "display_data"
    }
   ],
   "source": [
    "accuracy <- sum(diag(xt))/sum(xt)\n",
    "round(accuracy,3)"
   ]
  },
  {
   "cell_type": "markdown",
   "metadata": {},
   "source": [
    "DOWNSAMPLING"
   ]
  },
  {
   "cell_type": "code",
   "execution_count": 46,
   "metadata": {
    "vscode": {
     "languageId": "r"
    }
   },
   "outputs": [],
   "source": [
    "down_fraud_data <- downSample(x=fraud_data[,-ncol(fraud_data)], y=fraud_data$Class)\n",
    "down_fraud_data$Class <- as.factor(down_fraud_data$Class)"
   ]
  },
  {
   "cell_type": "code",
   "execution_count": 47,
   "metadata": {
    "vscode": {
     "languageId": "r"
    }
   },
   "outputs": [
    {
     "data": {
      "text/html": [
       "<style>\n",
       ".dl-inline {width: auto; margin:0; padding: 0}\n",
       ".dl-inline>dt, .dl-inline>dd {float: none; width: auto; display: inline-block}\n",
       ".dl-inline>dt::after {content: \":\\0020\"; padding-right: .5ex}\n",
       ".dl-inline>dt:not(:first-of-type) {padding-left: .5ex}\n",
       "</style><dl class=dl-inline><dt>0</dt><dd>473</dd><dt>1</dt><dd>473</dd></dl>\n"
      ],
      "text/latex": [
       "\\begin{description*}\n",
       "\\item[0] 473\n",
       "\\item[1] 473\n",
       "\\end{description*}\n"
      ],
      "text/markdown": [
       "0\n",
       ":   4731\n",
       ":   473\n",
       "\n"
      ],
      "text/plain": [
       "  0   1 \n",
       "473 473 "
      ]
     },
     "metadata": {},
     "output_type": "display_data"
    }
   ],
   "source": [
    "summary(down_fraud_data$Class)"
   ]
  },
  {
   "cell_type": "code",
   "execution_count": 48,
   "metadata": {
    "vscode": {
     "languageId": "r"
    }
   },
   "outputs": [
    {
     "name": "stderr",
     "output_type": "stream",
     "text": [
      "Warning message:\n",
      "\"glm.fit: algorithm did not converge\"\n",
      "Warning message:\n",
      "\"glm.fit: fitted probabilities numerically 0 or 1 occurred\"\n"
     ]
    },
    {
     "data": {
      "text/plain": [
       "\n",
       "Call:\n",
       "glm(formula = Class ~ ., family = binomial, data = down_fraud_data)\n",
       "\n",
       "Coefficients:\n",
       "              Estimate Std. Error z value Pr(>|z|)   \n",
       "(Intercept) -3.935e+01  2.163e+02  -0.182   0.8556   \n",
       "Time        -1.904e-05  7.008e-06  -2.717   0.0066 **\n",
       "V1          -7.169e+00  9.184e+01  -0.078   0.9378   \n",
       "V2           1.265e+02  5.248e+02   0.241   0.8094   \n",
       "V3          -8.119e+01  1.867e+02  -0.435   0.6636   \n",
       "V4           5.359e+01  1.425e+02   0.376   0.7069   \n",
       "V5          -2.361e+01  1.820e+01  -1.297   0.1946   \n",
       "V6          -4.764e+01  1.930e+02  -0.247   0.8051   \n",
       "V7          -1.686e+02  6.129e+02  -0.275   0.7832   \n",
       "V8           3.006e+01  9.993e+01   0.301   0.7636   \n",
       "V9          -5.364e+01  1.670e+02  -0.321   0.7481   \n",
       "V10         -1.212e+02  3.773e+02  -0.321   0.7480   \n",
       "V11          9.053e+01  3.030e+02   0.299   0.7651   \n",
       "V12         -1.589e+02  5.314e+02  -0.299   0.7650   \n",
       "V13         -2.602e+00  1.401e+01  -0.186   0.8527   \n",
       "V14         -1.635e+02  5.552e+02  -0.294   0.7685   \n",
       "V15         -4.738e+00  1.905e+01  -0.249   0.8035   \n",
       "V16         -1.332e+02  4.494e+02  -0.296   0.7669   \n",
       "V17         -2.274e+02  7.606e+02  -0.299   0.7650   \n",
       "V18         -8.582e+01  2.889e+02  -0.297   0.7664   \n",
       "V19          3.237e+01  1.164e+02   0.278   0.7809   \n",
       "V20         -1.098e+01  7.463e+01  -0.147   0.8830   \n",
       "V21          8.340e+00  1.689e+01   0.494   0.6214   \n",
       "V22          1.022e+01  4.592e+01   0.223   0.8239   \n",
       "V23          2.380e+01  1.194e+02   0.199   0.8421   \n",
       "V24         -2.422e+00  1.106e+01  -0.219   0.8266   \n",
       "V25          9.731e+00  4.548e+01   0.214   0.8306   \n",
       "V26          1.983e+00  1.060e+01   0.187   0.8515   \n",
       "V27          8.970e+00  2.713e+01   0.331   0.7409   \n",
       "V28          1.603e+01  7.622e+01   0.210   0.8334   \n",
       "Amount       4.478e-01  2.213e+00   0.202   0.8397   \n",
       "---\n",
       "Signif. codes:  0 '***' 0.001 '**' 0.01 '*' 0.05 '.' 0.1 ' ' 1\n",
       "\n",
       "(Dispersion parameter for binomial family taken to be 1)\n",
       "\n",
       "    Null deviance: 1311.43  on 945  degrees of freedom\n",
       "Residual deviance:  192.53  on 915  degrees of freedom\n",
       "AIC: 254.53\n",
       "\n",
       "Number of Fisher Scoring iterations: 25\n"
      ]
     },
     "metadata": {},
     "output_type": "display_data"
    }
   ],
   "source": [
    "fit9 <- glm(Class ~ ., data=down_fraud_data, family=binomial)\n",
    "summary(fit9)"
   ]
  },
  {
   "cell_type": "code",
   "execution_count": 49,
   "metadata": {
    "vscode": {
     "languageId": "r"
    }
   },
   "outputs": [
    {
     "name": "stderr",
     "output_type": "stream",
     "text": [
      "Warning message in sqrt(crit * p * (1 - hh)/hh):\n",
      "\"NaNs produced\"\n",
      "Warning message in sqrt(crit * p * (1 - hh)/hh):\n",
      "\"NaNs produced\"\n"
     ]
    },
    {
     "data": {
      "image/png": "[encoded data removed]",
      "text/plain": [
       "Plot with title \"\""
      ]
     },
     "metadata": {
      "image/png": {
       "height": 420,
       "width": 420
      }
     },
     "output_type": "display_data"
    }
   ],
   "source": [
    "par(mfrow=c(2,2))\n",
    "plot(fit9)"
   ]
  },
  {
   "cell_type": "code",
   "execution_count": 50,
   "metadata": {
    "vscode": {
     "languageId": "r"
    }
   },
   "outputs": [
    {
     "data": {
      "text/plain": [
       "      predicted\n",
       "actual   0   1\n",
       "     0 463  10\n",
       "     1  30 443"
      ]
     },
     "metadata": {},
     "output_type": "display_data"
    }
   ],
   "source": [
    "actual <- down_fraud_data$Class\n",
    "predicted <- round(fitted(fit9))\n",
    "xt <- xtabs(~ actual + predicted)\n",
    "xt"
   ]
  },
  {
   "cell_type": "code",
   "execution_count": 51,
   "metadata": {
    "vscode": {
     "languageId": "r"
    }
   },
   "outputs": [
    {
     "data": {
      "text/html": [
       "0.958"
      ],
      "text/latex": [
       "0.958"
      ],
      "text/markdown": [
       "0.958"
      ],
      "text/plain": [
       "[1] 0.958"
      ]
     },
     "metadata": {},
     "output_type": "display_data"
    }
   ],
   "source": [
    "accuracy <- sum(diag(xt))/sum(xt)\n",
    "round(accuracy,3)"
   ]
  },
  {
   "cell_type": "code",
   "execution_count": 52,
   "metadata": {
    "vscode": {
     "languageId": "r"
    }
   },
   "outputs": [
    {
     "name": "stderr",
     "output_type": "stream",
     "text": [
      "Warning message:\n",
      "\"glm.fit: fitted probabilities numerically 0 or 1 occurred\"\n"
     ]
    },
    {
     "data": {
      "text/plain": [
       "\n",
       "Call:\n",
       "glm(formula = Class ~ . - V2 - V3 - V17 - V18 - V25 - V26, family = binomial, \n",
       "    data = down_fraud_data)\n",
       "\n",
       "Coefficients:\n",
       "              Estimate Std. Error z value Pr(>|z|)    \n",
       "(Intercept) -2.991e+00  4.504e-01  -6.642 3.10e-11 ***\n",
       "Time        -6.912e-06  4.507e-06  -1.534 0.125082    \n",
       "V1           6.194e-01  2.745e-01   2.257 0.024025 *  \n",
       "V4           1.297e+00  2.102e-01   6.168 6.90e-10 ***\n",
       "V5           4.440e-01  2.461e-01   1.804 0.071174 .  \n",
       "V6          -4.364e-01  2.740e-01  -1.593 0.111181    \n",
       "V7          -4.484e-01  2.584e-01  -1.735 0.082661 .  \n",
       "V8          -5.803e-01  2.126e-01  -2.730 0.006343 ** \n",
       "V9          -3.996e-01  2.553e-01  -1.565 0.117467    \n",
       "V10         -7.405e-01  3.313e-01  -2.235 0.025392 *  \n",
       "V11          3.237e-01  1.848e-01   1.752 0.079735 .  \n",
       "V12         -7.715e-01  2.092e-01  -3.687 0.000227 ***\n",
       "V13         -4.231e-01  1.645e-01  -2.571 0.010131 *  \n",
       "V14         -9.119e-01  1.987e-01  -4.589 4.45e-06 ***\n",
       "V15         -2.494e-02  1.773e-01  -0.141 0.888088    \n",
       "V16         -4.342e-01  1.924e-01  -2.257 0.024015 *  \n",
       "V19          4.578e-02  1.667e-01   0.275 0.783633    \n",
       "V20         -5.398e-01  2.918e-01  -1.850 0.064298 .  \n",
       "V21          8.127e-02  1.762e-01   0.461 0.644640    \n",
       "V22          4.127e-01  2.099e-01   1.966 0.049251 *  \n",
       "V23          1.562e-01  1.449e-01   1.078 0.280825    \n",
       "V24          3.123e-03  2.214e-01   0.014 0.988747    \n",
       "V27          1.932e-01  2.408e-01   0.802 0.422409    \n",
       "V28         -1.304e-02  1.917e-01  -0.068 0.945759    \n",
       "Amount       3.407e-03  1.383e-03   2.464 0.013750 *  \n",
       "---\n",
       "Signif. codes:  0 '***' 0.001 '**' 0.01 '*' 0.05 '.' 0.1 ' ' 1\n",
       "\n",
       "(Dispersion parameter for binomial family taken to be 1)\n",
       "\n",
       "    Null deviance: 1311.43  on 945  degrees of freedom\n",
       "Residual deviance:  246.08  on 921  degrees of freedom\n",
       "AIC: 296.08\n",
       "\n",
       "Number of Fisher Scoring iterations: 10\n"
      ]
     },
     "metadata": {},
     "output_type": "display_data"
    }
   ],
   "source": [
    "fit10 <- glm(Class ~ . - V2 - V3 - V17 - V18 - V25 - V26, data=down_fraud_data, family=binomial)\n",
    "summary(fit10)"
   ]
  },
  {
   "cell_type": "code",
   "execution_count": 53,
   "metadata": {
    "vscode": {
     "languageId": "r"
    }
   },
   "outputs": [
    {
     "data": {
      "image/png": "[encoded data removed]",
      "text/plain": [
       "Plot with title \"\""
      ]
     },
     "metadata": {
      "image/png": {
       "height": 420,
       "width": 420
      }
     },
     "output_type": "display_data"
    }
   ],
   "source": [
    "par(mfrow=c(2,2))\n",
    "plot(fit10)"
   ]
  },
  {
   "cell_type": "code",
   "execution_count": 54,
   "metadata": {
    "vscode": {
     "languageId": "r"
    }
   },
   "outputs": [
    {
     "data": {
      "text/plain": [
       "      predicted\n",
       "actual   0   1\n",
       "     0 464   9\n",
       "     1  38 435"
      ]
     },
     "metadata": {},
     "output_type": "display_data"
    }
   ],
   "source": [
    "actual <- down_fraud_data$Class\n",
    "predicted <- round(fitted(fit10))\n",
    "xt <- xtabs(~ actual + predicted)\n",
    "xt"
   ]
  },
  {
   "cell_type": "code",
   "execution_count": 55,
   "metadata": {
    "vscode": {
     "languageId": "r"
    }
   },
   "outputs": [
    {
     "data": {
      "text/html": [
       "0.95"
      ],
      "text/latex": [
       "0.95"
      ],
      "text/markdown": [
       "0.95"
      ],
      "text/plain": [
       "[1] 0.95"
      ]
     },
     "metadata": {},
     "output_type": "display_data"
    }
   ],
   "source": [
    "accuracy <- sum(diag(xt))/sum(xt)\n",
    "round(accuracy,3)"
   ]
  },
  {
   "cell_type": "code",
   "execution_count": 56,
   "metadata": {
    "vscode": {
     "languageId": "r"
    }
   },
   "outputs": [
    {
     "name": "stderr",
     "output_type": "stream",
     "text": [
      "Warning message:\n",
      "\"glm.fit: fitted probabilities numerically 0 or 1 occurred\"\n"
     ]
    },
    {
     "data": {
      "text/plain": [
       "\n",
       "Call:\n",
       "glm(formula = Class ~ . - V2 - V3 - V6 - V7 - V9 - V11 - V12 - \n",
       "    V15 - V19 - V24, family = \"binomial\", data = down_fraud_data)\n",
       "\n",
       "Coefficients:\n",
       "              Estimate Std. Error z value Pr(>|z|)    \n",
       "(Intercept) -2.897e+00  4.087e-01  -7.089 1.35e-12 ***\n",
       "Time        -5.990e-06  3.831e-06  -1.563  0.11796    \n",
       "V1           1.109e-01  1.985e-01   0.559  0.57640    \n",
       "V4           1.624e+00  2.152e-01   7.545 4.52e-14 ***\n",
       "V5           4.175e-01  1.944e-01   2.147  0.03179 *  \n",
       "V8          -5.376e-01  2.014e-01  -2.669  0.00762 ** \n",
       "V10         -9.818e-01  3.206e-01  -3.062  0.00220 ** \n",
       "V13         -4.855e-01  1.627e-01  -2.984  0.00285 ** \n",
       "V14         -8.548e-01  1.992e-01  -4.291 1.78e-05 ***\n",
       "V16         -2.872e-01  1.962e-01  -1.463  0.14339    \n",
       "V17         -1.814e-01  1.710e-01  -1.061  0.28868    \n",
       "V18         -9.072e-02  2.173e-01  -0.418  0.67630    \n",
       "V20         -3.155e-01  2.061e-01  -1.530  0.12590    \n",
       "V21          1.748e-01  1.634e-01   1.070  0.28462    \n",
       "V22          1.929e-01  1.922e-01   1.004  0.31555    \n",
       "V23         -3.526e-02  9.989e-02  -0.353  0.72405    \n",
       "V25         -6.517e-02  1.645e-01  -0.396  0.69199    \n",
       "V26         -1.271e-01  1.913e-01  -0.664  0.50654    \n",
       "V27          1.200e-01  2.167e-01   0.554  0.57987    \n",
       "V28         -2.075e-03  1.857e-01  -0.011  0.99108    \n",
       "Amount       9.098e-04  6.941e-04   1.311  0.18994    \n",
       "---\n",
       "Signif. codes:  0 '***' 0.001 '**' 0.01 '*' 0.05 '.' 0.1 ' ' 1\n",
       "\n",
       "(Dispersion parameter for binomial family taken to be 1)\n",
       "\n",
       "    Null deviance: 1311.43  on 945  degrees of freedom\n",
       "Residual deviance:  270.17  on 925  degrees of freedom\n",
       "AIC: 312.17\n",
       "\n",
       "Number of Fisher Scoring iterations: 11\n"
      ]
     },
     "metadata": {},
     "output_type": "display_data"
    }
   ],
   "source": [
    "fit11 <- glm(Class ~ . - V2 - V3 - V6 - V7 - V9 - V11 - V12 - V15 - V19 - V24, data=down_fraud_data, family = \"binomial\")\n",
    "summary(fit11)"
   ]
  },
  {
   "cell_type": "code",
   "execution_count": 57,
   "metadata": {
    "vscode": {
     "languageId": "r"
    }
   },
   "outputs": [
    {
     "data": {
      "image/png": "[encoded data removed]",
      "text/plain": [
       "Plot with title \"\""
      ]
     },
     "metadata": {
      "image/png": {
       "height": 420,
       "width": 420
      }
     },
     "output_type": "display_data"
    }
   ],
   "source": [
    "par(mfrow=c(2,2))\n",
    "plot(fit11)"
   ]
  },
  {
   "cell_type": "code",
   "execution_count": 58,
   "metadata": {
    "vscode": {
     "languageId": "r"
    }
   },
   "outputs": [
    {
     "data": {
      "text/plain": [
       "      predicted\n",
       "actual   0   1\n",
       "     0 461  12\n",
       "     1  41 432"
      ]
     },
     "metadata": {},
     "output_type": "display_data"
    }
   ],
   "source": [
    "actual <- down_fraud_data$Class\n",
    "predicted <- round(fitted(fit11))\n",
    "xt <- xtabs(~ actual + predicted)\n",
    "xt"
   ]
  },
  {
   "cell_type": "code",
   "execution_count": 59,
   "metadata": {
    "vscode": {
     "languageId": "r"
    }
   },
   "outputs": [
    {
     "data": {
      "text/html": [
       "0.944"
      ],
      "text/latex": [
       "0.944"
      ],
      "text/markdown": [
       "0.944"
      ],
      "text/plain": [
       "[1] 0.944"
      ]
     },
     "metadata": {},
     "output_type": "display_data"
    }
   ],
   "source": [
    "accuracy <- sum(diag(xt))/sum(xt)\n",
    "round(accuracy,3)"
   ]
  },
  {
   "cell_type": "code",
   "execution_count": 60,
   "metadata": {
    "vscode": {
     "languageId": "r"
    }
   },
   "outputs": [
    {
     "name": "stderr",
     "output_type": "stream",
     "text": [
      "Warning message:\n",
      "\"glm.fit: fitted probabilities numerically 0 or 1 occurred\"\n"
     ]
    },
    {
     "data": {
      "text/plain": [
       "\n",
       "Call:\n",
       "glm(formula = Class ~ . - Amount - Time - V1 - V2 - V3 - V6 - \n",
       "    V7 - V9 - V11 - V12 - V15 - V17 - V18 - V19 - V24 - V25 - \n",
       "    V26, family = \"binomial\", data = down_fraud_data)\n",
       "\n",
       "Coefficients:\n",
       "            Estimate Std. Error z value Pr(>|z|)    \n",
       "(Intercept) -3.28754    0.26298 -12.501  < 2e-16 ***\n",
       "V4           1.59942    0.19172   8.343  < 2e-16 ***\n",
       "V5           0.19822    0.13531   1.465 0.142949    \n",
       "V8          -0.58121    0.15024  -3.868 0.000110 ***\n",
       "V10         -0.87316    0.25803  -3.384 0.000715 ***\n",
       "V13         -0.46660    0.15828  -2.948 0.003199 ** \n",
       "V14         -0.77582    0.16780  -4.624 3.77e-06 ***\n",
       "V16         -0.26779    0.15541  -1.723 0.084876 .  \n",
       "V20         -0.23686    0.15418  -1.536 0.124478    \n",
       "V21          0.14692    0.14152   1.038 0.299205    \n",
       "V22          0.12099    0.17404   0.695 0.486949    \n",
       "V23         -0.10675    0.08527  -1.252 0.210627    \n",
       "V27          0.03897    0.19504   0.200 0.841637    \n",
       "V28          0.03296    0.17323   0.190 0.849106    \n",
       "---\n",
       "Signif. codes:  0 '***' 0.001 '**' 0.01 '*' 0.05 '.' 0.1 ' ' 1\n",
       "\n",
       "(Dispersion parameter for binomial family taken to be 1)\n",
       "\n",
       "    Null deviance: 1311.43  on 945  degrees of freedom\n",
       "Residual deviance:  275.94  on 932  degrees of freedom\n",
       "AIC: 303.94\n",
       "\n",
       "Number of Fisher Scoring iterations: 9\n"
      ]
     },
     "metadata": {},
     "output_type": "display_data"
    }
   ],
   "source": [
    "fit12 <- glm(Class ~ . - Amount - Time - V1 - V2 - V3 - V6 - V7 - V9 - V11 - V12 - V15 - V17 - V18 - V19 - V24 - V25 - V26 , data=down_fraud_data, family = \"binomial\")\n",
    "summary(fit12)"
   ]
  },
  {
   "cell_type": "code",
   "execution_count": 61,
   "metadata": {
    "vscode": {
     "languageId": "r"
    }
   },
   "outputs": [
    {
     "data": {
      "image/png": "[encoded data removed]",
      "text/plain": [
       "Plot with title \"\""
      ]
     },
     "metadata": {
      "image/png": {
       "height": 420,
       "width": 420
      }
     },
     "output_type": "display_data"
    }
   ],
   "source": [
    "par(mfrow=c(2,2))\n",
    "plot(fit12)"
   ]
  },
  {
   "cell_type": "code",
   "execution_count": 62,
   "metadata": {
    "vscode": {
     "languageId": "r"
    }
   },
   "outputs": [
    {
     "data": {
      "text/plain": [
       "      predicted\n",
       "actual   0   1\n",
       "     0 462  11\n",
       "     1  41 432"
      ]
     },
     "metadata": {},
     "output_type": "display_data"
    }
   ],
   "source": [
    "actual <- down_fraud_data$Class\n",
    "predicted <- round(fitted(fit12))\n",
    "xt <- xtabs(~ actual + predicted)\n",
    "xt"
   ]
  },
  {
   "cell_type": "code",
   "execution_count": 63,
   "metadata": {
    "vscode": {
     "languageId": "r"
    }
   },
   "outputs": [
    {
     "data": {
      "text/html": [
       "0.945"
      ],
      "text/latex": [
       "0.945"
      ],
      "text/markdown": [
       "0.945"
      ],
      "text/plain": [
       "[1] 0.945"
      ]
     },
     "metadata": {},
     "output_type": "display_data"
    }
   ],
   "source": [
    "accuracy <- sum(diag(xt))/sum(xt)\n",
    "round(accuracy,3)"
   ]
  },
  {
   "cell_type": "markdown",
   "metadata": {},
   "source": [
    "## Hosmer-Lemeshow test"
   ]
  },
  {
   "cell_type": "code",
   "execution_count": 64,
   "metadata": {
    "vscode": {
     "languageId": "r"
    }
   },
   "outputs": [
    {
     "name": "stderr",
     "output_type": "stream",
     "text": [
      "Warning message in Ops.factor(1, y):\n",
      "\"'-' not meaningful for factors\"\n"
     ]
    },
    {
     "data": {
      "text/plain": [
       "\n",
       "\tHosmer and Lemeshow goodness of fit (GOF) test\n",
       "\n",
       "data:  fraud_data$Class, fitted(fit1)\n",
       "X-squared = 283726, df = 8, p-value < 2.2e-16\n"
      ]
     },
     "metadata": {},
     "output_type": "display_data"
    }
   ],
   "source": [
    "hoslem.test(fraud_data$Class, fitted(fit1))"
   ]
  },
  {
   "cell_type": "code",
   "execution_count": 65,
   "metadata": {
    "vscode": {
     "languageId": "r"
    }
   },
   "outputs": [
    {
     "name": "stderr",
     "output_type": "stream",
     "text": [
      "Warning message in Ops.factor(1, y):\n",
      "\"'-' not meaningful for factors\"\n"
     ]
    },
    {
     "data": {
      "text/plain": [
       "\n",
       "\tHosmer and Lemeshow goodness of fit (GOF) test\n",
       "\n",
       "data:  fraud_data$Class, fitted(fit2)\n",
       "X-squared = 283726, df = 8, p-value < 2.2e-16\n"
      ]
     },
     "metadata": {},
     "output_type": "display_data"
    }
   ],
   "source": [
    "hoslem.test(fraud_data$Class, fitted(fit2))"
   ]
  },
  {
   "cell_type": "code",
   "execution_count": 66,
   "metadata": {
    "vscode": {
     "languageId": "r"
    }
   },
   "outputs": [
    {
     "name": "stderr",
     "output_type": "stream",
     "text": [
      "Warning message in Ops.factor(1, y):\n",
      "\"'-' not meaningful for factors\"\n"
     ]
    },
    {
     "data": {
      "text/plain": [
       "\n",
       "\tHosmer and Lemeshow goodness of fit (GOF) test\n",
       "\n",
       "data:  fraud_data$Class, fitted(fit3)\n",
       "X-squared = 283726, df = 8, p-value < 2.2e-16\n"
      ]
     },
     "metadata": {},
     "output_type": "display_data"
    }
   ],
   "source": [
    "hoslem.test(fraud_data$Class, fitted(fit3))"
   ]
  },
  {
   "cell_type": "code",
   "execution_count": 67,
   "metadata": {
    "vscode": {
     "languageId": "r"
    }
   },
   "outputs": [
    {
     "name": "stderr",
     "output_type": "stream",
     "text": [
      "Warning message in Ops.factor(1, y):\n",
      "\"'-' not meaningful for factors\"\n"
     ]
    },
    {
     "data": {
      "text/plain": [
       "\n",
       "\tHosmer and Lemeshow goodness of fit (GOF) test\n",
       "\n",
       "data:  fraud_data$Class, fitted(fit4)\n",
       "X-squared = 283726, df = 8, p-value < 2.2e-16\n"
      ]
     },
     "metadata": {},
     "output_type": "display_data"
    }
   ],
   "source": [
    "hoslem.test(fraud_data$Class, fitted(fit4))"
   ]
  },
  {
   "cell_type": "code",
   "execution_count": 68,
   "metadata": {
    "vscode": {
     "languageId": "r"
    }
   },
   "outputs": [
    {
     "name": "stderr",
     "output_type": "stream",
     "text": [
      "Warning message in Ops.factor(1, y):\n",
      "\"'-' not meaningful for factors\"\n",
      "Warning message in hoslem.test(up_fraud_data$Class, fitted(fit5)):\n",
      "\"The data did not allow for the requested number of bins.\"\n"
     ]
    },
    {
     "data": {
      "text/plain": [
       "\n",
       "\tHosmer and Lemeshow goodness of fit (GOF) test\n",
       "\n",
       "data:  up_fraud_data$Class, fitted(fit5)\n",
       "X-squared = 566506, df = 6, p-value < 2.2e-16\n"
      ]
     },
     "metadata": {},
     "output_type": "display_data"
    }
   ],
   "source": [
    "hoslem.test(up_fraud_data$Class, fitted(fit5))"
   ]
  },
  {
   "cell_type": "code",
   "execution_count": 69,
   "metadata": {
    "vscode": {
     "languageId": "r"
    }
   },
   "outputs": [
    {
     "name": "stderr",
     "output_type": "stream",
     "text": [
      "Warning message in Ops.factor(1, y):\n",
      "\"'-' not meaningful for factors\"\n"
     ]
    },
    {
     "data": {
      "text/plain": [
       "\n",
       "\tHosmer and Lemeshow goodness of fit (GOF) test\n",
       "\n",
       "data:  up_fraud_data$Class, fitted(fit6)\n",
       "X-squared = 566506, df = 8, p-value < 2.2e-16\n"
      ]
     },
     "metadata": {},
     "output_type": "display_data"
    }
   ],
   "source": [
    "hoslem.test(up_fraud_data$Class, fitted(fit6))"
   ]
  },
  {
   "cell_type": "code",
   "execution_count": 70,
   "metadata": {
    "vscode": {
     "languageId": "r"
    }
   },
   "outputs": [
    {
     "name": "stderr",
     "output_type": "stream",
     "text": [
      "Warning message in Ops.factor(1, y):\n",
      "\"'-' not meaningful for factors\"\n"
     ]
    },
    {
     "data": {
      "text/plain": [
       "\n",
       "\tHosmer and Lemeshow goodness of fit (GOF) test\n",
       "\n",
       "data:  up_fraud_data$Class, fitted(fit7)\n",
       "X-squared = 566506, df = 8, p-value < 2.2e-16\n"
      ]
     },
     "metadata": {},
     "output_type": "display_data"
    }
   ],
   "source": [
    "hoslem.test(up_fraud_data$Class, fitted(fit7))"
   ]
  },
  {
   "cell_type": "code",
   "execution_count": 71,
   "metadata": {
    "vscode": {
     "languageId": "r"
    }
   },
   "outputs": [
    {
     "name": "stderr",
     "output_type": "stream",
     "text": [
      "Warning message in Ops.factor(1, y):\n",
      "\"'-' not meaningful for factors\"\n"
     ]
    },
    {
     "data": {
      "text/plain": [
       "\n",
       "\tHosmer and Lemeshow goodness of fit (GOF) test\n",
       "\n",
       "data:  up_fraud_data$Class, fitted(fit8)\n",
       "X-squared = 566506, df = 8, p-value < 2.2e-16\n"
      ]
     },
     "metadata": {},
     "output_type": "display_data"
    }
   ],
   "source": [
    "hoslem.test(up_fraud_data$Class, fitted(fit8))"
   ]
  },
  {
   "cell_type": "code",
   "execution_count": 72,
   "metadata": {
    "vscode": {
     "languageId": "r"
    }
   },
   "outputs": [
    {
     "name": "stderr",
     "output_type": "stream",
     "text": [
      "Warning message in Ops.factor(1, y):\n",
      "\"'-' not meaningful for factors\"\n",
      "Warning message in hoslem.test(down_fraud_data$Class, fitted(fit9)):\n",
      "\"The data did not allow for the requested number of bins.\"\n"
     ]
    },
    {
     "data": {
      "text/plain": [
       "\n",
       "\tHosmer and Lemeshow goodness of fit (GOF) test\n",
       "\n",
       "data:  down_fraud_data$Class, fitted(fit9)\n",
       "X-squared = 946, df = 5, p-value < 2.2e-16\n"
      ]
     },
     "metadata": {},
     "output_type": "display_data"
    }
   ],
   "source": [
    "hoslem.test(down_fraud_data$Class, fitted(fit9))"
   ]
  },
  {
   "cell_type": "code",
   "execution_count": 73,
   "metadata": {
    "vscode": {
     "languageId": "r"
    }
   },
   "outputs": [
    {
     "name": "stderr",
     "output_type": "stream",
     "text": [
      "Warning message in Ops.factor(1, y):\n",
      "\"'-' not meaningful for factors\"\n",
      "Warning message in hoslem.test(down_fraud_data$Class, fitted(fit10)):\n",
      "\"The data did not allow for the requested number of bins.\"\n"
     ]
    },
    {
     "data": {
      "text/plain": [
       "\n",
       "\tHosmer and Lemeshow goodness of fit (GOF) test\n",
       "\n",
       "data:  down_fraud_data$Class, fitted(fit10)\n",
       "X-squared = 946, df = 7, p-value < 2.2e-16\n"
      ]
     },
     "metadata": {},
     "output_type": "display_data"
    }
   ],
   "source": [
    "hoslem.test(down_fraud_data$Class, fitted(fit10))"
   ]
  },
  {
   "cell_type": "code",
   "execution_count": 74,
   "metadata": {
    "vscode": {
     "languageId": "r"
    }
   },
   "outputs": [
    {
     "name": "stderr",
     "output_type": "stream",
     "text": [
      "Warning message in Ops.factor(1, y):\n",
      "\"'-' not meaningful for factors\"\n"
     ]
    },
    {
     "data": {
      "text/plain": [
       "\n",
       "\tHosmer and Lemeshow goodness of fit (GOF) test\n",
       "\n",
       "data:  down_fraud_data$Class, fitted(fit11)\n",
       "X-squared = 946, df = 8, p-value < 2.2e-16\n"
      ]
     },
     "metadata": {},
     "output_type": "display_data"
    }
   ],
   "source": [
    "hoslem.test(down_fraud_data$Class, fitted(fit11))"
   ]
  },
  {
   "cell_type": "code",
   "execution_count": 75,
   "metadata": {
    "vscode": {
     "languageId": "r"
    }
   },
   "outputs": [
    {
     "name": "stderr",
     "output_type": "stream",
     "text": [
      "Warning message in Ops.factor(1, y):\n",
      "\"'-' not meaningful for factors\"\n"
     ]
    },
    {
     "data": {
      "text/plain": [
       "\n",
       "\tHosmer and Lemeshow goodness of fit (GOF) test\n",
       "\n",
       "data:  down_fraud_data$Class, fitted(fit12)\n",
       "X-squared = 946, df = 8, p-value < 2.2e-16\n"
      ]
     },
     "metadata": {},
     "output_type": "display_data"
    }
   ],
   "source": [
    "hoslem.test(down_fraud_data$Class, fitted(fit12))"
   ]
  },
  {
   "cell_type": "markdown",
   "metadata": {},
   "source": [
    "## ODD'S RATIO\n",
    "\n",
    "An odds ratio greater than 1 suggests that the odds of the outcome increase as the predictor variable increases.<br>\n",
    "An odds ratio equal to 1 suggests that there is no association between the predictor variable and the outcome.<br>\n",
    "An odds ratio less than 1 suggests that the odds of the outcome decrease as the predictor variable increases.<br>"
   ]
  },
  {
   "cell_type": "code",
   "execution_count": 76,
   "metadata": {
    "vscode": {
     "languageId": "r"
    }
   },
   "outputs": [
    {
     "name": "stdout",
     "output_type": "stream",
     "text": [
      "(Intercept)        Time          V1          V2          V3          V4 \n",
      " 0.00022524  0.99999632  1.20594791  1.01762827  0.98749720  2.69614553 \n",
      "         V5          V6          V7          V8          V9         V10 \n",
      " 1.19687428  0.84779383  0.89013284  0.81203357  0.73379776  0.41232791 \n",
      "        V11         V12         V13         V14         V15         V16 \n",
      " 0.94271909  1.08619311  0.72310103  0.59361997  0.89544872  0.84029826 \n",
      "        V17         V18         V19         V20         V21         V22 \n",
      " 0.98836402  0.98846281  1.08345458  0.70086361  1.33048558  1.58728300 \n",
      "        V23         V24         V25         V26         V27         V28 \n",
      " 0.93832189  1.07482267  0.97399073  1.00456202  0.72103394  0.90708960 \n",
      "     Amount \n",
      " 1.00092313 \n"
     ]
    }
   ],
   "source": [
    "coefficients <- coef(fit1)\n",
    "odds_ratios <- exp(coefficients)\n",
    "print(odds_ratios)"
   ]
  },
  {
   "cell_type": "code",
   "execution_count": 77,
   "metadata": {
    "vscode": {
     "languageId": "r"
    }
   },
   "outputs": [
    {
     "name": "stdout",
     "output_type": "stream",
     "text": [
      " (Intercept)         Time           V1           V4           V5           V6 \n",
      "0.0002201623 0.9999966005 1.2106319840 2.6744188421 1.1748939001 0.8487044375 \n",
      "          V7           V8           V9          V10          V11          V12 \n",
      "0.8786323317 0.8112145635 0.7233432582 0.4151517065 0.9455766878 1.0715985203 \n",
      "         V13          V14          V15          V16          V19          V20 \n",
      "0.7267717144 0.5936145109 0.8965062678 0.8279635270 1.0796324388 0.6993962590 \n",
      "         V21          V22          V23          V24          V27          V28 \n",
      "1.3307523320 1.5909495759 0.9323771482 1.0754336175 0.7191408901 0.9047946423 \n",
      "      Amount \n",
      "1.0009175768 \n"
     ]
    }
   ],
   "source": [
    "coefficients <- coef(fit2)\n",
    "odds_ratios <- exp(coefficients)\n",
    "print(odds_ratios)"
   ]
  },
  {
   "cell_type": "code",
   "execution_count": 78,
   "metadata": {
    "vscode": {
     "languageId": "r"
    }
   },
   "outputs": [
    {
     "name": "stdout",
     "output_type": "stream",
     "text": [
      "(Intercept)        Time          V1          V4          V5          V8 \n",
      "  0.0002003   0.9999985   1.0809714   2.8897178   1.1875712   0.8186369 \n",
      "        V10         V13         V14         V16         V17         V18 \n",
      "  0.4052795   0.7241256   0.6133054   0.8283616   0.9679166   1.0202108 \n",
      "        V20         V21         V22         V23         V25         V26 \n",
      "  0.8164341   1.3220834   1.5302738   0.9308117   1.0006868   1.0234767 \n",
      "        V27         V28      Amount \n",
      "  0.7925998   0.9285003   1.0001490 \n"
     ]
    }
   ],
   "source": [
    "coefficients <- coef(fit3)\n",
    "odds_ratios <- exp(coefficients)\n",
    "print(odds_ratios)"
   ]
  },
  {
   "cell_type": "code",
   "execution_count": 79,
   "metadata": {
    "vscode": {
     "languageId": "r"
    }
   },
   "outputs": [
    {
     "name": "stdout",
     "output_type": "stream",
     "text": [
      " (Intercept)           V4           V5           V8          V10          V13 \n",
      "0.0001786745 2.7292266566 1.1559053508 0.8134206216 0.4400966697 0.7254364243 \n",
      "         V14          V16          V20          V21          V22          V23 \n",
      "0.5896563778 0.8154206075 0.8548109649 1.3237184500 1.5670202844 0.9301813688 \n",
      "         V27          V28 \n",
      "0.8257646727 0.9371734623 \n"
     ]
    }
   ],
   "source": [
    "coefficients <- coef(fit4)\n",
    "odds_ratios <- exp(coefficients)\n",
    "print(odds_ratios)"
   ]
  },
  {
   "cell_type": "code",
   "execution_count": 80,
   "metadata": {
    "vscode": {
     "languageId": "r"
    }
   },
   "outputs": [
    {
     "name": "stdout",
     "output_type": "stream",
     "text": [
      "(Intercept)        Time          V1          V2          V3          V4 \n",
      "  0.0324694   0.9999918   3.6023224   2.6716874   1.5196369   2.9169246 \n",
      "         V5          V6          V7          V8          V9         V10 \n",
      "  2.8668249   0.4908938   0.5106511   0.6111061   0.7204068   0.4722955 \n",
      "        V11         V12         V13         V14         V15         V16 \n",
      "  1.6282535   0.3543334   0.6895963   0.2646274   0.8683237   0.5357485 \n",
      "        V17         V18         V19         V20         V21         V22 \n",
      "  0.4777323   0.7971126   1.2841376   0.5361691   1.0273388   1.7635450 \n",
      "        V23         V24         V25         V26         V27         V28 \n",
      "  1.3233711   0.9708688   1.0123653   0.8559583   1.0481339   1.2990894 \n",
      "     Amount \n",
      "  1.0083654 \n"
     ]
    }
   ],
   "source": [
    "coefficients <- coef(fit5)\n",
    "odds_ratios <- exp(coefficients)\n",
    "print(odds_ratios)"
   ]
  },
  {
   "cell_type": "code",
   "execution_count": 81,
   "metadata": {
    "vscode": {
     "languageId": "r"
    }
   },
   "outputs": [
    {
     "name": "stdout",
     "output_type": "stream",
     "text": [
      "(Intercept)        Time          V1          V4          V5          V6 \n",
      " 0.05649604  0.99999409  1.34096952  3.10801075  1.26138253  0.65054168 \n",
      "         V7          V8          V9         V10         V11         V12 \n",
      " 1.00304936  0.66062948  0.75751296  0.58743662  1.30932118  0.52002875 \n",
      "        V13         V14         V15         V16         V19         V20 \n",
      " 0.72777131  0.44752151  0.87970895  0.70783473  1.02298839  0.79337706 \n",
      "        V21         V22         V23         V24         V27         V28 \n",
      " 1.12448928  1.53067879  0.93053867  0.96922822  1.04170248  1.05657323 \n",
      "     Amount \n",
      " 1.00192058 \n"
     ]
    }
   ],
   "source": [
    "coefficients <- coef(fit6)\n",
    "odds_ratios <- exp(coefficients)\n",
    "print(odds_ratios)"
   ]
  },
  {
   "cell_type": "code",
   "execution_count": 82,
   "metadata": {
    "vscode": {
     "languageId": "r"
    }
   },
   "outputs": [
    {
     "name": "stdout",
     "output_type": "stream",
     "text": [
      "(Intercept)        Time          V1          V4          V5          V8 \n",
      " 0.06658655  0.99999292  1.16644947  4.00464651  1.43995371  0.73698984 \n",
      "        V10         V13         V14         V16         V17         V18 \n",
      " 0.44477750  0.72844405  0.45470003  0.76680997  0.82145252  1.08433935 \n",
      "        V20         V21         V22         V23         V25         V26 \n",
      " 0.76072761  1.14867860  1.37720458  0.88938872  0.92291318  0.89876267 \n",
      "        V27         V28      Amount \n",
      " 0.96126973  1.02852169  1.00145075 \n"
     ]
    }
   ],
   "source": [
    "coefficients <- coef(fit7)\n",
    "odds_ratios <- exp(coefficients)\n",
    "print(odds_ratios)"
   ]
  },
  {
   "cell_type": "code",
   "execution_count": 83,
   "metadata": {
    "vscode": {
     "languageId": "r"
    }
   },
   "outputs": [
    {
     "name": "stdout",
     "output_type": "stream",
     "text": [
      "(Intercept)          V4          V5          V8         V10         V13 \n",
      " 0.04381325  3.92918945  1.19940574  0.69785060  0.48396889  0.71946146 \n",
      "        V14         V16         V20         V21         V22         V23 \n",
      " 0.49215868  0.78076647  0.90348360  1.16908716  1.29513209  0.85449109 \n",
      "        V27         V28 \n",
      " 0.94108585  0.99433707 \n"
     ]
    }
   ],
   "source": [
    "coefficients <- coef(fit8)\n",
    "odds_ratios <- exp(coefficients)\n",
    "print(odds_ratios)"
   ]
  },
  {
   "cell_type": "code",
   "execution_count": 84,
   "metadata": {
    "vscode": {
     "languageId": "r"
    }
   },
   "outputs": [
    {
     "name": "stdout",
     "output_type": "stream",
     "text": [
      " (Intercept)         Time           V1           V2           V3           V4 \n",
      "8.155417e-18 9.999810e-01 7.697696e-04 9.059777e+54 5.467997e-36 1.887786e+23 \n",
      "          V5           V6           V7           V8           V9          V10 \n",
      "5.594560e-11 2.037105e-21 6.038394e-74 1.130600e+13 5.050635e-24 2.282943e-53 \n",
      "         V11          V12          V13          V14          V15          V16 \n",
      "2.070131e+39 9.941712e-70 7.415029e-02 1.026020e-71 8.752765e-03 1.372200e-58 \n",
      "         V17          V18          V19          V20          V21          V22 \n",
      "1.766093e-99 5.375322e-38 1.147024e+14 1.701357e-05 4.187347e+03 2.739950e+04 \n",
      "         V23          V24          V25          V26          V27          V28 \n",
      "2.165482e+10 8.877176e-02 1.683718e+04 7.267383e+00 7.864562e+03 9.183393e+06 \n",
      "      Amount \n",
      "1.564805e+00 \n"
     ]
    }
   ],
   "source": [
    "coefficients <- coef(fit9)\n",
    "odds_ratios <- exp(coefficients)\n",
    "print(odds_ratios)"
   ]
  },
  {
   "cell_type": "code",
   "execution_count": 85,
   "metadata": {
    "vscode": {
     "languageId": "r"
    }
   },
   "outputs": [
    {
     "name": "stdout",
     "output_type": "stream",
     "text": [
      "(Intercept)        Time          V1          V4          V5          V6 \n",
      " 0.05021498  0.99999309  1.85783843  3.65782882  1.55892059  0.64634085 \n",
      "         V7          V8          V9         V10         V11         V12 \n",
      " 0.63862951  0.55971680  0.67059063  0.47688926  1.38228566  0.46231259 \n",
      "        V13         V14         V15         V16         V19         V20 \n",
      " 0.65502930  0.40177400  0.97536422  0.64779570  1.04684391  0.58284524 \n",
      "        V21         V22         V23         V24         V27         V28 \n",
      " 1.08466794  1.51084788  1.16909880  1.00312823  1.21310787  0.98704245 \n",
      "     Amount \n",
      " 1.00341250 \n"
     ]
    }
   ],
   "source": [
    "coefficients <- coef(fit10)\n",
    "odds_ratios <- exp(coefficients)\n",
    "print(odds_ratios)"
   ]
  },
  {
   "cell_type": "code",
   "execution_count": 86,
   "metadata": {
    "vscode": {
     "languageId": "r"
    }
   },
   "outputs": [
    {
     "name": "stdout",
     "output_type": "stream",
     "text": [
      "(Intercept)        Time          V1          V4          V5          V8 \n",
      " 0.05516123  0.99999401  1.11725426  5.07234301  1.51814314  0.58416595 \n",
      "        V10         V13         V14         V16         V17         V18 \n",
      " 0.37462796  0.61539085  0.42537521  0.75039522  0.83411097  0.91327735 \n",
      "        V20         V21         V22         V23         V25         V26 \n",
      " 0.72945369  1.19105905  1.21271755  0.96535021  0.93691046  0.88068941 \n",
      "        V27         V28      Amount \n",
      " 1.12744312  0.99792718  1.00091026 \n"
     ]
    }
   ],
   "source": [
    "coefficients <- coef(fit11)\n",
    "odds_ratios <- exp(coefficients)\n",
    "print(odds_ratios)"
   ]
  },
  {
   "cell_type": "code",
   "execution_count": 87,
   "metadata": {
    "vscode": {
     "languageId": "r"
    }
   },
   "outputs": [
    {
     "name": "stdout",
     "output_type": "stream",
     "text": [
      "(Intercept)          V4          V5          V8         V10         V13 \n",
      " 0.03734545  4.95015745  1.21922729  0.55922375  0.41762914  0.62712839 \n",
      "        V14         V16         V20         V21         V22         V23 \n",
      " 0.46032415  0.76507050  0.78910450  1.15826282  1.12860961  0.89875185 \n",
      "        V27         V28 \n",
      " 1.03973786  1.03350844 \n"
     ]
    }
   ],
   "source": [
    "coefficients <- coef(fit12)\n",
    "odds_ratios <- exp(coefficients)\n",
    "print(odds_ratios)"
   ]
  },
  {
   "cell_type": "markdown",
   "metadata": {},
   "source": [
    "SELECTING THE BEST MODEL BASED ON AIC"
   ]
  },
  {
   "cell_type": "code",
   "execution_count": 88,
   "metadata": {
    "vscode": {
     "languageId": "r"
    }
   },
   "outputs": [
    {
     "name": "stdout",
     "output_type": "stream",
     "text": [
      "Model: fit1 - AIC: 2287.60691859998 \n",
      "Model: fit2 - AIC: 2275.83528102652 \n",
      "Model: fit3 - AIC: 2286.7044489212 \n",
      "Model: fit4 - AIC: 2276.94560513537 \n",
      "Model: fit5 - AIC: 155565.080049263 \n",
      "Model: fit6 - AIC: 161071.427162149 \n",
      "Model: fit7 - AIC: 174130.945369487 \n",
      "Model: fit8 - AIC: 180146.875774923 \n",
      "Model: fit9 - AIC: 254.525474972598 \n",
      "Model: fit10 - AIC: 296.084830992916 \n",
      "Model: fit11 - AIC: 312.169187284535 \n",
      "Model: fit12 - AIC: 303.938333444786 \n"
     ]
    }
   ],
   "source": [
    "model_list <- list(fit1, fit2, fit3, fit4, fit5, fit6, fit7, fit8, fit9, fit10, fit11, fit12)\n",
    "\n",
    "# Function to extract AIC from each model\n",
    "extract_AIC <- function(model) {\n",
    "  AIC_val <- AIC(model)\n",
    "  return(AIC_val)\n",
    "}\n",
    "\n",
    "# Extract AIC values for each model\n",
    "AIC_values <- sapply(model_list, extract_AIC)\n",
    "\n",
    "# Print model names and corresponding AIC values\n",
    "for (i in seq_along(model_list)) {\n",
    "  cat(paste(\"Model:\", paste(\"fit\", i, sep = \"\"), \"- AIC:\", AIC_values[i], \"\\n\"))\n",
    "}"
   ]
  },
  {
   "cell_type": "markdown",
   "metadata": {},
   "source": [
    "IMPROVING OVER FIT10 AS IT HAS THE LOWEST AIC"
   ]
  },
  {
   "cell_type": "code",
   "execution_count": 89,
   "metadata": {
    "vscode": {
     "languageId": "r"
    }
   },
   "outputs": [
    {
     "data": {
      "text/html": [
       "<table class=\"dataframe\">\n",
       "<caption>A data.frame: 1 × 5</caption>\n",
       "<thead>\n",
       "\t<tr><th scope=col>Model</th><th scope=col>Cooks_Distance</th><th scope=col>Leverage</th><th scope=col>Std_Residuals</th><th scope=col>DFBeta</th></tr>\n",
       "\t<tr><th scope=col>&lt;chr&gt;</th><th scope=col>&lt;dbl&gt;</th><th scope=col>&lt;dbl&gt;</th><th scope=col>&lt;dbl&gt;</th><th scope=col>&lt;dbl&gt;</th></tr>\n",
       "</thead>\n",
       "<tbody>\n",
       "\t<tr><td>fit10</td><td>4.268253</td><td>0.9050837</td><td>3.90515</td><td>10.81067</td></tr>\n",
       "</tbody>\n",
       "</table>\n"
      ],
      "text/latex": [
       "A data.frame: 1 × 5\n",
       "\\begin{tabular}{lllll}\n",
       " Model & Cooks\\_Distance & Leverage & Std\\_Residuals & DFBeta\\\\\n",
       " <chr> & <dbl> & <dbl> & <dbl> & <dbl>\\\\\n",
       "\\hline\n",
       "\t fit10 & 4.268253 & 0.9050837 & 3.90515 & 10.81067\\\\\n",
       "\\end{tabular}\n"
      ],
      "text/markdown": [
       "\n",
       "A data.frame: 1 × 5\n",
       "\n",
       "| Model &lt;chr&gt; | Cooks_Distance &lt;dbl&gt; | Leverage &lt;dbl&gt; | Std_Residuals &lt;dbl&gt; | DFBeta &lt;dbl&gt; |\n",
       "|---|---|---|---|---|\n",
       "| fit10 | 4.268253 | 0.9050837 | 3.90515 | 10.81067 |\n",
       "\n"
      ],
      "text/plain": [
       "  Model Cooks_Distance Leverage  Std_Residuals DFBeta  \n",
       "1 fit10 4.268253       0.9050837 3.90515       10.81067"
      ]
     },
     "metadata": {},
     "output_type": "display_data"
    }
   ],
   "source": [
    "diagnostics_fit10 <- data.frame(Model = \"fit10\", \n",
    "                                 Cooks_Distance = NA,\n",
    "                                 Leverage = NA,\n",
    "                                 Std_Residuals = NA,\n",
    "                                 DFBeta = NA)\n",
    "\n",
    "model_fit10 <- fit10\n",
    "\n",
    "# Cook's distance\n",
    "cooks_dist_fit10 <- cooks.distance(model_fit10)\n",
    "diagnostics_fit10$Cooks_Distance <- max(cooks_dist_fit10)\n",
    "\n",
    "# Leverage\n",
    "leverage_fit10 <- hatvalues(model_fit10)\n",
    "diagnostics_fit10$Leverage <- max(leverage_fit10)\n",
    "\n",
    "# Standardized residuals\n",
    "std_res_fit10 <- rstandard(model_fit10)\n",
    "diagnostics_fit10$Std_Residuals <- max(abs(std_res_fit10))\n",
    "\n",
    "# DFBeta\n",
    "df_beta_fit10 <- dfbetas(model_fit10)\n",
    "diagnostics_fit10$DFBeta <- max(apply(abs(df_beta_fit10), 1, max))\n",
    "\n",
    "diagnostics_fit10"
   ]
  },
  {
   "cell_type": "code",
   "execution_count": 90,
   "metadata": {
    "vscode": {
     "languageId": "r"
    }
   },
   "outputs": [],
   "source": [
    "down_fraud_data_1 <- down_fraud_data[-c(163, 399, 867),]"
   ]
  },
  {
   "cell_type": "code",
   "execution_count": 91,
   "metadata": {
    "vscode": {
     "languageId": "r"
    }
   },
   "outputs": [
    {
     "name": "stderr",
     "output_type": "stream",
     "text": [
      "Warning message:\n",
      "\"glm.fit: fitted probabilities numerically 0 or 1 occurred\"\n"
     ]
    },
    {
     "data": {
      "text/plain": [
       "\n",
       "Call:\n",
       "glm(formula = Class ~ . - V2 - V3 - V17 - V18 - V25 - V26, family = binomial, \n",
       "    data = down_fraud_data_1)\n",
       "\n",
       "Coefficients:\n",
       "              Estimate Std. Error z value Pr(>|z|)    \n",
       "(Intercept) -3.026e+00  4.565e-01  -6.629 3.38e-11 ***\n",
       "Time        -6.925e-06  4.551e-06  -1.522  0.12807    \n",
       "V1           6.412e-01  2.820e-01   2.274  0.02299 *  \n",
       "V4           1.327e+00  2.120e-01   6.257 3.94e-10 ***\n",
       "V5           4.861e-01  2.392e-01   2.032  0.04213 *  \n",
       "V6          -3.574e-01  2.613e-01  -1.368  0.17138    \n",
       "V7          -4.152e-01  2.571e-01  -1.615  0.10628    \n",
       "V8          -5.897e-01  2.107e-01  -2.798  0.00514 ** \n",
       "V9          -4.320e-01  2.599e-01  -1.662  0.09645 .  \n",
       "V10         -8.271e-01  3.417e-01  -2.420  0.01550 *  \n",
       "V11          3.089e-01  1.866e-01   1.656  0.09779 .  \n",
       "V12         -9.260e-01  2.227e-01  -4.158 3.21e-05 ***\n",
       "V13         -3.890e-01  1.659e-01  -2.345  0.01902 *  \n",
       "V14         -9.939e-01  2.075e-01  -4.790 1.67e-06 ***\n",
       "V15         -5.482e-02  1.782e-01  -0.308  0.75835    \n",
       "V16         -4.277e-01  1.965e-01  -2.176  0.02954 *  \n",
       "V19          4.434e-02  1.681e-01   0.264  0.79191    \n",
       "V20         -5.217e-01  2.955e-01  -1.766  0.07747 .  \n",
       "V21          5.881e-02  1.750e-01   0.336  0.73683    \n",
       "V22          3.818e-01  2.120e-01   1.800  0.07180 .  \n",
       "V23          1.260e-01  1.429e-01   0.881  0.37813    \n",
       "V24          2.993e-02  2.187e-01   0.137  0.89114    \n",
       "V27          1.532e-01  2.437e-01   0.629  0.52956    \n",
       "V28          7.736e-03  1.928e-01   0.040  0.96799    \n",
       "Amount       3.275e-03  1.386e-03   2.363  0.01812 *  \n",
       "---\n",
       "Signif. codes:  0 '***' 0.001 '**' 0.01 '*' 0.05 '.' 0.1 ' ' 1\n",
       "\n",
       "(Dispersion parameter for binomial family taken to be 1)\n",
       "\n",
       "    Null deviance: 1307.27  on 942  degrees of freedom\n",
       "Residual deviance:  239.66  on 918  degrees of freedom\n",
       "AIC: 289.66\n",
       "\n",
       "Number of Fisher Scoring iterations: 10\n"
      ]
     },
     "metadata": {},
     "output_type": "display_data"
    }
   ],
   "source": [
    "fit10_1 <- glm(Class ~ . - V2 - V3 - V17 - V18 - V25 - V26, data=down_fraud_data_1, family=binomial)\n",
    "summary(fit10_1)"
   ]
  },
  {
   "cell_type": "code",
   "execution_count": 92,
   "metadata": {
    "vscode": {
     "languageId": "r"
    }
   },
   "outputs": [
    {
     "data": {
      "image/png": "[encoded data removed]",
      "text/plain": [
       "Plot with title \"\""
      ]
     },
     "metadata": {
      "image/png": {
       "height": 420,
       "width": 420
      }
     },
     "output_type": "display_data"
    }
   ],
   "source": [
    "par(mfrow=c(2,2))\n",
    "plot(fit10_1)"
   ]
  },
  {
   "cell_type": "code",
   "execution_count": 93,
   "metadata": {
    "vscode": {
     "languageId": "r"
    }
   },
   "outputs": [
    {
     "data": {
      "text/plain": [
       "      predicted\n",
       "actual   0   1\n",
       "     0 464   7\n",
       "     1  38 434"
      ]
     },
     "metadata": {},
     "output_type": "display_data"
    }
   ],
   "source": [
    "actual <- down_fraud_data_1$Class\n",
    "predicted <- round(fitted(fit10_1))\n",
    "xt <- xtabs(~ actual + predicted)\n",
    "xt"
   ]
  },
  {
   "cell_type": "code",
   "execution_count": 94,
   "metadata": {
    "vscode": {
     "languageId": "r"
    }
   },
   "outputs": [
    {
     "data": {
      "text/html": [
       "0.952"
      ],
      "text/latex": [
       "0.952"
      ],
      "text/markdown": [
       "0.952"
      ],
      "text/plain": [
       "[1] 0.952"
      ]
     },
     "metadata": {},
     "output_type": "display_data"
    }
   ],
   "source": [
    "accuracy <- sum(diag(xt))/sum(xt)\n",
    "round(accuracy,3)"
   ]
  },
  {
   "cell_type": "code",
   "execution_count": 95,
   "metadata": {
    "vscode": {
     "languageId": "r"
    }
   },
   "outputs": [
    {
     "data": {
      "text/html": [
       "<table class=\"dataframe\">\n",
       "<caption>A data.frame: 1 × 5</caption>\n",
       "<thead>\n",
       "\t<tr><th scope=col>Model</th><th scope=col>Cooks_Distance</th><th scope=col>Leverage</th><th scope=col>Std_Residuals</th><th scope=col>DFBeta</th></tr>\n",
       "\t<tr><th scope=col>&lt;chr&gt;</th><th scope=col>&lt;dbl&gt;</th><th scope=col>&lt;dbl&gt;</th><th scope=col>&lt;dbl&gt;</th><th scope=col>&lt;dbl&gt;</th></tr>\n",
       "</thead>\n",
       "<tbody>\n",
       "\t<tr><td>fit10_1</td><td>3.999078</td><td>0.9076197</td><td>3.787823</td><td>10.89884</td></tr>\n",
       "</tbody>\n",
       "</table>\n"
      ],
      "text/latex": [
       "A data.frame: 1 × 5\n",
       "\\begin{tabular}{lllll}\n",
       " Model & Cooks\\_Distance & Leverage & Std\\_Residuals & DFBeta\\\\\n",
       " <chr> & <dbl> & <dbl> & <dbl> & <dbl>\\\\\n",
       "\\hline\n",
       "\t fit10\\_1 & 3.999078 & 0.9076197 & 3.787823 & 10.89884\\\\\n",
       "\\end{tabular}\n"
      ],
      "text/markdown": [
       "\n",
       "A data.frame: 1 × 5\n",
       "\n",
       "| Model &lt;chr&gt; | Cooks_Distance &lt;dbl&gt; | Leverage &lt;dbl&gt; | Std_Residuals &lt;dbl&gt; | DFBeta &lt;dbl&gt; |\n",
       "|---|---|---|---|---|\n",
       "| fit10_1 | 3.999078 | 0.9076197 | 3.787823 | 10.89884 |\n",
       "\n"
      ],
      "text/plain": [
       "  Model   Cooks_Distance Leverage  Std_Residuals DFBeta  \n",
       "1 fit10_1 3.999078       0.9076197 3.787823      10.89884"
      ]
     },
     "metadata": {},
     "output_type": "display_data"
    }
   ],
   "source": [
    "diagnostics_fit10_1 <- data.frame(Model = \"fit10_1\", \n",
    "                                 Cooks_Distance = NA,\n",
    "                                 Leverage = NA,\n",
    "                                 Std_Residuals = NA,\n",
    "                                 DFBeta = NA)\n",
    "\n",
    "model_fit10_1 <- fit10_1\n",
    "\n",
    "# Cook's distance\n",
    "cooks_dist_fit10_1 <- cooks.distance(model_fit10_1)\n",
    "diagnostics_fit10_1$Cooks_Distance <- max(cooks_dist_fit10_1)\n",
    "\n",
    "# Leverage\n",
    "leverage_fit10_1 <- hatvalues(model_fit10_1)\n",
    "diagnostics_fit10_1$Leverage <- max(leverage_fit10_1)\n",
    "\n",
    "# Standardized residuals\n",
    "std_res_fit10_1 <- rstandard(model_fit10_1)\n",
    "diagnostics_fit10_1$Std_Residuals <- max(abs(std_res_fit10_1))\n",
    "\n",
    "# DFBeta\n",
    "df_beta_fit10_1 <- dfbetas(model_fit10_1)\n",
    "diagnostics_fit10_1$DFBeta <- max(apply(abs(df_beta_fit10_1), 1, max))\n",
    "\n",
    "diagnostics_fit10_1"
   ]
  },
  {
   "cell_type": "markdown",
   "metadata": {},
   "source": [
    "## Coefficients fit10_1"
   ]
  },
  {
   "cell_type": "code",
   "execution_count": 96,
   "metadata": {
    "vscode": {
     "languageId": "r"
    }
   },
   "outputs": [
    {
     "name": "stdout",
     "output_type": "stream",
     "text": [
      "(Intercept)        Time          V1          V4          V5          V6 \n",
      "    -3.0259      0.0000      0.6412      1.3267      0.4861     -0.3574 \n",
      "         V7          V8          V9         V10         V11         V12 \n",
      "    -0.4152     -0.5897     -0.4320     -0.8271      0.3089     -0.9260 \n",
      "        V13         V14         V15         V16         V19         V20 \n",
      "    -0.3890     -0.9939     -0.0548     -0.4277      0.0443     -0.5217 \n",
      "        V21         V22         V23         V24         V27         V28 \n",
      "     0.0588      0.3818      0.1260      0.0299      0.1532      0.0077 \n",
      "     Amount \n",
      "     0.0033 \n"
     ]
    }
   ],
   "source": [
    "print(round(coef(fit10_1),4))"
   ]
  },
  {
   "cell_type": "code",
   "execution_count": 97,
   "metadata": {
    "vscode": {
     "languageId": "r"
    }
   },
   "outputs": [
    {
     "name": "stderr",
     "output_type": "stream",
     "text": [
      "Waiting for profiling to be done...\n",
      "\n",
      "Warning message:\n",
      "\"glm.fit: fitted probabilities numerically 0 or 1 occurred\"\n",
      "Warning message:\n",
      "\"glm.fit: fitted probabilities numerically 0 or 1 occurred\"\n",
      "Warning message:\n",
      "\"glm.fit: fitted probabilities numerically 0 or 1 occurred\"\n",
      "Warning message:\n",
      "\"glm.fit: fitted probabilities numerically 0 or 1 occurred\"\n",
      "Warning message:\n",
      "\"glm.fit: fitted probabilities numerically 0 or 1 occurred\"\n",
      "Warning message:\n",
      "\"glm.fit: fitted probabilities numerically 0 or 1 occurred\"\n",
      "Warning message:\n",
      "\"glm.fit: fitted probabilities numerically 0 or 1 occurred\"\n",
      "Warning message:\n",
      "\"glm.fit: fitted probabilities numerically 0 or 1 occurred\"\n",
      "Warning message:\n",
      "\"glm.fit: fitted probabilities numerically 0 or 1 occurred\"\n",
      "Warning message:\n",
      "\"glm.fit: fitted probabilities numerically 0 or 1 occurred\"\n",
      "Warning message:\n",
      "\"glm.fit: fitted probabilities numerically 0 or 1 occurred\"\n",
      "Warning message:\n",
      "\"glm.fit: fitted probabilities numerically 0 or 1 occurred\"\n",
      "Warning message:\n",
      "\"glm.fit: fitted probabilities numerically 0 or 1 occurred\"\n",
      "Warning message:\n",
      "\"glm.fit: fitted probabilities numerically 0 or 1 occurred\"\n",
      "Warning message:\n",
      "\"glm.fit: fitted probabilities numerically 0 or 1 occurred\"\n",
      "Warning message:\n",
      "\"glm.fit: fitted probabilities numerically 0 or 1 occurred\"\n",
      "Warning message:\n",
      "\"glm.fit: fitted probabilities numerically 0 or 1 occurred\"\n",
      "Warning message:\n",
      "\"glm.fit: fitted probabilities numerically 0 or 1 occurred\"\n",
      "Warning message:\n",
      "\"glm.fit: fitted probabilities numerically 0 or 1 occurred\"\n",
      "Warning message:\n",
      "\"glm.fit: fitted probabilities numerically 0 or 1 occurred\"\n",
      "Warning message:\n",
      "\"glm.fit: fitted probabilities numerically 0 or 1 occurred\"\n",
      "Warning message:\n",
      "\"glm.fit: fitted probabilities numerically 0 or 1 occurred\"\n",
      "Warning message:\n",
      "\"glm.fit: fitted probabilities numerically 0 or 1 occurred\"\n",
      "Warning message:\n",
      "\"glm.fit: fitted probabilities numerically 0 or 1 occurred\"\n",
      "Warning message:\n",
      "\"glm.fit: fitted probabilities numerically 0 or 1 occurred\"\n",
      "Warning message:\n",
      "\"glm.fit: fitted probabilities numerically 0 or 1 occurred\"\n",
      "Warning message:\n",
      "\"glm.fit: fitted probabilities numerically 0 or 1 occurred\"\n",
      "Warning message:\n",
      "\"glm.fit: fitted probabilities numerically 0 or 1 occurred\"\n",
      "Warning message:\n",
      "\"glm.fit: fitted probabilities numerically 0 or 1 occurred\"\n",
      "Warning message:\n",
      "\"glm.fit: fitted probabilities numerically 0 or 1 occurred\"\n",
      "Warning message:\n",
      "\"glm.fit: fitted probabilities numerically 0 or 1 occurred\"\n",
      "Warning message:\n",
      "\"glm.fit: fitted probabilities numerically 0 or 1 occurred\"\n",
      "Warning message:\n",
      "\"glm.fit: fitted probabilities numerically 0 or 1 occurred\"\n",
      "Warning message:\n",
      "\"glm.fit: fitted probabilities numerically 0 or 1 occurred\"\n",
      "Warning message:\n",
      "\"glm.fit: fitted probabilities numerically 0 or 1 occurred\"\n",
      "Warning message:\n",
      "\"glm.fit: fitted probabilities numerically 0 or 1 occurred\"\n",
      "Warning message:\n",
      "\"glm.fit: fitted probabilities numerically 0 or 1 occurred\"\n",
      "Warning message:\n",
      "\"glm.fit: fitted probabilities numerically 0 or 1 occurred\"\n",
      "Warning message:\n",
      "\"glm.fit: fitted probabilities numerically 0 or 1 occurred\"\n",
      "Warning message:\n",
      "\"glm.fit: fitted probabilities numerically 0 or 1 occurred\"\n",
      "Warning message:\n",
      "\"glm.fit: fitted probabilities numerically 0 or 1 occurred\"\n",
      "Warning message:\n",
      "\"glm.fit: fitted probabilities numerically 0 or 1 occurred\"\n",
      "Warning message:\n",
      "\"glm.fit: fitted probabilities numerically 0 or 1 occurred\"\n",
      "Warning message:\n",
      "\"glm.fit: fitted probabilities numerically 0 or 1 occurred\"\n",
      "Warning message:\n",
      "\"glm.fit: fitted probabilities numerically 0 or 1 occurred\"\n",
      "Warning message:\n",
      "\"glm.fit: fitted probabilities numerically 0 or 1 occurred\"\n",
      "Warning message:\n",
      "\"glm.fit: fitted probabilities numerically 0 or 1 occurred\"\n",
      "Warning message:\n",
      "\"glm.fit: fitted probabilities numerically 0 or 1 occurred\"\n",
      "Warning message:\n",
      "\"glm.fit: fitted probabilities numerically 0 or 1 occurred\"\n",
      "Warning message:\n",
      "\"glm.fit: fitted probabilities numerically 0 or 1 occurred\"\n",
      "Warning message:\n",
      "\"glm.fit: fitted probabilities numerically 0 or 1 occurred\"\n",
      "Warning message:\n",
      "\"glm.fit: fitted probabilities numerically 0 or 1 occurred\"\n",
      "Warning message:\n",
      "\"glm.fit: fitted probabilities numerically 0 or 1 occurred\"\n",
      "Warning message:\n",
      "\"glm.fit: fitted probabilities numerically 0 or 1 occurred\"\n",
      "Warning message:\n",
      "\"glm.fit: fitted probabilities numerically 0 or 1 occurred\"\n",
      "Warning message:\n",
      "\"glm.fit: fitted probabilities numerically 0 or 1 occurred\"\n",
      "Warning message:\n",
      "\"glm.fit: fitted probabilities numerically 0 or 1 occurred\"\n",
      "Warning message:\n",
      "\"glm.fit: fitted probabilities numerically 0 or 1 occurred\"\n",
      "Warning message:\n",
      "\"glm.fit: fitted probabilities numerically 0 or 1 occurred\"\n",
      "Warning message:\n",
      "\"glm.fit: fitted probabilities numerically 0 or 1 occurred\"\n",
      "Warning message:\n",
      "\"glm.fit: fitted probabilities numerically 0 or 1 occurred\"\n",
      "Warning message:\n",
      "\"glm.fit: fitted probabilities numerically 0 or 1 occurred\"\n",
      "Warning message:\n",
      "\"glm.fit: fitted probabilities numerically 0 or 1 occurred\"\n",
      "Warning message:\n",
      "\"glm.fit: fitted probabilities numerically 0 or 1 occurred\"\n",
      "Warning message:\n",
      "\"glm.fit: fitted probabilities numerically 0 or 1 occurred\"\n",
      "Warning message:\n",
      "\"glm.fit: fitted probabilities numerically 0 or 1 occurred\"\n",
      "Warning message:\n",
      "\"glm.fit: fitted probabilities numerically 0 or 1 occurred\"\n",
      "Warning message:\n",
      "\"glm.fit: fitted probabilities numerically 0 or 1 occurred\"\n",
      "Warning message:\n",
      "\"glm.fit: fitted probabilities numerically 0 or 1 occurred\"\n",
      "Warning message:\n",
      "\"glm.fit: fitted probabilities numerically 0 or 1 occurred\"\n",
      "Warning message:\n",
      "\"glm.fit: fitted probabilities numerically 0 or 1 occurred\"\n",
      "Warning message:\n",
      "\"glm.fit: fitted probabilities numerically 0 or 1 occurred\"\n",
      "Warning message:\n",
      "\"glm.fit: fitted probabilities numerically 0 or 1 occurred\"\n",
      "Warning message:\n",
      "\"glm.fit: fitted probabilities numerically 0 or 1 occurred\"\n",
      "Warning message:\n",
      "\"glm.fit: fitted probabilities numerically 0 or 1 occurred\"\n",
      "Warning message:\n",
      "\"glm.fit: fitted probabilities numerically 0 or 1 occurred\"\n",
      "Warning message:\n",
      "\"glm.fit: fitted probabilities numerically 0 or 1 occurred\"\n",
      "Warning message:\n",
      "\"glm.fit: fitted probabilities numerically 0 or 1 occurred\"\n",
      "Warning message:\n",
      "\"glm.fit: fitted probabilities numerically 0 or 1 occurred\"\n",
      "Warning message:\n",
      "\"glm.fit: fitted probabilities numerically 0 or 1 occurred\"\n",
      "Warning message:\n",
      "\"glm.fit: fitted probabilities numerically 0 or 1 occurred\"\n",
      "Warning message:\n",
      "\"glm.fit: fitted probabilities numerically 0 or 1 occurred\"\n",
      "Warning message:\n",
      "\"glm.fit: fitted probabilities numerically 0 or 1 occurred\"\n",
      "Warning message:\n",
      "\"glm.fit: fitted probabilities numerically 0 or 1 occurred\"\n",
      "Warning message:\n",
      "\"glm.fit: fitted probabilities numerically 0 or 1 occurred\"\n",
      "Warning message:\n",
      "\"glm.fit: fitted probabilities numerically 0 or 1 occurred\"\n",
      "Warning message:\n",
      "\"glm.fit: fitted probabilities numerically 0 or 1 occurred\"\n",
      "Warning message:\n",
      "\"glm.fit: fitted probabilities numerically 0 or 1 occurred\"\n",
      "Warning message:\n",
      "\"glm.fit: fitted probabilities numerically 0 or 1 occurred\"\n",
      "Warning message:\n",
      "\"glm.fit: fitted probabilities numerically 0 or 1 occurred\"\n",
      "Warning message:\n",
      "\"glm.fit: fitted probabilities numerically 0 or 1 occurred\"\n",
      "Warning message:\n",
      "\"glm.fit: fitted probabilities numerically 0 or 1 occurred\"\n",
      "Warning message:\n",
      "\"glm.fit: fitted probabilities numerically 0 or 1 occurred\"\n",
      "Warning message:\n",
      "\"glm.fit: fitted probabilities numerically 0 or 1 occurred\"\n",
      "Warning message:\n",
      "\"glm.fit: fitted probabilities numerically 0 or 1 occurred\"\n",
      "Warning message:\n",
      "\"glm.fit: fitted probabilities numerically 0 or 1 occurred\"\n",
      "Warning message:\n",
      "\"glm.fit: fitted probabilities numerically 0 or 1 occurred\"\n",
      "Warning message:\n",
      "\"glm.fit: fitted probabilities numerically 0 or 1 occurred\"\n",
      "Warning message:\n",
      "\"glm.fit: fitted probabilities numerically 0 or 1 occurred\"\n",
      "Warning message:\n",
      "\"glm.fit: fitted probabilities numerically 0 or 1 occurred\"\n",
      "Warning message:\n",
      "\"glm.fit: fitted probabilities numerically 0 or 1 occurred\"\n",
      "Warning message:\n",
      "\"glm.fit: fitted probabilities numerically 0 or 1 occurred\"\n",
      "Warning message:\n",
      "\"glm.fit: fitted probabilities numerically 0 or 1 occurred\"\n",
      "Warning message:\n",
      "\"glm.fit: fitted probabilities numerically 0 or 1 occurred\"\n",
      "Warning message:\n",
      "\"glm.fit: fitted probabilities numerically 0 or 1 occurred\"\n",
      "Warning message:\n",
      "\"glm.fit: fitted probabilities numerically 0 or 1 occurred\"\n",
      "Warning message:\n",
      "\"glm.fit: fitted probabilities numerically 0 or 1 occurred\"\n",
      "Warning message:\n",
      "\"glm.fit: fitted probabilities numerically 0 or 1 occurred\"\n",
      "Warning message:\n",
      "\"glm.fit: fitted probabilities numerically 0 or 1 occurred\"\n",
      "Warning message:\n",
      "\"glm.fit: fitted probabilities numerically 0 or 1 occurred\"\n",
      "Warning message:\n",
      "\"glm.fit: fitted probabilities numerically 0 or 1 occurred\"\n",
      "Warning message:\n",
      "\"glm.fit: fitted probabilities numerically 0 or 1 occurred\"\n",
      "Warning message:\n",
      "\"glm.fit: fitted probabilities numerically 0 or 1 occurred\"\n",
      "Warning message:\n",
      "\"glm.fit: fitted probabilities numerically 0 or 1 occurred\"\n",
      "Warning message:\n",
      "\"glm.fit: fitted probabilities numerically 0 or 1 occurred\"\n",
      "Warning message:\n",
      "\"glm.fit: fitted probabilities numerically 0 or 1 occurred\"\n",
      "Warning message:\n",
      "\"glm.fit: fitted probabilities numerically 0 or 1 occurred\"\n",
      "Warning message:\n",
      "\"glm.fit: fitted probabilities numerically 0 or 1 occurred\"\n",
      "Warning message:\n",
      "\"glm.fit: fitted probabilities numerically 0 or 1 occurred\"\n",
      "Warning message:\n",
      "\"glm.fit: fitted probabilities numerically 0 or 1 occurred\"\n",
      "Warning message:\n",
      "\"glm.fit: fitted probabilities numerically 0 or 1 occurred\"\n",
      "Warning message:\n",
      "\"glm.fit: fitted probabilities numerically 0 or 1 occurred\"\n",
      "Warning message:\n",
      "\"glm.fit: fitted probabilities numerically 0 or 1 occurred\"\n",
      "Warning message:\n",
      "\"glm.fit: fitted probabilities numerically 0 or 1 occurred\"\n",
      "Warning message:\n",
      "\"glm.fit: fitted probabilities numerically 0 or 1 occurred\"\n",
      "Warning message:\n",
      "\"glm.fit: fitted probabilities numerically 0 or 1 occurred\"\n",
      "Warning message:\n",
      "\"glm.fit: fitted probabilities numerically 0 or 1 occurred\"\n",
      "Warning message:\n",
      "\"glm.fit: fitted probabilities numerically 0 or 1 occurred\"\n",
      "Warning message:\n",
      "\"glm.fit: fitted probabilities numerically 0 or 1 occurred\"\n",
      "Warning message:\n",
      "\"glm.fit: fitted probabilities numerically 0 or 1 occurred\"\n",
      "Warning message:\n",
      "\"glm.fit: fitted probabilities numerically 0 or 1 occurred\"\n",
      "Warning message:\n",
      "\"glm.fit: fitted probabilities numerically 0 or 1 occurred\"\n",
      "Warning message:\n",
      "\"glm.fit: fitted probabilities numerically 0 or 1 occurred\"\n",
      "Warning message:\n",
      "\"glm.fit: fitted probabilities numerically 0 or 1 occurred\"\n",
      "Warning message:\n",
      "\"glm.fit: fitted probabilities numerically 0 or 1 occurred\"\n",
      "Warning message:\n",
      "\"glm.fit: fitted probabilities numerically 0 or 1 occurred\"\n",
      "Warning message:\n",
      "\"glm.fit: fitted probabilities numerically 0 or 1 occurred\"\n",
      "Warning message:\n",
      "\"glm.fit: fitted probabilities numerically 0 or 1 occurred\"\n",
      "Warning message:\n",
      "\"glm.fit: fitted probabilities numerically 0 or 1 occurred\"\n",
      "Warning message:\n",
      "\"glm.fit: fitted probabilities numerically 0 or 1 occurred\"\n",
      "Warning message:\n",
      "\"glm.fit: fitted probabilities numerically 0 or 1 occurred\"\n",
      "Warning message:\n",
      "\"glm.fit: fitted probabilities numerically 0 or 1 occurred\"\n",
      "Warning message:\n",
      "\"glm.fit: fitted probabilities numerically 0 or 1 occurred\"\n",
      "Warning message:\n",
      "\"glm.fit: fitted probabilities numerically 0 or 1 occurred\"\n",
      "Warning message:\n",
      "\"glm.fit: fitted probabilities numerically 0 or 1 occurred\"\n",
      "Warning message:\n",
      "\"glm.fit: fitted probabilities numerically 0 or 1 occurred\"\n",
      "Warning message:\n",
      "\"glm.fit: fitted probabilities numerically 0 or 1 occurred\"\n",
      "Warning message:\n",
      "\"glm.fit: fitted probabilities numerically 0 or 1 occurred\"\n",
      "Warning message:\n",
      "\"glm.fit: fitted probabilities numerically 0 or 1 occurred\"\n",
      "Warning message:\n",
      "\"glm.fit: fitted probabilities numerically 0 or 1 occurred\"\n",
      "Warning message:\n",
      "\"glm.fit: fitted probabilities numerically 0 or 1 occurred\"\n",
      "Warning message:\n",
      "\"glm.fit: fitted probabilities numerically 0 or 1 occurred\"\n",
      "Warning message:\n",
      "\"glm.fit: fitted probabilities numerically 0 or 1 occurred\"\n",
      "Warning message:\n",
      "\"glm.fit: fitted probabilities numerically 0 or 1 occurred\"\n",
      "Warning message:\n",
      "\"glm.fit: fitted probabilities numerically 0 or 1 occurred\"\n",
      "Warning message:\n",
      "\"glm.fit: fitted probabilities numerically 0 or 1 occurred\"\n",
      "Warning message:\n",
      "\"glm.fit: fitted probabilities numerically 0 or 1 occurred\"\n",
      "Warning message:\n",
      "\"glm.fit: fitted probabilities numerically 0 or 1 occurred\"\n",
      "Warning message:\n",
      "\"glm.fit: fitted probabilities numerically 0 or 1 occurred\"\n",
      "Warning message:\n",
      "\"glm.fit: fitted probabilities numerically 0 or 1 occurred\"\n",
      "Warning message:\n",
      "\"glm.fit: fitted probabilities numerically 0 or 1 occurred\"\n",
      "Warning message:\n",
      "\"glm.fit: fitted probabilities numerically 0 or 1 occurred\"\n",
      "Warning message:\n",
      "\"glm.fit: fitted probabilities numerically 0 or 1 occurred\"\n",
      "Warning message:\n",
      "\"glm.fit: fitted probabilities numerically 0 or 1 occurred\"\n",
      "Warning message:\n",
      "\"glm.fit: fitted probabilities numerically 0 or 1 occurred\"\n",
      "Warning message:\n",
      "\"glm.fit: fitted probabilities numerically 0 or 1 occurred\"\n",
      "Warning message:\n",
      "\"glm.fit: fitted probabilities numerically 0 or 1 occurred\"\n",
      "Warning message:\n",
      "\"glm.fit: fitted probabilities numerically 0 or 1 occurred\"\n",
      "Warning message:\n",
      "\"glm.fit: fitted probabilities numerically 0 or 1 occurred\"\n",
      "Warning message:\n",
      "\"glm.fit: fitted probabilities numerically 0 or 1 occurred\"\n",
      "Warning message:\n",
      "\"glm.fit: fitted probabilities numerically 0 or 1 occurred\"\n",
      "Warning message:\n",
      "\"glm.fit: fitted probabilities numerically 0 or 1 occurred\"\n",
      "Warning message:\n",
      "\"glm.fit: fitted probabilities numerically 0 or 1 occurred\"\n",
      "Warning message:\n",
      "\"glm.fit: fitted probabilities numerically 0 or 1 occurred\"\n",
      "Warning message:\n",
      "\"glm.fit: fitted probabilities numerically 0 or 1 occurred\"\n",
      "Warning message:\n",
      "\"glm.fit: fitted probabilities numerically 0 or 1 occurred\"\n",
      "Warning message:\n",
      "\"glm.fit: fitted probabilities numerically 0 or 1 occurred\"\n",
      "Warning message:\n",
      "\"glm.fit: fitted probabilities numerically 0 or 1 occurred\"\n",
      "Warning message:\n",
      "\"glm.fit: fitted probabilities numerically 0 or 1 occurred\"\n",
      "Warning message:\n",
      "\"glm.fit: fitted probabilities numerically 0 or 1 occurred\"\n",
      "Warning message:\n",
      "\"glm.fit: fitted probabilities numerically 0 or 1 occurred\"\n",
      "Warning message:\n",
      "\"glm.fit: fitted probabilities numerically 0 or 1 occurred\"\n",
      "Warning message:\n",
      "\"glm.fit: fitted probabilities numerically 0 or 1 occurred\"\n",
      "Warning message:\n",
      "\"glm.fit: fitted probabilities numerically 0 or 1 occurred\"\n",
      "Warning message:\n",
      "\"glm.fit: fitted probabilities numerically 0 or 1 occurred\"\n",
      "Warning message:\n",
      "\"glm.fit: fitted probabilities numerically 0 or 1 occurred\"\n",
      "Warning message:\n",
      "\"glm.fit: fitted probabilities numerically 0 or 1 occurred\"\n",
      "Warning message:\n",
      "\"glm.fit: fitted probabilities numerically 0 or 1 occurred\"\n",
      "Warning message:\n",
      "\"glm.fit: fitted probabilities numerically 0 or 1 occurred\"\n",
      "Warning message:\n",
      "\"glm.fit: fitted probabilities numerically 0 or 1 occurred\"\n",
      "Warning message:\n",
      "\"glm.fit: fitted probabilities numerically 0 or 1 occurred\"\n",
      "Warning message:\n",
      "\"glm.fit: fitted probabilities numerically 0 or 1 occurred\"\n",
      "Warning message:\n",
      "\"glm.fit: fitted probabilities numerically 0 or 1 occurred\"\n",
      "Warning message:\n",
      "\"glm.fit: fitted probabilities numerically 0 or 1 occurred\"\n",
      "Warning message:\n",
      "\"glm.fit: fitted probabilities numerically 0 or 1 occurred\"\n",
      "Warning message:\n",
      "\"glm.fit: fitted probabilities numerically 0 or 1 occurred\"\n",
      "Warning message:\n",
      "\"glm.fit: fitted probabilities numerically 0 or 1 occurred\"\n",
      "Warning message:\n",
      "\"glm.fit: fitted probabilities numerically 0 or 1 occurred\"\n",
      "Warning message:\n",
      "\"glm.fit: fitted probabilities numerically 0 or 1 occurred\"\n",
      "Warning message:\n",
      "\"glm.fit: fitted probabilities numerically 0 or 1 occurred\"\n",
      "Warning message:\n",
      "\"glm.fit: fitted probabilities numerically 0 or 1 occurred\"\n",
      "Warning message:\n",
      "\"glm.fit: fitted probabilities numerically 0 or 1 occurred\"\n",
      "Warning message:\n",
      "\"glm.fit: fitted probabilities numerically 0 or 1 occurred\"\n",
      "Warning message:\n",
      "\"glm.fit: fitted probabilities numerically 0 or 1 occurred\"\n",
      "Warning message:\n",
      "\"glm.fit: fitted probabilities numerically 0 or 1 occurred\"\n",
      "Warning message:\n",
      "\"glm.fit: fitted probabilities numerically 0 or 1 occurred\"\n",
      "Warning message:\n",
      "\"glm.fit: fitted probabilities numerically 0 or 1 occurred\"\n",
      "Warning message:\n",
      "\"glm.fit: fitted probabilities numerically 0 or 1 occurred\"\n",
      "Warning message:\n",
      "\"glm.fit: fitted probabilities numerically 0 or 1 occurred\"\n",
      "Warning message:\n",
      "\"glm.fit: fitted probabilities numerically 0 or 1 occurred\"\n",
      "Warning message:\n",
      "\"glm.fit: fitted probabilities numerically 0 or 1 occurred\"\n",
      "Warning message:\n",
      "\"glm.fit: fitted probabilities numerically 0 or 1 occurred\"\n",
      "Warning message:\n",
      "\"glm.fit: fitted probabilities numerically 0 or 1 occurred\"\n",
      "Warning message:\n",
      "\"glm.fit: fitted probabilities numerically 0 or 1 occurred\"\n",
      "Warning message:\n",
      "\"glm.fit: fitted probabilities numerically 0 or 1 occurred\"\n",
      "Warning message:\n",
      "\"glm.fit: fitted probabilities numerically 0 or 1 occurred\"\n",
      "Warning message:\n",
      "\"glm.fit: fitted probabilities numerically 0 or 1 occurred\"\n",
      "Warning message:\n",
      "\"glm.fit: fitted probabilities numerically 0 or 1 occurred\"\n",
      "Warning message:\n",
      "\"glm.fit: fitted probabilities numerically 0 or 1 occurred\"\n",
      "Warning message:\n",
      "\"glm.fit: fitted probabilities numerically 0 or 1 occurred\"\n",
      "Warning message:\n",
      "\"glm.fit: fitted probabilities numerically 0 or 1 occurred\"\n",
      "Warning message:\n",
      "\"glm.fit: fitted probabilities numerically 0 or 1 occurred\"\n",
      "Warning message:\n",
      "\"glm.fit: fitted probabilities numerically 0 or 1 occurred\"\n",
      "Warning message:\n",
      "\"glm.fit: fitted probabilities numerically 0 or 1 occurred\"\n",
      "Warning message:\n",
      "\"glm.fit: fitted probabilities numerically 0 or 1 occurred\"\n",
      "Warning message:\n",
      "\"glm.fit: fitted probabilities numerically 0 or 1 occurred\"\n",
      "Warning message:\n",
      "\"glm.fit: fitted probabilities numerically 0 or 1 occurred\"\n",
      "Warning message:\n",
      "\"glm.fit: fitted probabilities numerically 0 or 1 occurred\"\n",
      "Warning message:\n",
      "\"glm.fit: fitted probabilities numerically 0 or 1 occurred\"\n",
      "Warning message:\n",
      "\"glm.fit: fitted probabilities numerically 0 or 1 occurred\"\n",
      "Warning message:\n",
      "\"glm.fit: fitted probabilities numerically 0 or 1 occurred\"\n",
      "Warning message:\n",
      "\"glm.fit: fitted probabilities numerically 0 or 1 occurred\"\n",
      "Warning message:\n",
      "\"glm.fit: fitted probabilities numerically 0 or 1 occurred\"\n",
      "Warning message:\n",
      "\"glm.fit: fitted probabilities numerically 0 or 1 occurred\"\n",
      "Warning message:\n",
      "\"glm.fit: fitted probabilities numerically 0 or 1 occurred\"\n",
      "Warning message:\n",
      "\"glm.fit: fitted probabilities numerically 0 or 1 occurred\"\n",
      "Warning message:\n",
      "\"glm.fit: fitted probabilities numerically 0 or 1 occurred\"\n",
      "Warning message:\n",
      "\"glm.fit: fitted probabilities numerically 0 or 1 occurred\"\n",
      "Warning message:\n",
      "\"glm.fit: fitted probabilities numerically 0 or 1 occurred\"\n",
      "Warning message:\n",
      "\"glm.fit: fitted probabilities numerically 0 or 1 occurred\"\n",
      "Warning message:\n",
      "\"glm.fit: fitted probabilities numerically 0 or 1 occurred\"\n",
      "Warning message:\n",
      "\"glm.fit: fitted probabilities numerically 0 or 1 occurred\"\n",
      "Warning message:\n",
      "\"glm.fit: fitted probabilities numerically 0 or 1 occurred\"\n",
      "Warning message:\n",
      "\"glm.fit: fitted probabilities numerically 0 or 1 occurred\"\n",
      "Warning message:\n",
      "\"glm.fit: fitted probabilities numerically 0 or 1 occurred\"\n",
      "Warning message:\n",
      "\"glm.fit: fitted probabilities numerically 0 or 1 occurred\"\n",
      "Warning message:\n",
      "\"glm.fit: fitted probabilities numerically 0 or 1 occurred\"\n",
      "Warning message:\n",
      "\"glm.fit: fitted probabilities numerically 0 or 1 occurred\"\n",
      "Warning message:\n",
      "\"glm.fit: fitted probabilities numerically 0 or 1 occurred\"\n",
      "Warning message:\n",
      "\"glm.fit: fitted probabilities numerically 0 or 1 occurred\"\n",
      "Warning message:\n",
      "\"glm.fit: fitted probabilities numerically 0 or 1 occurred\"\n",
      "Warning message:\n",
      "\"glm.fit: fitted probabilities numerically 0 or 1 occurred\"\n",
      "Warning message:\n",
      "\"glm.fit: fitted probabilities numerically 0 or 1 occurred\"\n",
      "Warning message:\n",
      "\"glm.fit: fitted probabilities numerically 0 or 1 occurred\"\n",
      "Warning message:\n",
      "\"glm.fit: fitted probabilities numerically 0 or 1 occurred\"\n",
      "Warning message:\n",
      "\"glm.fit: fitted probabilities numerically 0 or 1 occurred\"\n",
      "Warning message:\n",
      "\"glm.fit: fitted probabilities numerically 0 or 1 occurred\"\n",
      "Warning message:\n",
      "\"glm.fit: fitted probabilities numerically 0 or 1 occurred\"\n",
      "Warning message:\n",
      "\"glm.fit: fitted probabilities numerically 0 or 1 occurred\"\n",
      "Warning message:\n",
      "\"glm.fit: fitted probabilities numerically 0 or 1 occurred\"\n",
      "Warning message:\n",
      "\"glm.fit: fitted probabilities numerically 0 or 1 occurred\"\n",
      "Warning message:\n",
      "\"glm.fit: fitted probabilities numerically 0 or 1 occurred\"\n",
      "Warning message:\n",
      "\"glm.fit: fitted probabilities numerically 0 or 1 occurred\"\n",
      "Warning message:\n",
      "\"glm.fit: fitted probabilities numerically 0 or 1 occurred\"\n",
      "Warning message:\n",
      "\"glm.fit: fitted probabilities numerically 0 or 1 occurred\"\n",
      "Warning message:\n",
      "\"glm.fit: fitted probabilities numerically 0 or 1 occurred\"\n",
      "Warning message:\n",
      "\"glm.fit: fitted probabilities numerically 0 or 1 occurred\"\n",
      "Warning message:\n",
      "\"glm.fit: fitted probabilities numerically 0 or 1 occurred\"\n",
      "Warning message:\n",
      "\"glm.fit: fitted probabilities numerically 0 or 1 occurred\"\n",
      "Warning message:\n",
      "\"glm.fit: fitted probabilities numerically 0 or 1 occurred\"\n",
      "Warning message:\n",
      "\"glm.fit: fitted probabilities numerically 0 or 1 occurred\"\n",
      "Warning message:\n",
      "\"glm.fit: fitted probabilities numerically 0 or 1 occurred\"\n",
      "Warning message:\n",
      "\"glm.fit: fitted probabilities numerically 0 or 1 occurred\"\n",
      "Warning message:\n",
      "\"glm.fit: fitted probabilities numerically 0 or 1 occurred\"\n",
      "Warning message:\n",
      "\"glm.fit: fitted probabilities numerically 0 or 1 occurred\"\n",
      "Warning message:\n",
      "\"glm.fit: fitted probabilities numerically 0 or 1 occurred\"\n",
      "Warning message:\n",
      "\"glm.fit: fitted probabilities numerically 0 or 1 occurred\"\n",
      "Warning message:\n",
      "\"glm.fit: fitted probabilities numerically 0 or 1 occurred\"\n",
      "Warning message:\n",
      "\"glm.fit: fitted probabilities numerically 0 or 1 occurred\"\n"
     ]
    },
    {
     "data": {
      "text/html": [
       "<table class=\"dataframe\">\n",
       "<caption>A matrix: 25 × 2 of type dbl</caption>\n",
       "<thead>\n",
       "\t<tr><th></th><th scope=col>2.5 %</th><th scope=col>97.5 %</th></tr>\n",
       "</thead>\n",
       "<tbody>\n",
       "\t<tr><th scope=row>(Intercept)</th><td>-3.976157e+00</td><td>-2.178564e+00</td></tr>\n",
       "\t<tr><th scope=row>Time</th><td>-1.608855e-05</td><td> 1.846295e-06</td></tr>\n",
       "\t<tr><th scope=row>V1</th><td> 1.167854e-01</td><td> 1.229117e+00</td></tr>\n",
       "\t<tr><th scope=row>V4</th><td> 9.374358e-01</td><td> 1.773249e+00</td></tr>\n",
       "\t<tr><th scope=row>V5</th><td> 2.434732e-02</td><td> 9.704383e-01</td></tr>\n",
       "\t<tr><th scope=row>V6</th><td>-9.359619e-01</td><td> 9.771881e-02</td></tr>\n",
       "\t<tr><th scope=row>V7</th><td>-9.412727e-01</td><td> 7.282827e-02</td></tr>\n",
       "\t<tr><th scope=row>V8</th><td>-1.015297e+00</td><td>-1.841627e-01</td></tr>\n",
       "\t<tr><th scope=row>V9</th><td>-9.647462e-01</td><td> 5.628149e-02</td></tr>\n",
       "\t<tr><th scope=row>V10</th><td>-1.546689e+00</td><td>-2.327735e-01</td></tr>\n",
       "\t<tr><th scope=row>V11</th><td>-5.426966e-02</td><td> 6.806339e-01</td></tr>\n",
       "\t<tr><th scope=row>V12</th><td>-1.379155e+00</td><td>-5.024542e-01</td></tr>\n",
       "\t<tr><th scope=row>V13</th><td>-7.208056e-01</td><td>-6.761933e-02</td></tr>\n",
       "\t<tr><th scope=row>V14</th><td>-1.417423e+00</td><td>-6.018384e-01</td></tr>\n",
       "\t<tr><th scope=row>V15</th><td>-4.043885e-01</td><td> 2.971840e-01</td></tr>\n",
       "\t<tr><th scope=row>V16</th><td>-8.141351e-01</td><td>-3.784193e-02</td></tr>\n",
       "\t<tr><th scope=row>V19</th><td>-2.819863e-01</td><td> 3.804201e-01</td></tr>\n",
       "\t<tr><th scope=row>V20</th><td>-1.140789e+00</td><td> 9.068726e-03</td></tr>\n",
       "\t<tr><th scope=row>V21</th><td>-2.944315e-01</td><td> 3.923986e-01</td></tr>\n",
       "\t<tr><th scope=row>V22</th><td>-2.544157e-02</td><td> 8.134009e-01</td></tr>\n",
       "\t<tr><th scope=row>V23</th><td>-1.433815e-01</td><td> 4.241995e-01</td></tr>\n",
       "\t<tr><th scope=row>V24</th><td>-4.075968e-01</td><td> 4.577516e-01</td></tr>\n",
       "\t<tr><th scope=row>V27</th><td>-3.340734e-01</td><td> 6.338291e-01</td></tr>\n",
       "\t<tr><th scope=row>V28</th><td>-4.086824e-01</td><td> 3.735718e-01</td></tr>\n",
       "\t<tr><th scope=row>Amount</th><td> 6.914509e-04</td><td> 6.134473e-03</td></tr>\n",
       "</tbody>\n",
       "</table>\n"
      ],
      "text/latex": [
       "A matrix: 25 × 2 of type dbl\n",
       "\\begin{tabular}{r|ll}\n",
       "  & 2.5 \\% & 97.5 \\%\\\\\n",
       "\\hline\n",
       "\t(Intercept) & -3.976157e+00 & -2.178564e+00\\\\\n",
       "\tTime & -1.608855e-05 &  1.846295e-06\\\\\n",
       "\tV1 &  1.167854e-01 &  1.229117e+00\\\\\n",
       "\tV4 &  9.374358e-01 &  1.773249e+00\\\\\n",
       "\tV5 &  2.434732e-02 &  9.704383e-01\\\\\n",
       "\tV6 & -9.359619e-01 &  9.771881e-02\\\\\n",
       "\tV7 & -9.412727e-01 &  7.282827e-02\\\\\n",
       "\tV8 & -1.015297e+00 & -1.841627e-01\\\\\n",
       "\tV9 & -9.647462e-01 &  5.628149e-02\\\\\n",
       "\tV10 & -1.546689e+00 & -2.327735e-01\\\\\n",
       "\tV11 & -5.426966e-02 &  6.806339e-01\\\\\n",
       "\tV12 & -1.379155e+00 & -5.024542e-01\\\\\n",
       "\tV13 & -7.208056e-01 & -6.761933e-02\\\\\n",
       "\tV14 & -1.417423e+00 & -6.018384e-01\\\\\n",
       "\tV15 & -4.043885e-01 &  2.971840e-01\\\\\n",
       "\tV16 & -8.141351e-01 & -3.784193e-02\\\\\n",
       "\tV19 & -2.819863e-01 &  3.804201e-01\\\\\n",
       "\tV20 & -1.140789e+00 &  9.068726e-03\\\\\n",
       "\tV21 & -2.944315e-01 &  3.923986e-01\\\\\n",
       "\tV22 & -2.544157e-02 &  8.134009e-01\\\\\n",
       "\tV23 & -1.433815e-01 &  4.241995e-01\\\\\n",
       "\tV24 & -4.075968e-01 &  4.577516e-01\\\\\n",
       "\tV27 & -3.340734e-01 &  6.338291e-01\\\\\n",
       "\tV28 & -4.086824e-01 &  3.735718e-01\\\\\n",
       "\tAmount &  6.914509e-04 &  6.134473e-03\\\\\n",
       "\\end{tabular}\n"
      ],
      "text/markdown": [
       "\n",
       "A matrix: 25 × 2 of type dbl\n",
       "\n",
       "| <!--/--> | 2.5 % | 97.5 % |\n",
       "|---|---|---|\n",
       "| (Intercept) | -3.976157e+00 | -2.178564e+00 |\n",
       "| Time | -1.608855e-05 |  1.846295e-06 |\n",
       "| V1 |  1.167854e-01 |  1.229117e+00 |\n",
       "| V4 |  9.374358e-01 |  1.773249e+00 |\n",
       "| V5 |  2.434732e-02 |  9.704383e-01 |\n",
       "| V6 | -9.359619e-01 |  9.771881e-02 |\n",
       "| V7 | -9.412727e-01 |  7.282827e-02 |\n",
       "| V8 | -1.015297e+00 | -1.841627e-01 |\n",
       "| V9 | -9.647462e-01 |  5.628149e-02 |\n",
       "| V10 | -1.546689e+00 | -2.327735e-01 |\n",
       "| V11 | -5.426966e-02 |  6.806339e-01 |\n",
       "| V12 | -1.379155e+00 | -5.024542e-01 |\n",
       "| V13 | -7.208056e-01 | -6.761933e-02 |\n",
       "| V14 | -1.417423e+00 | -6.018384e-01 |\n",
       "| V15 | -4.043885e-01 |  2.971840e-01 |\n",
       "| V16 | -8.141351e-01 | -3.784193e-02 |\n",
       "| V19 | -2.819863e-01 |  3.804201e-01 |\n",
       "| V20 | -1.140789e+00 |  9.068726e-03 |\n",
       "| V21 | -2.944315e-01 |  3.923986e-01 |\n",
       "| V22 | -2.544157e-02 |  8.134009e-01 |\n",
       "| V23 | -1.433815e-01 |  4.241995e-01 |\n",
       "| V24 | -4.075968e-01 |  4.577516e-01 |\n",
       "| V27 | -3.340734e-01 |  6.338291e-01 |\n",
       "| V28 | -4.086824e-01 |  3.735718e-01 |\n",
       "| Amount |  6.914509e-04 |  6.134473e-03 |\n",
       "\n"
      ],
      "text/plain": [
       "            2.5 %         97.5 %       \n",
       "(Intercept) -3.976157e+00 -2.178564e+00\n",
       "Time        -1.608855e-05  1.846295e-06\n",
       "V1           1.167854e-01  1.229117e+00\n",
       "V4           9.374358e-01  1.773249e+00\n",
       "V5           2.434732e-02  9.704383e-01\n",
       "V6          -9.359619e-01  9.771881e-02\n",
       "V7          -9.412727e-01  7.282827e-02\n",
       "V8          -1.015297e+00 -1.841627e-01\n",
       "V9          -9.647462e-01  5.628149e-02\n",
       "V10         -1.546689e+00 -2.327735e-01\n",
       "V11         -5.426966e-02  6.806339e-01\n",
       "V12         -1.379155e+00 -5.024542e-01\n",
       "V13         -7.208056e-01 -6.761933e-02\n",
       "V14         -1.417423e+00 -6.018384e-01\n",
       "V15         -4.043885e-01  2.971840e-01\n",
       "V16         -8.141351e-01 -3.784193e-02\n",
       "V19         -2.819863e-01  3.804201e-01\n",
       "V20         -1.140789e+00  9.068726e-03\n",
       "V21         -2.944315e-01  3.923986e-01\n",
       "V22         -2.544157e-02  8.134009e-01\n",
       "V23         -1.433815e-01  4.241995e-01\n",
       "V24         -4.075968e-01  4.577516e-01\n",
       "V27         -3.340734e-01  6.338291e-01\n",
       "V28         -4.086824e-01  3.735718e-01\n",
       "Amount       6.914509e-04  6.134473e-03"
      ]
     },
     "metadata": {},
     "output_type": "display_data"
    }
   ],
   "source": [
    "confint(fit10_1)"
   ]
  },
  {
   "cell_type": "code",
   "execution_count": 98,
   "metadata": {
    "vscode": {
     "languageId": "r"
    }
   },
   "outputs": [
    {
     "name": "stderr",
     "output_type": "stream",
     "text": [
      "Waiting for profiling to be done...\n",
      "\n",
      "Warning message:\n",
      "\"glm.fit: fitted probabilities numerically 0 or 1 occurred\"\n",
      "Warning message:\n",
      "\"glm.fit: fitted probabilities numerically 0 or 1 occurred\"\n",
      "Warning message:\n",
      "\"glm.fit: fitted probabilities numerically 0 or 1 occurred\"\n",
      "Warning message:\n",
      "\"glm.fit: fitted probabilities numerically 0 or 1 occurred\"\n",
      "Warning message:\n",
      "\"glm.fit: fitted probabilities numerically 0 or 1 occurred\"\n",
      "Warning message:\n",
      "\"glm.fit: fitted probabilities numerically 0 or 1 occurred\"\n",
      "Warning message:\n",
      "\"glm.fit: fitted probabilities numerically 0 or 1 occurred\"\n",
      "Warning message:\n",
      "\"glm.fit: fitted probabilities numerically 0 or 1 occurred\"\n",
      "Warning message:\n",
      "\"glm.fit: fitted probabilities numerically 0 or 1 occurred\"\n",
      "Warning message:\n",
      "\"glm.fit: fitted probabilities numerically 0 or 1 occurred\"\n",
      "Warning message:\n",
      "\"glm.fit: fitted probabilities numerically 0 or 1 occurred\"\n",
      "Warning message:\n",
      "\"glm.fit: fitted probabilities numerically 0 or 1 occurred\"\n",
      "Warning message:\n",
      "\"glm.fit: fitted probabilities numerically 0 or 1 occurred\"\n",
      "Warning message:\n",
      "\"glm.fit: fitted probabilities numerically 0 or 1 occurred\"\n",
      "Warning message:\n",
      "\"glm.fit: fitted probabilities numerically 0 or 1 occurred\"\n",
      "Warning message:\n",
      "\"glm.fit: fitted probabilities numerically 0 or 1 occurred\"\n",
      "Warning message:\n",
      "\"glm.fit: fitted probabilities numerically 0 or 1 occurred\"\n",
      "Warning message:\n",
      "\"glm.fit: fitted probabilities numerically 0 or 1 occurred\"\n",
      "Warning message:\n",
      "\"glm.fit: fitted probabilities numerically 0 or 1 occurred\"\n",
      "Warning message:\n",
      "\"glm.fit: fitted probabilities numerically 0 or 1 occurred\"\n",
      "Warning message:\n",
      "\"glm.fit: fitted probabilities numerically 0 or 1 occurred\"\n",
      "Warning message:\n",
      "\"glm.fit: fitted probabilities numerically 0 or 1 occurred\"\n",
      "Warning message:\n",
      "\"glm.fit: fitted probabilities numerically 0 or 1 occurred\"\n",
      "Warning message:\n",
      "\"glm.fit: fitted probabilities numerically 0 or 1 occurred\"\n",
      "Warning message:\n",
      "\"glm.fit: fitted probabilities numerically 0 or 1 occurred\"\n",
      "Warning message:\n",
      "\"glm.fit: fitted probabilities numerically 0 or 1 occurred\"\n",
      "Warning message:\n",
      "\"glm.fit: fitted probabilities numerically 0 or 1 occurred\"\n",
      "Warning message:\n",
      "\"glm.fit: fitted probabilities numerically 0 or 1 occurred\"\n",
      "Warning message:\n",
      "\"glm.fit: fitted probabilities numerically 0 or 1 occurred\"\n",
      "Warning message:\n",
      "\"glm.fit: fitted probabilities numerically 0 or 1 occurred\"\n",
      "Warning message:\n",
      "\"glm.fit: fitted probabilities numerically 0 or 1 occurred\"\n",
      "Warning message:\n",
      "\"glm.fit: fitted probabilities numerically 0 or 1 occurred\"\n",
      "Warning message:\n",
      "\"glm.fit: fitted probabilities numerically 0 or 1 occurred\"\n",
      "Warning message:\n",
      "\"glm.fit: fitted probabilities numerically 0 or 1 occurred\"\n",
      "Warning message:\n",
      "\"glm.fit: fitted probabilities numerically 0 or 1 occurred\"\n",
      "Warning message:\n",
      "\"glm.fit: fitted probabilities numerically 0 or 1 occurred\"\n",
      "Warning message:\n",
      "\"glm.fit: fitted probabilities numerically 0 or 1 occurred\"\n",
      "Warning message:\n",
      "\"glm.fit: fitted probabilities numerically 0 or 1 occurred\"\n",
      "Warning message:\n",
      "\"glm.fit: fitted probabilities numerically 0 or 1 occurred\"\n",
      "Warning message:\n",
      "\"glm.fit: fitted probabilities numerically 0 or 1 occurred\"\n",
      "Warning message:\n",
      "\"glm.fit: fitted probabilities numerically 0 or 1 occurred\"\n",
      "Warning message:\n",
      "\"glm.fit: fitted probabilities numerically 0 or 1 occurred\"\n",
      "Warning message:\n",
      "\"glm.fit: fitted probabilities numerically 0 or 1 occurred\"\n",
      "Warning message:\n",
      "\"glm.fit: fitted probabilities numerically 0 or 1 occurred\"\n",
      "Warning message:\n",
      "\"glm.fit: fitted probabilities numerically 0 or 1 occurred\"\n",
      "Warning message:\n",
      "\"glm.fit: fitted probabilities numerically 0 or 1 occurred\"\n",
      "Warning message:\n",
      "\"glm.fit: fitted probabilities numerically 0 or 1 occurred\"\n",
      "Warning message:\n",
      "\"glm.fit: fitted probabilities numerically 0 or 1 occurred\"\n",
      "Warning message:\n",
      "\"glm.fit: fitted probabilities numerically 0 or 1 occurred\"\n",
      "Warning message:\n",
      "\"glm.fit: fitted probabilities numerically 0 or 1 occurred\"\n",
      "Warning message:\n",
      "\"glm.fit: fitted probabilities numerically 0 or 1 occurred\"\n",
      "Warning message:\n",
      "\"glm.fit: fitted probabilities numerically 0 or 1 occurred\"\n",
      "Warning message:\n",
      "\"glm.fit: fitted probabilities numerically 0 or 1 occurred\"\n",
      "Warning message:\n",
      "\"glm.fit: fitted probabilities numerically 0 or 1 occurred\"\n",
      "Warning message:\n",
      "\"glm.fit: fitted probabilities numerically 0 or 1 occurred\"\n",
      "Warning message:\n",
      "\"glm.fit: fitted probabilities numerically 0 or 1 occurred\"\n",
      "Warning message:\n",
      "\"glm.fit: fitted probabilities numerically 0 or 1 occurred\"\n",
      "Warning message:\n",
      "\"glm.fit: fitted probabilities numerically 0 or 1 occurred\"\n",
      "Warning message:\n",
      "\"glm.fit: fitted probabilities numerically 0 or 1 occurred\"\n",
      "Warning message:\n",
      "\"glm.fit: fitted probabilities numerically 0 or 1 occurred\"\n",
      "Warning message:\n",
      "\"glm.fit: fitted probabilities numerically 0 or 1 occurred\"\n",
      "Warning message:\n",
      "\"glm.fit: fitted probabilities numerically 0 or 1 occurred\"\n",
      "Warning message:\n",
      "\"glm.fit: fitted probabilities numerically 0 or 1 occurred\"\n",
      "Warning message:\n",
      "\"glm.fit: fitted probabilities numerically 0 or 1 occurred\"\n",
      "Warning message:\n",
      "\"glm.fit: fitted probabilities numerically 0 or 1 occurred\"\n",
      "Warning message:\n",
      "\"glm.fit: fitted probabilities numerically 0 or 1 occurred\"\n",
      "Warning message:\n",
      "\"glm.fit: fitted probabilities numerically 0 or 1 occurred\"\n",
      "Warning message:\n",
      "\"glm.fit: fitted probabilities numerically 0 or 1 occurred\"\n",
      "Warning message:\n",
      "\"glm.fit: fitted probabilities numerically 0 or 1 occurred\"\n",
      "Warning message:\n",
      "\"glm.fit: fitted probabilities numerically 0 or 1 occurred\"\n",
      "Warning message:\n",
      "\"glm.fit: fitted probabilities numerically 0 or 1 occurred\"\n",
      "Warning message:\n",
      "\"glm.fit: fitted probabilities numerically 0 or 1 occurred\"\n",
      "Warning message:\n",
      "\"glm.fit: fitted probabilities numerically 0 or 1 occurred\"\n",
      "Warning message:\n",
      "\"glm.fit: fitted probabilities numerically 0 or 1 occurred\"\n",
      "Warning message:\n",
      "\"glm.fit: fitted probabilities numerically 0 or 1 occurred\"\n",
      "Warning message:\n",
      "\"glm.fit: fitted probabilities numerically 0 or 1 occurred\"\n",
      "Warning message:\n",
      "\"glm.fit: fitted probabilities numerically 0 or 1 occurred\"\n",
      "Warning message:\n",
      "\"glm.fit: fitted probabilities numerically 0 or 1 occurred\"\n",
      "Warning message:\n",
      "\"glm.fit: fitted probabilities numerically 0 or 1 occurred\"\n",
      "Warning message:\n",
      "\"glm.fit: fitted probabilities numerically 0 or 1 occurred\"\n",
      "Warning message:\n",
      "\"glm.fit: fitted probabilities numerically 0 or 1 occurred\"\n",
      "Warning message:\n",
      "\"glm.fit: fitted probabilities numerically 0 or 1 occurred\"\n",
      "Warning message:\n",
      "\"glm.fit: fitted probabilities numerically 0 or 1 occurred\"\n",
      "Warning message:\n",
      "\"glm.fit: fitted probabilities numerically 0 or 1 occurred\"\n",
      "Warning message:\n",
      "\"glm.fit: fitted probabilities numerically 0 or 1 occurred\"\n",
      "Warning message:\n",
      "\"glm.fit: fitted probabilities numerically 0 or 1 occurred\"\n",
      "Warning message:\n",
      "\"glm.fit: fitted probabilities numerically 0 or 1 occurred\"\n",
      "Warning message:\n",
      "\"glm.fit: fitted probabilities numerically 0 or 1 occurred\"\n",
      "Warning message:\n",
      "\"glm.fit: fitted probabilities numerically 0 or 1 occurred\"\n",
      "Warning message:\n",
      "\"glm.fit: fitted probabilities numerically 0 or 1 occurred\"\n",
      "Warning message:\n",
      "\"glm.fit: fitted probabilities numerically 0 or 1 occurred\"\n",
      "Warning message:\n",
      "\"glm.fit: fitted probabilities numerically 0 or 1 occurred\"\n",
      "Warning message:\n",
      "\"glm.fit: fitted probabilities numerically 0 or 1 occurred\"\n",
      "Warning message:\n",
      "\"glm.fit: fitted probabilities numerically 0 or 1 occurred\"\n",
      "Warning message:\n",
      "\"glm.fit: fitted probabilities numerically 0 or 1 occurred\"\n",
      "Warning message:\n",
      "\"glm.fit: fitted probabilities numerically 0 or 1 occurred\"\n",
      "Warning message:\n",
      "\"glm.fit: fitted probabilities numerically 0 or 1 occurred\"\n",
      "Warning message:\n",
      "\"glm.fit: fitted probabilities numerically 0 or 1 occurred\"\n",
      "Warning message:\n",
      "\"glm.fit: fitted probabilities numerically 0 or 1 occurred\"\n",
      "Warning message:\n",
      "\"glm.fit: fitted probabilities numerically 0 or 1 occurred\"\n",
      "Warning message:\n",
      "\"glm.fit: fitted probabilities numerically 0 or 1 occurred\"\n",
      "Warning message:\n",
      "\"glm.fit: fitted probabilities numerically 0 or 1 occurred\"\n",
      "Warning message:\n",
      "\"glm.fit: fitted probabilities numerically 0 or 1 occurred\"\n",
      "Warning message:\n",
      "\"glm.fit: fitted probabilities numerically 0 or 1 occurred\"\n",
      "Warning message:\n",
      "\"glm.fit: fitted probabilities numerically 0 or 1 occurred\"\n",
      "Warning message:\n",
      "\"glm.fit: fitted probabilities numerically 0 or 1 occurred\"\n",
      "Warning message:\n",
      "\"glm.fit: fitted probabilities numerically 0 or 1 occurred\"\n",
      "Warning message:\n",
      "\"glm.fit: fitted probabilities numerically 0 or 1 occurred\"\n",
      "Warning message:\n",
      "\"glm.fit: fitted probabilities numerically 0 or 1 occurred\"\n",
      "Warning message:\n",
      "\"glm.fit: fitted probabilities numerically 0 or 1 occurred\"\n",
      "Warning message:\n",
      "\"glm.fit: fitted probabilities numerically 0 or 1 occurred\"\n",
      "Warning message:\n",
      "\"glm.fit: fitted probabilities numerically 0 or 1 occurred\"\n",
      "Warning message:\n",
      "\"glm.fit: fitted probabilities numerically 0 or 1 occurred\"\n",
      "Warning message:\n",
      "\"glm.fit: fitted probabilities numerically 0 or 1 occurred\"\n",
      "Warning message:\n",
      "\"glm.fit: fitted probabilities numerically 0 or 1 occurred\"\n",
      "Warning message:\n",
      "\"glm.fit: fitted probabilities numerically 0 or 1 occurred\"\n",
      "Warning message:\n",
      "\"glm.fit: fitted probabilities numerically 0 or 1 occurred\"\n",
      "Warning message:\n",
      "\"glm.fit: fitted probabilities numerically 0 or 1 occurred\"\n",
      "Warning message:\n",
      "\"glm.fit: fitted probabilities numerically 0 or 1 occurred\"\n",
      "Warning message:\n",
      "\"glm.fit: fitted probabilities numerically 0 or 1 occurred\"\n",
      "Warning message:\n",
      "\"glm.fit: fitted probabilities numerically 0 or 1 occurred\"\n",
      "Warning message:\n",
      "\"glm.fit: fitted probabilities numerically 0 or 1 occurred\"\n",
      "Warning message:\n",
      "\"glm.fit: fitted probabilities numerically 0 or 1 occurred\"\n",
      "Warning message:\n",
      "\"glm.fit: fitted probabilities numerically 0 or 1 occurred\"\n",
      "Warning message:\n",
      "\"glm.fit: fitted probabilities numerically 0 or 1 occurred\"\n",
      "Warning message:\n",
      "\"glm.fit: fitted probabilities numerically 0 or 1 occurred\"\n",
      "Warning message:\n",
      "\"glm.fit: fitted probabilities numerically 0 or 1 occurred\"\n",
      "Warning message:\n",
      "\"glm.fit: fitted probabilities numerically 0 or 1 occurred\"\n",
      "Warning message:\n",
      "\"glm.fit: fitted probabilities numerically 0 or 1 occurred\"\n",
      "Warning message:\n",
      "\"glm.fit: fitted probabilities numerically 0 or 1 occurred\"\n",
      "Warning message:\n",
      "\"glm.fit: fitted probabilities numerically 0 or 1 occurred\"\n",
      "Warning message:\n",
      "\"glm.fit: fitted probabilities numerically 0 or 1 occurred\"\n",
      "Warning message:\n",
      "\"glm.fit: fitted probabilities numerically 0 or 1 occurred\"\n",
      "Warning message:\n",
      "\"glm.fit: fitted probabilities numerically 0 or 1 occurred\"\n",
      "Warning message:\n",
      "\"glm.fit: fitted probabilities numerically 0 or 1 occurred\"\n",
      "Warning message:\n",
      "\"glm.fit: fitted probabilities numerically 0 or 1 occurred\"\n",
      "Warning message:\n",
      "\"glm.fit: fitted probabilities numerically 0 or 1 occurred\"\n",
      "Warning message:\n",
      "\"glm.fit: fitted probabilities numerically 0 or 1 occurred\"\n",
      "Warning message:\n",
      "\"glm.fit: fitted probabilities numerically 0 or 1 occurred\"\n",
      "Warning message:\n",
      "\"glm.fit: fitted probabilities numerically 0 or 1 occurred\"\n",
      "Warning message:\n",
      "\"glm.fit: fitted probabilities numerically 0 or 1 occurred\"\n",
      "Warning message:\n",
      "\"glm.fit: fitted probabilities numerically 0 or 1 occurred\"\n",
      "Warning message:\n",
      "\"glm.fit: fitted probabilities numerically 0 or 1 occurred\"\n",
      "Warning message:\n",
      "\"glm.fit: fitted probabilities numerically 0 or 1 occurred\"\n",
      "Warning message:\n",
      "\"glm.fit: fitted probabilities numerically 0 or 1 occurred\"\n",
      "Warning message:\n",
      "\"glm.fit: fitted probabilities numerically 0 or 1 occurred\"\n",
      "Warning message:\n",
      "\"glm.fit: fitted probabilities numerically 0 or 1 occurred\"\n",
      "Warning message:\n",
      "\"glm.fit: fitted probabilities numerically 0 or 1 occurred\"\n",
      "Warning message:\n",
      "\"glm.fit: fitted probabilities numerically 0 or 1 occurred\"\n",
      "Warning message:\n",
      "\"glm.fit: fitted probabilities numerically 0 or 1 occurred\"\n",
      "Warning message:\n",
      "\"glm.fit: fitted probabilities numerically 0 or 1 occurred\"\n",
      "Warning message:\n",
      "\"glm.fit: fitted probabilities numerically 0 or 1 occurred\"\n",
      "Warning message:\n",
      "\"glm.fit: fitted probabilities numerically 0 or 1 occurred\"\n",
      "Warning message:\n",
      "\"glm.fit: fitted probabilities numerically 0 or 1 occurred\"\n",
      "Warning message:\n",
      "\"glm.fit: fitted probabilities numerically 0 or 1 occurred\"\n",
      "Warning message:\n",
      "\"glm.fit: fitted probabilities numerically 0 or 1 occurred\"\n",
      "Warning message:\n",
      "\"glm.fit: fitted probabilities numerically 0 or 1 occurred\"\n",
      "Warning message:\n",
      "\"glm.fit: fitted probabilities numerically 0 or 1 occurred\"\n",
      "Warning message:\n",
      "\"glm.fit: fitted probabilities numerically 0 or 1 occurred\"\n",
      "Warning message:\n",
      "\"glm.fit: fitted probabilities numerically 0 or 1 occurred\"\n",
      "Warning message:\n",
      "\"glm.fit: fitted probabilities numerically 0 or 1 occurred\"\n",
      "Warning message:\n",
      "\"glm.fit: fitted probabilities numerically 0 or 1 occurred\"\n",
      "Warning message:\n",
      "\"glm.fit: fitted probabilities numerically 0 or 1 occurred\"\n",
      "Warning message:\n",
      "\"glm.fit: fitted probabilities numerically 0 or 1 occurred\"\n",
      "Warning message:\n",
      "\"glm.fit: fitted probabilities numerically 0 or 1 occurred\"\n",
      "Warning message:\n",
      "\"glm.fit: fitted probabilities numerically 0 or 1 occurred\"\n",
      "Warning message:\n",
      "\"glm.fit: fitted probabilities numerically 0 or 1 occurred\"\n",
      "Warning message:\n",
      "\"glm.fit: fitted probabilities numerically 0 or 1 occurred\"\n",
      "Warning message:\n",
      "\"glm.fit: fitted probabilities numerically 0 or 1 occurred\"\n",
      "Warning message:\n",
      "\"glm.fit: fitted probabilities numerically 0 or 1 occurred\"\n",
      "Warning message:\n",
      "\"glm.fit: fitted probabilities numerically 0 or 1 occurred\"\n",
      "Warning message:\n",
      "\"glm.fit: fitted probabilities numerically 0 or 1 occurred\"\n",
      "Warning message:\n",
      "\"glm.fit: fitted probabilities numerically 0 or 1 occurred\"\n",
      "Warning message:\n",
      "\"glm.fit: fitted probabilities numerically 0 or 1 occurred\"\n",
      "Warning message:\n",
      "\"glm.fit: fitted probabilities numerically 0 or 1 occurred\"\n",
      "Warning message:\n",
      "\"glm.fit: fitted probabilities numerically 0 or 1 occurred\"\n",
      "Warning message:\n",
      "\"glm.fit: fitted probabilities numerically 0 or 1 occurred\"\n",
      "Warning message:\n",
      "\"glm.fit: fitted probabilities numerically 0 or 1 occurred\"\n",
      "Warning message:\n",
      "\"glm.fit: fitted probabilities numerically 0 or 1 occurred\"\n",
      "Warning message:\n",
      "\"glm.fit: fitted probabilities numerically 0 or 1 occurred\"\n",
      "Warning message:\n",
      "\"glm.fit: fitted probabilities numerically 0 or 1 occurred\"\n",
      "Warning message:\n",
      "\"glm.fit: fitted probabilities numerically 0 or 1 occurred\"\n",
      "Warning message:\n",
      "\"glm.fit: fitted probabilities numerically 0 or 1 occurred\"\n",
      "Warning message:\n",
      "\"glm.fit: fitted probabilities numerically 0 or 1 occurred\"\n",
      "Warning message:\n",
      "\"glm.fit: fitted probabilities numerically 0 or 1 occurred\"\n",
      "Warning message:\n",
      "\"glm.fit: fitted probabilities numerically 0 or 1 occurred\"\n",
      "Warning message:\n",
      "\"glm.fit: fitted probabilities numerically 0 or 1 occurred\"\n",
      "Warning message:\n",
      "\"glm.fit: fitted probabilities numerically 0 or 1 occurred\"\n",
      "Warning message:\n",
      "\"glm.fit: fitted probabilities numerically 0 or 1 occurred\"\n",
      "Warning message:\n",
      "\"glm.fit: fitted probabilities numerically 0 or 1 occurred\"\n",
      "Warning message:\n",
      "\"glm.fit: fitted probabilities numerically 0 or 1 occurred\"\n",
      "Warning message:\n",
      "\"glm.fit: fitted probabilities numerically 0 or 1 occurred\"\n",
      "Warning message:\n",
      "\"glm.fit: fitted probabilities numerically 0 or 1 occurred\"\n",
      "Warning message:\n",
      "\"glm.fit: fitted probabilities numerically 0 or 1 occurred\"\n",
      "Warning message:\n",
      "\"glm.fit: fitted probabilities numerically 0 or 1 occurred\"\n",
      "Warning message:\n",
      "\"glm.fit: fitted probabilities numerically 0 or 1 occurred\"\n",
      "Warning message:\n",
      "\"glm.fit: fitted probabilities numerically 0 or 1 occurred\"\n",
      "Warning message:\n",
      "\"glm.fit: fitted probabilities numerically 0 or 1 occurred\"\n",
      "Warning message:\n",
      "\"glm.fit: fitted probabilities numerically 0 or 1 occurred\"\n",
      "Warning message:\n",
      "\"glm.fit: fitted probabilities numerically 0 or 1 occurred\"\n",
      "Warning message:\n",
      "\"glm.fit: fitted probabilities numerically 0 or 1 occurred\"\n",
      "Warning message:\n",
      "\"glm.fit: fitted probabilities numerically 0 or 1 occurred\"\n",
      "Warning message:\n",
      "\"glm.fit: fitted probabilities numerically 0 or 1 occurred\"\n",
      "Warning message:\n",
      "\"glm.fit: fitted probabilities numerically 0 or 1 occurred\"\n",
      "Warning message:\n",
      "\"glm.fit: fitted probabilities numerically 0 or 1 occurred\"\n",
      "Warning message:\n",
      "\"glm.fit: fitted probabilities numerically 0 or 1 occurred\"\n",
      "Warning message:\n",
      "\"glm.fit: fitted probabilities numerically 0 or 1 occurred\"\n",
      "Warning message:\n",
      "\"glm.fit: fitted probabilities numerically 0 or 1 occurred\"\n",
      "Warning message:\n",
      "\"glm.fit: fitted probabilities numerically 0 or 1 occurred\"\n",
      "Warning message:\n",
      "\"glm.fit: fitted probabilities numerically 0 or 1 occurred\"\n",
      "Warning message:\n",
      "\"glm.fit: fitted probabilities numerically 0 or 1 occurred\"\n",
      "Warning message:\n",
      "\"glm.fit: fitted probabilities numerically 0 or 1 occurred\"\n",
      "Warning message:\n",
      "\"glm.fit: fitted probabilities numerically 0 or 1 occurred\"\n",
      "Warning message:\n",
      "\"glm.fit: fitted probabilities numerically 0 or 1 occurred\"\n",
      "Warning message:\n",
      "\"glm.fit: fitted probabilities numerically 0 or 1 occurred\"\n",
      "Warning message:\n",
      "\"glm.fit: fitted probabilities numerically 0 or 1 occurred\"\n",
      "Warning message:\n",
      "\"glm.fit: fitted probabilities numerically 0 or 1 occurred\"\n",
      "Warning message:\n",
      "\"glm.fit: fitted probabilities numerically 0 or 1 occurred\"\n",
      "Warning message:\n",
      "\"glm.fit: fitted probabilities numerically 0 or 1 occurred\"\n",
      "Warning message:\n",
      "\"glm.fit: fitted probabilities numerically 0 or 1 occurred\"\n",
      "Warning message:\n",
      "\"glm.fit: fitted probabilities numerically 0 or 1 occurred\"\n",
      "Warning message:\n",
      "\"glm.fit: fitted probabilities numerically 0 or 1 occurred\"\n",
      "Warning message:\n",
      "\"glm.fit: fitted probabilities numerically 0 or 1 occurred\"\n",
      "Warning message:\n",
      "\"glm.fit: fitted probabilities numerically 0 or 1 occurred\"\n",
      "Warning message:\n",
      "\"glm.fit: fitted probabilities numerically 0 or 1 occurred\"\n",
      "Warning message:\n",
      "\"glm.fit: fitted probabilities numerically 0 or 1 occurred\"\n",
      "Warning message:\n",
      "\"glm.fit: fitted probabilities numerically 0 or 1 occurred\"\n",
      "Warning message:\n",
      "\"glm.fit: fitted probabilities numerically 0 or 1 occurred\"\n",
      "Warning message:\n",
      "\"glm.fit: fitted probabilities numerically 0 or 1 occurred\"\n",
      "Warning message:\n",
      "\"glm.fit: fitted probabilities numerically 0 or 1 occurred\"\n",
      "Warning message:\n",
      "\"glm.fit: fitted probabilities numerically 0 or 1 occurred\"\n",
      "Warning message:\n",
      "\"glm.fit: fitted probabilities numerically 0 or 1 occurred\"\n",
      "Warning message:\n",
      "\"glm.fit: fitted probabilities numerically 0 or 1 occurred\"\n",
      "Warning message:\n",
      "\"glm.fit: fitted probabilities numerically 0 or 1 occurred\"\n",
      "Warning message:\n",
      "\"glm.fit: fitted probabilities numerically 0 or 1 occurred\"\n",
      "Warning message:\n",
      "\"glm.fit: fitted probabilities numerically 0 or 1 occurred\"\n",
      "Warning message:\n",
      "\"glm.fit: fitted probabilities numerically 0 or 1 occurred\"\n",
      "Warning message:\n",
      "\"glm.fit: fitted probabilities numerically 0 or 1 occurred\"\n",
      "Warning message:\n",
      "\"glm.fit: fitted probabilities numerically 0 or 1 occurred\"\n",
      "Warning message:\n",
      "\"glm.fit: fitted probabilities numerically 0 or 1 occurred\"\n",
      "Warning message:\n",
      "\"glm.fit: fitted probabilities numerically 0 or 1 occurred\"\n",
      "Warning message:\n",
      "\"glm.fit: fitted probabilities numerically 0 or 1 occurred\"\n",
      "Warning message:\n",
      "\"glm.fit: fitted probabilities numerically 0 or 1 occurred\"\n",
      "Warning message:\n",
      "\"glm.fit: fitted probabilities numerically 0 or 1 occurred\"\n",
      "Warning message:\n",
      "\"glm.fit: fitted probabilities numerically 0 or 1 occurred\"\n",
      "Warning message:\n",
      "\"glm.fit: fitted probabilities numerically 0 or 1 occurred\"\n",
      "Warning message:\n",
      "\"glm.fit: fitted probabilities numerically 0 or 1 occurred\"\n",
      "Warning message:\n",
      "\"glm.fit: fitted probabilities numerically 0 or 1 occurred\"\n",
      "Warning message:\n",
      "\"glm.fit: fitted probabilities numerically 0 or 1 occurred\"\n",
      "Warning message:\n",
      "\"glm.fit: fitted probabilities numerically 0 or 1 occurred\"\n",
      "Warning message:\n",
      "\"glm.fit: fitted probabilities numerically 0 or 1 occurred\"\n",
      "Warning message:\n",
      "\"glm.fit: fitted probabilities numerically 0 or 1 occurred\"\n",
      "Warning message:\n",
      "\"glm.fit: fitted probabilities numerically 0 or 1 occurred\"\n",
      "Warning message:\n",
      "\"glm.fit: fitted probabilities numerically 0 or 1 occurred\"\n",
      "Warning message:\n",
      "\"glm.fit: fitted probabilities numerically 0 or 1 occurred\"\n",
      "Warning message:\n",
      "\"glm.fit: fitted probabilities numerically 0 or 1 occurred\"\n",
      "Warning message:\n",
      "\"glm.fit: fitted probabilities numerically 0 or 1 occurred\"\n",
      "Warning message:\n",
      "\"glm.fit: fitted probabilities numerically 0 or 1 occurred\"\n",
      "Warning message:\n",
      "\"glm.fit: fitted probabilities numerically 0 or 1 occurred\"\n",
      "Warning message:\n",
      "\"glm.fit: fitted probabilities numerically 0 or 1 occurred\"\n",
      "Warning message:\n",
      "\"glm.fit: fitted probabilities numerically 0 or 1 occurred\"\n",
      "Warning message:\n",
      "\"glm.fit: fitted probabilities numerically 0 or 1 occurred\"\n",
      "Warning message:\n",
      "\"glm.fit: fitted probabilities numerically 0 or 1 occurred\"\n",
      "Warning message:\n",
      "\"glm.fit: fitted probabilities numerically 0 or 1 occurred\"\n",
      "Warning message:\n",
      "\"glm.fit: fitted probabilities numerically 0 or 1 occurred\"\n",
      "Warning message:\n",
      "\"glm.fit: fitted probabilities numerically 0 or 1 occurred\"\n",
      "Warning message:\n",
      "\"glm.fit: fitted probabilities numerically 0 or 1 occurred\"\n",
      "Warning message:\n",
      "\"glm.fit: fitted probabilities numerically 0 or 1 occurred\"\n",
      "Warning message:\n",
      "\"glm.fit: fitted probabilities numerically 0 or 1 occurred\"\n",
      "Warning message:\n",
      "\"glm.fit: fitted probabilities numerically 0 or 1 occurred\"\n",
      "Warning message:\n",
      "\"glm.fit: fitted probabilities numerically 0 or 1 occurred\"\n",
      "Warning message:\n",
      "\"glm.fit: fitted probabilities numerically 0 or 1 occurred\"\n",
      "Warning message:\n",
      "\"glm.fit: fitted probabilities numerically 0 or 1 occurred\"\n",
      "Warning message:\n",
      "\"glm.fit: fitted probabilities numerically 0 or 1 occurred\"\n",
      "Warning message:\n",
      "\"glm.fit: fitted probabilities numerically 0 or 1 occurred\"\n",
      "Warning message:\n",
      "\"glm.fit: fitted probabilities numerically 0 or 1 occurred\"\n",
      "Warning message:\n",
      "\"glm.fit: fitted probabilities numerically 0 or 1 occurred\"\n",
      "Warning message:\n",
      "\"glm.fit: fitted probabilities numerically 0 or 1 occurred\"\n"
     ]
    },
    {
     "data": {
      "text/html": [
       "<table class=\"dataframe\">\n",
       "<caption>A matrix: 25 × 3 of type dbl</caption>\n",
       "<thead>\n",
       "\t<tr><th></th><th scope=col></th><th scope=col>0.5 %</th><th scope=col>99.5 %</th></tr>\n",
       "</thead>\n",
       "<tbody>\n",
       "\t<tr><th scope=row>(Intercept)</th><td>-3.025918e+00</td><td>-4.299886e+00</td><td>-1.929719e+00</td></tr>\n",
       "\t<tr><th scope=row>Time</th><td>-6.925134e-06</td><td>-1.909294e-05</td><td> 4.567270e-06</td></tr>\n",
       "\t<tr><th scope=row>V1</th><td> 6.411901e-01</td><td>-3.862303e-02</td><td> 1.430081e+00</td></tr>\n",
       "\t<tr><th scope=row>V4</th><td> 1.326680e+00</td><td> 8.248594e-01</td><td> 1.927616e+00</td></tr>\n",
       "\t<tr><th scope=row>V5</th><td> 4.860934e-01</td><td>-1.200721e-01</td><td> 1.129830e+00</td></tr>\n",
       "\t<tr><th scope=row>V6</th><td>-3.573795e-01</td><td>-1.142463e+00</td><td> 2.230626e-01</td></tr>\n",
       "\t<tr><th scope=row>V7</th><td>-4.152390e-01</td><td>-1.117883e+00</td><td> 2.213456e-01</td></tr>\n",
       "\t<tr><th scope=row>V8</th><td>-5.897131e-01</td><td>-1.156815e+00</td><td>-6.481892e-02</td></tr>\n",
       "\t<tr><th scope=row>V9</th><td>-4.320368e-01</td><td>-1.142257e+00</td><td> 2.024661e-01</td></tr>\n",
       "\t<tr><th scope=row>V10</th><td>-8.271249e-01</td><td>-1.791604e+00</td><td>-8.481254e-02</td></tr>\n",
       "\t<tr><th scope=row>V11</th><td> 3.089200e-01</td><td>-1.682733e-01</td><td> 8.008391e-01</td></tr>\n",
       "\t<tr><th scope=row>V12</th><td>-9.260126e-01</td><td>-1.529418e+00</td><td>-3.737987e-01</td></tr>\n",
       "\t<tr><th scope=row>V13</th><td>-3.890078e-01</td><td>-8.286261e-01</td><td> 3.257340e-02</td></tr>\n",
       "\t<tr><th scope=row>V14</th><td>-9.938829e-01</td><td>-1.558164e+00</td><td>-4.842004e-01</td></tr>\n",
       "\t<tr><th scope=row>V15</th><td>-5.482240e-02</td><td>-5.151950e-01</td><td> 4.096829e-01</td></tr>\n",
       "\t<tr><th scope=row>V16</th><td>-4.276886e-01</td><td>-9.374880e-01</td><td> 8.830389e-02</td></tr>\n",
       "\t<tr><th scope=row>V19</th><td> 4.434126e-02</td><td>-3.842158e-01</td><td> 4.896417e-01</td></tr>\n",
       "\t<tr><th scope=row>V20</th><td>-5.216769e-01</td><td>-1.351619e+00</td><td> 1.543249e-01</td></tr>\n",
       "\t<tr><th scope=row>V21</th><td> 5.881475e-02</td><td>-3.946203e-01</td><td> 4.984446e-01</td></tr>\n",
       "\t<tr><th scope=row>V22</th><td> 3.817563e-01</td><td>-1.516387e-01</td><td> 9.576001e-01</td></tr>\n",
       "\t<tr><th scope=row>V23</th><td> 1.259733e-01</td><td>-2.326135e-01</td><td> 5.260110e-01</td></tr>\n",
       "\t<tr><th scope=row>V24</th><td> 2.993019e-02</td><td>-5.503498e-01</td><td> 5.938533e-01</td></tr>\n",
       "\t<tr><th scope=row>V27</th><td> 1.532241e-01</td><td>-4.932179e-01</td><td> 7.911981e-01</td></tr>\n",
       "\t<tr><th scope=row>V28</th><td> 7.735813e-03</td><td>-5.594551e-01</td><td> 4.908973e-01</td></tr>\n",
       "\t<tr><th scope=row>Amount</th><td> 3.274768e-03</td><td>-6.778928e-05</td><td> 7.098516e-03</td></tr>\n",
       "</tbody>\n",
       "</table>\n"
      ],
      "text/latex": [
       "A matrix: 25 × 3 of type dbl\n",
       "\\begin{tabular}{r|lll}\n",
       "  &  & 0.5 \\% & 99.5 \\%\\\\\n",
       "\\hline\n",
       "\t(Intercept) & -3.025918e+00 & -4.299886e+00 & -1.929719e+00\\\\\n",
       "\tTime & -6.925134e-06 & -1.909294e-05 &  4.567270e-06\\\\\n",
       "\tV1 &  6.411901e-01 & -3.862303e-02 &  1.430081e+00\\\\\n",
       "\tV4 &  1.326680e+00 &  8.248594e-01 &  1.927616e+00\\\\\n",
       "\tV5 &  4.860934e-01 & -1.200721e-01 &  1.129830e+00\\\\\n",
       "\tV6 & -3.573795e-01 & -1.142463e+00 &  2.230626e-01\\\\\n",
       "\tV7 & -4.152390e-01 & -1.117883e+00 &  2.213456e-01\\\\\n",
       "\tV8 & -5.897131e-01 & -1.156815e+00 & -6.481892e-02\\\\\n",
       "\tV9 & -4.320368e-01 & -1.142257e+00 &  2.024661e-01\\\\\n",
       "\tV10 & -8.271249e-01 & -1.791604e+00 & -8.481254e-02\\\\\n",
       "\tV11 &  3.089200e-01 & -1.682733e-01 &  8.008391e-01\\\\\n",
       "\tV12 & -9.260126e-01 & -1.529418e+00 & -3.737987e-01\\\\\n",
       "\tV13 & -3.890078e-01 & -8.286261e-01 &  3.257340e-02\\\\\n",
       "\tV14 & -9.938829e-01 & -1.558164e+00 & -4.842004e-01\\\\\n",
       "\tV15 & -5.482240e-02 & -5.151950e-01 &  4.096829e-01\\\\\n",
       "\tV16 & -4.276886e-01 & -9.374880e-01 &  8.830389e-02\\\\\n",
       "\tV19 &  4.434126e-02 & -3.842158e-01 &  4.896417e-01\\\\\n",
       "\tV20 & -5.216769e-01 & -1.351619e+00 &  1.543249e-01\\\\\n",
       "\tV21 &  5.881475e-02 & -3.946203e-01 &  4.984446e-01\\\\\n",
       "\tV22 &  3.817563e-01 & -1.516387e-01 &  9.576001e-01\\\\\n",
       "\tV23 &  1.259733e-01 & -2.326135e-01 &  5.260110e-01\\\\\n",
       "\tV24 &  2.993019e-02 & -5.503498e-01 &  5.938533e-01\\\\\n",
       "\tV27 &  1.532241e-01 & -4.932179e-01 &  7.911981e-01\\\\\n",
       "\tV28 &  7.735813e-03 & -5.594551e-01 &  4.908973e-01\\\\\n",
       "\tAmount &  3.274768e-03 & -6.778928e-05 &  7.098516e-03\\\\\n",
       "\\end{tabular}\n"
      ],
      "text/markdown": [
       "\n",
       "A matrix: 25 × 3 of type dbl\n",
       "\n",
       "| <!--/--> | <!----> | 0.5 % | 99.5 % |\n",
       "|---|---|---|---|\n",
       "| (Intercept) | -3.025918e+00 | -4.299886e+00 | -1.929719e+00 |\n",
       "| Time | -6.925134e-06 | -1.909294e-05 |  4.567270e-06 |\n",
       "| V1 |  6.411901e-01 | -3.862303e-02 |  1.430081e+00 |\n",
       "| V4 |  1.326680e+00 |  8.248594e-01 |  1.927616e+00 |\n",
       "| V5 |  4.860934e-01 | -1.200721e-01 |  1.129830e+00 |\n",
       "| V6 | -3.573795e-01 | -1.142463e+00 |  2.230626e-01 |\n",
       "| V7 | -4.152390e-01 | -1.117883e+00 |  2.213456e-01 |\n",
       "| V8 | -5.897131e-01 | -1.156815e+00 | -6.481892e-02 |\n",
       "| V9 | -4.320368e-01 | -1.142257e+00 |  2.024661e-01 |\n",
       "| V10 | -8.271249e-01 | -1.791604e+00 | -8.481254e-02 |\n",
       "| V11 |  3.089200e-01 | -1.682733e-01 |  8.008391e-01 |\n",
       "| V12 | -9.260126e-01 | -1.529418e+00 | -3.737987e-01 |\n",
       "| V13 | -3.890078e-01 | -8.286261e-01 |  3.257340e-02 |\n",
       "| V14 | -9.938829e-01 | -1.558164e+00 | -4.842004e-01 |\n",
       "| V15 | -5.482240e-02 | -5.151950e-01 |  4.096829e-01 |\n",
       "| V16 | -4.276886e-01 | -9.374880e-01 |  8.830389e-02 |\n",
       "| V19 |  4.434126e-02 | -3.842158e-01 |  4.896417e-01 |\n",
       "| V20 | -5.216769e-01 | -1.351619e+00 |  1.543249e-01 |\n",
       "| V21 |  5.881475e-02 | -3.946203e-01 |  4.984446e-01 |\n",
       "| V22 |  3.817563e-01 | -1.516387e-01 |  9.576001e-01 |\n",
       "| V23 |  1.259733e-01 | -2.326135e-01 |  5.260110e-01 |\n",
       "| V24 |  2.993019e-02 | -5.503498e-01 |  5.938533e-01 |\n",
       "| V27 |  1.532241e-01 | -4.932179e-01 |  7.911981e-01 |\n",
       "| V28 |  7.735813e-03 | -5.594551e-01 |  4.908973e-01 |\n",
       "| Amount |  3.274768e-03 | -6.778928e-05 |  7.098516e-03 |\n",
       "\n"
      ],
      "text/plain": [
       "                          0.5 %         99.5 %       \n",
       "(Intercept) -3.025918e+00 -4.299886e+00 -1.929719e+00\n",
       "Time        -6.925134e-06 -1.909294e-05  4.567270e-06\n",
       "V1           6.411901e-01 -3.862303e-02  1.430081e+00\n",
       "V4           1.326680e+00  8.248594e-01  1.927616e+00\n",
       "V5           4.860934e-01 -1.200721e-01  1.129830e+00\n",
       "V6          -3.573795e-01 -1.142463e+00  2.230626e-01\n",
       "V7          -4.152390e-01 -1.117883e+00  2.213456e-01\n",
       "V8          -5.897131e-01 -1.156815e+00 -6.481892e-02\n",
       "V9          -4.320368e-01 -1.142257e+00  2.024661e-01\n",
       "V10         -8.271249e-01 -1.791604e+00 -8.481254e-02\n",
       "V11          3.089200e-01 -1.682733e-01  8.008391e-01\n",
       "V12         -9.260126e-01 -1.529418e+00 -3.737987e-01\n",
       "V13         -3.890078e-01 -8.286261e-01  3.257340e-02\n",
       "V14         -9.938829e-01 -1.558164e+00 -4.842004e-01\n",
       "V15         -5.482240e-02 -5.151950e-01  4.096829e-01\n",
       "V16         -4.276886e-01 -9.374880e-01  8.830389e-02\n",
       "V19          4.434126e-02 -3.842158e-01  4.896417e-01\n",
       "V20         -5.216769e-01 -1.351619e+00  1.543249e-01\n",
       "V21          5.881475e-02 -3.946203e-01  4.984446e-01\n",
       "V22          3.817563e-01 -1.516387e-01  9.576001e-01\n",
       "V23          1.259733e-01 -2.326135e-01  5.260110e-01\n",
       "V24          2.993019e-02 -5.503498e-01  5.938533e-01\n",
       "V27          1.532241e-01 -4.932179e-01  7.911981e-01\n",
       "V28          7.735813e-03 -5.594551e-01  4.908973e-01\n",
       "Amount       3.274768e-03 -6.778928e-05  7.098516e-03"
      ]
     },
     "metadata": {},
     "output_type": "display_data"
    }
   ],
   "source": [
    "cbind(coef(fit10_1), confint(fit10_1, level=0.99))"
   ]
  },
  {
   "cell_type": "markdown",
   "metadata": {},
   "source": [
    "## Linear Prediction"
   ]
  },
  {
   "cell_type": "code",
   "execution_count": 102,
   "metadata": {
    "vscode": {
     "languageId": "r"
    }
   },
   "outputs": [],
   "source": [
    "down_fraud_data_1$Class <- as.numeric(down_fraud_data_1$Class)"
   ]
  },
  {
   "cell_type": "code",
   "execution_count": 107,
   "metadata": {
    "vscode": {
     "languageId": "r"
    }
   },
   "outputs": [
    {
     "data": {
      "image/png": "[encoded data removed]",
      "text/plain": [
       "plot without title"
      ]
     },
     "metadata": {
      "image/png": {
       "height": 420,
       "width": 420
      }
     },
     "output_type": "display_data"
    }
   ],
   "source": [
    "# Load necessary libraries\n",
    "library(ggplot2)\n",
    "library(reshape2)\n",
    "\n",
    "# Create heatmap with annotations rounded to 1 decimal place and font size adjusted\n",
    "heatmap_with_numbers <- ggplot(melted_correlation, aes(Var1, Var2, fill = value, label = round(value, 1))) +\n",
    "  geom_tile(color = \"white\") +\n",
    "  scale_fill_gradient2(low = \"blue\", high = \"red\", mid = \"white\", \n",
    "                       midpoint = 0, limit = c(-1, 1), space = \"Lab\", \n",
    "                       name = \"Correlation\") +\n",
    "  geom_text(color = \"black\", size = 2) +  # Adjust font size\n",
    "  theme_minimal() +\n",
    "  theme(axis.text.x = element_text(angle = 45, vjust = 1, \n",
    "                                   size = 8, hjust = 1)) +\n",
    "  labs(title = \"Correlation Matrix Heatmap\")\n",
    "\n",
    "# Print the heatmap with annotations rounded to 1 decimal place and adjusted font size\n",
    "print(heatmap_with_numbers)"
   ]
  },
  {
   "cell_type": "code",
   "execution_count": 110,
   "metadata": {
    "vscode": {
     "languageId": "r"
    }
   },
   "outputs": [
    {
     "data": {
      "text/plain": [
       "\n",
       "Call:\n",
       "lm(formula = Class ~ . - V2 - V3 - V4 - V7 - V8 - V9 - V10 - \n",
       "    V11 - V12 - V14 - V16 - V17 - V18 - V25 - V26, data = down_fraud_data_1)\n",
       "\n",
       "Residuals:\n",
       "    Min      1Q  Median      3Q     Max \n",
       "-1.2161 -0.3352 -0.1006  0.3440  0.9532 \n",
       "\n",
       "Coefficients:\n",
       "              Estimate Std. Error t value Pr(>|t|)    \n",
       "(Intercept)  1.373e+00  3.137e-02  43.754  < 2e-16 ***\n",
       "Time        -9.098e-07  3.003e-07  -3.030 0.002514 ** \n",
       "V1          -6.008e-02  1.025e-02  -5.860 6.42e-09 ***\n",
       "V5           1.834e-02  9.771e-03   1.877 0.060863 .  \n",
       "V6          -1.464e-01  1.338e-02 -10.944  < 2e-16 ***\n",
       "V13         -6.752e-02  1.280e-02  -5.274 1.66e-07 ***\n",
       "V15         -4.543e-02  1.332e-02  -3.411 0.000676 ***\n",
       "V19          3.585e-02  1.033e-02   3.472 0.000541 ***\n",
       "V20          1.744e-02  1.255e-02   1.389 0.165047    \n",
       "V21          3.290e-02  7.441e-03   4.421 1.10e-05 ***\n",
       "V22          6.661e-02  1.376e-02   4.840 1.52e-06 ***\n",
       "V23          1.867e-02  8.693e-03   2.147 0.032025 *  \n",
       "V24         -5.224e-02  1.459e-02  -3.581 0.000360 ***\n",
       "V27          4.550e-03  6.799e-03   0.669 0.503531    \n",
       "V28          2.722e-02  1.115e-02   2.441 0.014829 *  \n",
       "Amount       2.599e-04  5.714e-05   4.549 6.11e-06 ***\n",
       "---\n",
       "Signif. codes:  0 '***' 0.001 '**' 0.01 '*' 0.05 '.' 0.1 ' ' 1\n",
       "\n",
       "Residual standard error: 0.4021 on 927 degrees of freedom\n",
       "Multiple R-squared:  0.3641,\tAdjusted R-squared:  0.3539 \n",
       "F-statistic: 35.39 on 15 and 927 DF,  p-value: < 2.2e-16\n"
      ]
     },
     "metadata": {},
     "output_type": "display_data"
    }
   ],
   "source": [
    "fit10_1_lm <- lm(Class ~ . - V2 - V3 - V4 -V7 - V8 - V9 - V10 -V11 - V12 - V14 -V16 - V17 - V18 - V25 - V26, data=down_fraud_data_1)\n",
    "summary(fit10_1_lm)"
   ]
  },
  {
   "cell_type": "code",
   "execution_count": 111,
   "metadata": {
    "vscode": {
     "languageId": "r"
    }
   },
   "outputs": [
    {
     "data": {
      "image/png": "[encoded data removed]",
      "text/plain": [
       "Plot with title \"\""
      ]
     },
     "metadata": {
      "image/png": {
       "height": 420,
       "width": 420
      }
     },
     "output_type": "display_data"
    }
   ],
   "source": [
    "par(mfrow=c(2,2))\n",
    "plot(fit10_1_lm)"
   ]
  },
  {
   "cell_type": "code",
   "execution_count": 112,
   "metadata": {
    "vscode": {
     "languageId": "r"
    }
   },
   "outputs": [
    {
     "data": {
      "text/plain": [
       "\n",
       "Call:\n",
       "lm(formula = Class ~ . - V2 - V3 - V17 - V18 - V25 - V26, data = down_fraud_data_1)\n",
       "\n",
       "Residuals:\n",
       "     Min       1Q   Median       3Q      Max \n",
       "-1.11668 -0.21716 -0.08897  0.20154  0.84159 \n",
       "\n",
       "Coefficients:\n",
       "              Estimate Std. Error t value Pr(>|t|)    \n",
       "(Intercept)  1.198e+00  2.629e-02  45.579  < 2e-16 ***\n",
       "Time        -1.817e-07  2.529e-07  -0.718 0.472663    \n",
       "V1          -3.848e-02  1.009e-02  -3.814 0.000146 ***\n",
       "V4           9.749e-02  1.083e-02   8.999  < 2e-16 ***\n",
       "V5           5.629e-03  1.091e-02   0.516 0.606029    \n",
       "V6          -2.660e-02  1.298e-02  -2.050 0.040665 *  \n",
       "V7           3.055e-02  1.171e-02   2.608 0.009248 ** \n",
       "V8          -1.820e-02  5.605e-03  -3.247 0.001208 ** \n",
       "V9           2.653e-02  1.022e-02   2.596 0.009572 ** \n",
       "V10         -2.764e-02  9.555e-03  -2.893 0.003910 ** \n",
       "V11         -1.293e-03  1.066e-02  -0.121 0.903530    \n",
       "V12          1.273e-02  8.342e-03   1.526 0.127293    \n",
       "V13         -3.411e-02  1.006e-02  -3.391 0.000726 ***\n",
       "V14         -4.860e-02  6.773e-03  -7.175 1.49e-12 ***\n",
       "V15          1.384e-03  1.074e-02   0.129 0.897491    \n",
       "V16          4.267e-03  8.339e-03   0.512 0.608965    \n",
       "V19          9.968e-03  9.426e-03   1.057 0.290601    \n",
       "V20          1.135e-02  1.128e-02   1.006 0.314720    \n",
       "V21          1.574e-02  6.279e-03   2.506 0.012367 *  \n",
       "V22          1.287e-02  1.153e-02   1.116 0.264771    \n",
       "V23         -1.197e-02  8.065e-03  -1.484 0.138103    \n",
       "V24          7.669e-03  1.154e-02   0.665 0.506342    \n",
       "V27         -5.758e-03  5.691e-03  -1.012 0.311847    \n",
       "V28          1.219e-02  9.059e-03   1.346 0.178609    \n",
       "Amount       5.375e-05  6.928e-05   0.776 0.438055    \n",
       "---\n",
       "Signif. codes:  0 '***' 0.001 '**' 0.01 '*' 0.05 '.' 0.1 ' ' 1\n",
       "\n",
       "Residual standard error: 0.3078 on 918 degrees of freedom\n",
       "Multiple R-squared:  0.6311,\tAdjusted R-squared:  0.6215 \n",
       "F-statistic: 65.44 on 24 and 918 DF,  p-value: < 2.2e-16\n"
      ]
     },
     "metadata": {},
     "output_type": "display_data"
    }
   ],
   "source": [
    "og_fit10_1_lm <- lm(Class ~ . - V2 - V3 - V17 - V18 - V25 - V26, data=down_fraud_data_1)\n",
    "summary(og_fit10_1_lm)"
   ]
  },
  {
   "cell_type": "code",
   "execution_count": 113,
   "metadata": {
    "vscode": {
     "languageId": "r"
    }
   },
   "outputs": [
    {
     "data": {
      "image/png": "[encoded data removed]",
      "text/plain": [
       "Plot with title \"\""
      ]
     },
     "metadata": {
      "image/png": {
       "height": 420,
       "width": 420
      }
     },
     "output_type": "display_data"
    }
   ],
   "source": [
    "par(mfrow=c(2,2))\n",
    "plot(og_fit10_1_lm)"
   ]
  }
 ],
 "metadata": {
  "kernelspec": {
   "display_name": "R",
   "language": "R",
   "name": "ir"
  },
  "language_info": {
   "codemirror_mode": "r",
   "file_extension": ".r",
   "mimetype": "text/x-r-source",
   "name": "R",
   "pygments_lexer": "r",
   "version": "4.3.2"
  }
 },
 "nbformat": 4,
 "nbformat_minor": 2
}
